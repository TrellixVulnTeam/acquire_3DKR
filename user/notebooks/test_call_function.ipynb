{
 "cells": [
  {
   "cell_type": "code",
   "execution_count": 1,
   "metadata": {},
   "outputs": [],
   "source": [
    "from Acquire.Service import call_function, Service"
   ]
  },
  {
   "cell_type": "code",
   "execution_count": 2,
   "metadata": {},
   "outputs": [],
   "source": [
    "from Acquire.Crypto import PrivateKey"
   ]
  },
  {
   "cell_type": "code",
   "execution_count": 3,
   "metadata": {},
   "outputs": [],
   "source": [
    "privkey = PrivateKey()"
   ]
  },
  {
   "cell_type": "code",
   "execution_count": 4,
   "metadata": {},
   "outputs": [],
   "source": [
    "service_url = \"http://identity.acquire-aaai.com:8080/t/identity\""
   ]
  },
  {
   "cell_type": "code",
   "execution_count": 5,
   "metadata": {},
   "outputs": [
    {
     "name": "stdout",
     "output_type": "stream",
     "text": [
      "\"{\\\"status\\\": -1, \\\"message\\\": \\\"Error <class 'UnboundLocalError'>: local variable 'result' referenced before assignment\\\"}\"\n"
     ]
    },
    {
     "ename": "RemoteFunctionCallError",
     "evalue": "Error calling 'reset' at 'http://identity.acquire-aaai.com:8080/t/identity': Function exited with status -1: Error <class 'UnboundLocalError'>: local variable 'result' referenced before assignment",
     "output_type": "error",
     "traceback": [
      "\u001b[0;31m---------------------------------------------------------------------------\u001b[0m",
      "\u001b[0;31mRemoteFunctionCallError\u001b[0m                   Traceback (most recent call last)",
      "\u001b[0;32m~/Work/acquire/source/Acquire/Service/_function.py\u001b[0m in \u001b[0;36mcall_function\u001b[0;34m(service_url, function, args_key, response_key, public_cert, args, **kwargs)\u001b[0m\n\u001b[1;32m    349\u001b[0m     \u001b[0;32mtry\u001b[0m\u001b[0;34m:\u001b[0m\u001b[0;34m\u001b[0m\u001b[0m\n\u001b[0;32m--> 350\u001b[0;31m         \u001b[0mresult\u001b[0m \u001b[0;34m=\u001b[0m \u001b[0munpack_return_value\u001b[0m\u001b[0;34m(\u001b[0m\u001b[0mresult\u001b[0m\u001b[0;34m,\u001b[0m \u001b[0mresponse_key\u001b[0m\u001b[0;34m,\u001b[0m \u001b[0mpublic_cert\u001b[0m\u001b[0;34m)\u001b[0m\u001b[0;34m\u001b[0m\u001b[0m\n\u001b[0m\u001b[1;32m    351\u001b[0m     \u001b[0;32mexcept\u001b[0m \u001b[0mException\u001b[0m \u001b[0;32mas\u001b[0m \u001b[0me\u001b[0m\u001b[0;34m:\u001b[0m\u001b[0;34m\u001b[0m\u001b[0m\n",
      "\u001b[0;32m~/Work/acquire/source/Acquire/Service/_function.py\u001b[0m in \u001b[0;36munpack_return_value\u001b[0;34m(return_value, key, public_cert)\u001b[0m\n\u001b[1;32m    230\u001b[0m     return unpack_arguments(return_value, key, public_cert,\n\u001b[0;32m--> 231\u001b[0;31m                             is_return_value=True)\n\u001b[0m\u001b[1;32m    232\u001b[0m \u001b[0;34m\u001b[0m\u001b[0m\n",
      "\u001b[0;32m~/Work/acquire/source/Acquire/Service/_function.py\u001b[0m in \u001b[0;36munpack_arguments\u001b[0;34m(args, key, public_cert, is_return_value)\u001b[0m\n\u001b[1;32m    184\u001b[0m                     \"Function exited with status %d: %s\" % (data[\"status\"],\n\u001b[0;32m--> 185\u001b[0;31m                                                             data[\"message\"]))\n\u001b[0m\u001b[1;32m    186\u001b[0m \u001b[0;34m\u001b[0m\u001b[0m\n",
      "\u001b[0;31mRemoteFunctionCallError\u001b[0m: Function exited with status -1: Error <class 'UnboundLocalError'>: local variable 'result' referenced before assignment",
      "\nDuring handling of the above exception, another exception occurred:\n",
      "\u001b[0;31mRemoteFunctionCallError\u001b[0m                   Traceback (most recent call last)",
      "\u001b[0;32m<ipython-input-5-f9a37d9ad394>\u001b[0m in \u001b[0;36m<module>\u001b[0;34m()\u001b[0m\n\u001b[0;32m----> 1\u001b[0;31m \u001b[0mresponse\u001b[0m \u001b[0;34m=\u001b[0m \u001b[0mcall_function\u001b[0m\u001b[0;34m(\u001b[0m\u001b[0mservice_url\u001b[0m\u001b[0;34m,\u001b[0m \u001b[0mfunction\u001b[0m\u001b[0;34m=\u001b[0m\u001b[0;34m\"reset\"\u001b[0m\u001b[0;34m)\u001b[0m\u001b[0;34m\u001b[0m\u001b[0m\n\u001b[0m",
      "\u001b[0;32m~/Work/acquire/source/Acquire/Service/_function.py\u001b[0m in \u001b[0;36mcall_function\u001b[0;34m(service_url, function, args_key, response_key, public_cert, args, **kwargs)\u001b[0m\n\u001b[1;32m    351\u001b[0m     \u001b[0;32mexcept\u001b[0m \u001b[0mException\u001b[0m \u001b[0;32mas\u001b[0m \u001b[0me\u001b[0m\u001b[0;34m:\u001b[0m\u001b[0;34m\u001b[0m\u001b[0m\n\u001b[1;32m    352\u001b[0m         raise RemoteFunctionCallError(\n\u001b[0;32m--> 353\u001b[0;31m             \"Error calling '%s' at '%s': %s\" % (function, service_url, str(e)))\n\u001b[0m\u001b[1;32m    354\u001b[0m \u001b[0;34m\u001b[0m\u001b[0m\n\u001b[1;32m    355\u001b[0m     \u001b[0;32mif\u001b[0m \u001b[0mlen\u001b[0m\u001b[0;34m(\u001b[0m\u001b[0mresult\u001b[0m\u001b[0;34m)\u001b[0m \u001b[0;34m==\u001b[0m \u001b[0;36m1\u001b[0m \u001b[0;32mand\u001b[0m \u001b[0;34m\"error\"\u001b[0m \u001b[0;32min\u001b[0m \u001b[0mresult\u001b[0m\u001b[0;34m:\u001b[0m\u001b[0;34m\u001b[0m\u001b[0m\n",
      "\u001b[0;31mRemoteFunctionCallError\u001b[0m: Error calling 'reset' at 'http://identity.acquire-aaai.com:8080/t/identity': Function exited with status -1: Error <class 'UnboundLocalError'>: local variable 'result' referenced before assignment"
     ]
    }
   ],
   "source": [
    "response = call_function(service_url, function=\"reset\")"
   ]
  },
  {
   "cell_type": "code",
   "execution_count": null,
   "metadata": {},
   "outputs": [],
   "source": [
    "response"
   ]
  },
  {
   "cell_type": "code",
   "execution_count": null,
   "metadata": {},
   "outputs": [],
   "source": [
    "service = Service.from_data(response[\"service_info\"])"
   ]
  },
  {
   "cell_type": "code",
   "execution_count": null,
   "metadata": {},
   "outputs": [],
   "source": [
    "service"
   ]
  },
  {
   "cell_type": "code",
   "execution_count": null,
   "metadata": {},
   "outputs": [],
   "source": [
    "function = \"open\""
   ]
  },
  {
   "cell_type": "code",
   "execution_count": null,
   "metadata": {},
   "outputs": [],
   "source": [
    "args = {}"
   ]
  },
  {
   "cell_type": "code",
   "execution_count": null,
   "metadata": {},
   "outputs": [],
   "source": [
    "response = call_function(service_url, function=function, args=args, \n",
    "                         response_key=privkey, args_key=service.public_key(),\n",
    "                         public_cert=service.public_certificate())"
   ]
  },
  {
   "cell_type": "code",
   "execution_count": null,
   "metadata": {},
   "outputs": [],
   "source": [
    "response"
   ]
  },
  {
   "cell_type": "code",
   "execution_count": null,
   "metadata": {},
   "outputs": [],
   "source": []
  }
 ],
 "metadata": {
  "kernelspec": {
   "display_name": "Python 3",
   "language": "python",
   "name": "python3"
  },
  "language_info": {
   "codemirror_mode": {
    "name": "ipython",
    "version": 3
   },
   "file_extension": ".py",
   "mimetype": "text/x-python",
   "name": "python",
   "nbconvert_exporter": "python",
   "pygments_lexer": "ipython3",
   "version": "3.6.6"
  }
 },
 "nbformat": 4,
 "nbformat_minor": 2
}
