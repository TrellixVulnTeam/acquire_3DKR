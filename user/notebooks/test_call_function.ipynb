{
 "cells": [
  {
   "cell_type": "code",
   "execution_count": 1,
   "metadata": {},
   "outputs": [],
   "source": [
    "from Acquire.Service import call_function, Service"
   ]
  },
  {
   "cell_type": "code",
   "execution_count": 2,
   "metadata": {},
   "outputs": [],
   "source": [
    "from Acquire.Crypto import PrivateKey"
   ]
  },
  {
   "cell_type": "code",
   "execution_count": 3,
   "metadata": {},
   "outputs": [],
   "source": [
    "privkey = PrivateKey()"
   ]
  },
  {
   "cell_type": "code",
   "execution_count": 4,
   "metadata": {},
   "outputs": [],
   "source": [
    "service_url = \"http://identity.acquire-aaai.com:8080/t/storage\""
   ]
  },
  {
   "cell_type": "code",
   "execution_count": 5,
   "metadata": {},
   "outputs": [],
   "source": [
    "response = call_function(service_url)"
   ]
  },
  {
   "cell_type": "code",
   "execution_count": 6,
   "metadata": {},
   "outputs": [],
   "source": [
    "service = Service.from_data(response[\"service_info\"])"
   ]
  },
  {
   "cell_type": "code",
   "execution_count": 7,
   "metadata": {},
   "outputs": [],
   "source": [
    "function = \"open\""
   ]
  },
  {
   "cell_type": "code",
   "execution_count": 8,
   "metadata": {},
   "outputs": [],
   "source": [
    "args = {}"
   ]
  },
  {
   "cell_type": "code",
   "execution_count": 20,
   "metadata": {},
   "outputs": [
    {
     "ename": "RemoteFunctionCallError",
     "evalue": "Error calling 'open' at 'http://identity.acquire-aaai.com:8080/t/storage'. Server returned error code '-1' with message 'Error <class 'Acquire.Service._errors.MissingServiceAccountError'>: Unable to read the service info from the object store! : unhashable type: 'dict''",
     "output_type": "error",
     "traceback": [
      "\u001b[0;31m---------------------------------------------------------------------------\u001b[0m",
      "\u001b[0;31mRemoteFunctionCallError\u001b[0m                   Traceback (most recent call last)",
      "\u001b[0;32m<ipython-input-20-7267cad15fa2>\u001b[0m in \u001b[0;36m<module>\u001b[0;34m\u001b[0m\n\u001b[1;32m      1\u001b[0m response = call_function(service_url, function=function, args=args, \n\u001b[1;32m      2\u001b[0m                          \u001b[0mresponse_key\u001b[0m\u001b[0;34m=\u001b[0m\u001b[0mprivkey\u001b[0m\u001b[0;34m,\u001b[0m \u001b[0margs_key\u001b[0m\u001b[0;34m=\u001b[0m\u001b[0mservice\u001b[0m\u001b[0;34m.\u001b[0m\u001b[0mpublic_key\u001b[0m\u001b[0;34m(\u001b[0m\u001b[0;34m)\u001b[0m\u001b[0;34m,\u001b[0m\u001b[0;34m\u001b[0m\u001b[0m\n\u001b[0;32m----> 3\u001b[0;31m                          public_cert=service.public_certificate())\n\u001b[0m",
      "\u001b[0;32m~/Work/acquire/source/Acquire/Service/_function.py\u001b[0m in \u001b[0;36mcall_function\u001b[0;34m(service_url, function, args_key, response_key, public_cert, args, **kwargs)\u001b[0m\n\u001b[1;32m    290\u001b[0m                 \u001b[0;34m\"Error calling '%s' at '%s'. Server returned \"\u001b[0m\u001b[0;34m\u001b[0m\u001b[0m\n\u001b[1;32m    291\u001b[0m                 \u001b[0;34m\"error code '%d' with message '%s'\"\u001b[0m \u001b[0;34m%\u001b[0m\u001b[0;34m\u001b[0m\u001b[0m\n\u001b[0;32m--> 292\u001b[0;31m                 (function, service_url, result[\"status\"], result[\"message\"]))\n\u001b[0m\u001b[1;32m    293\u001b[0m \u001b[0;34m\u001b[0m\u001b[0m\n\u001b[1;32m    294\u001b[0m     \u001b[0;32mreturn\u001b[0m \u001b[0mresult\u001b[0m\u001b[0;34m\u001b[0m\u001b[0m\n",
      "\u001b[0;31mRemoteFunctionCallError\u001b[0m: Error calling 'open' at 'http://identity.acquire-aaai.com:8080/t/storage'. Server returned error code '-1' with message 'Error <class 'Acquire.Service._errors.MissingServiceAccountError'>: Unable to read the service info from the object store! : unhashable type: 'dict''"
     ]
    }
   ],
   "source": [
    "response = call_function(service_url, function=function, args=args, \n",
    "                         response_key=privkey, args_key=service.public_key(),\n",
    "                         public_cert=service.public_certificate())"
   ]
  },
  {
   "cell_type": "code",
   "execution_count": 16,
   "metadata": {},
   "outputs": [
    {
     "data": {
      "text/plain": [
       "{'status': 0, 'message': None}"
      ]
     },
     "execution_count": 16,
     "metadata": {},
     "output_type": "execute_result"
    }
   ],
   "source": [
    "response"
   ]
  },
  {
   "cell_type": "code",
   "execution_count": null,
   "metadata": {},
   "outputs": [],
   "source": []
  }
 ],
 "metadata": {
  "kernelspec": {
   "display_name": "Python 3",
   "language": "python",
   "name": "python3"
  },
  "language_info": {
   "codemirror_mode": {
    "name": "ipython",
    "version": 3
   },
   "file_extension": ".py",
   "mimetype": "text/x-python",
   "name": "python",
   "nbconvert_exporter": "python",
   "pygments_lexer": "ipython3",
   "version": "3.7.0"
  }
 },
 "nbformat": 4,
 "nbformat_minor": 2
}
