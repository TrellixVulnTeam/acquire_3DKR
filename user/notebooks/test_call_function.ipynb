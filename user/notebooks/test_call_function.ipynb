{
 "cells": [
  {
   "cell_type": "code",
   "execution_count": 1,
   "metadata": {},
   "outputs": [],
   "source": [
    "from Acquire.Service import call_function, Service"
   ]
  },
  {
   "cell_type": "code",
   "execution_count": 2,
   "metadata": {},
   "outputs": [],
   "source": [
    "from Acquire.Crypto import PrivateKey"
   ]
  },
  {
   "cell_type": "code",
   "execution_count": 3,
   "metadata": {},
   "outputs": [],
   "source": [
    "privkey = PrivateKey()"
   ]
  },
  {
   "cell_type": "code",
   "execution_count": 4,
   "metadata": {},
   "outputs": [],
   "source": [
    "service_url = \"http://identity.acquire-aaai.com:8080/t/storage\""
   ]
  },
  {
   "cell_type": "code",
   "execution_count": 5,
   "metadata": {},
   "outputs": [],
   "source": [
    "response = call_function(service_url)"
   ]
  },
  {
   "cell_type": "code",
   "execution_count": 6,
   "metadata": {},
   "outputs": [],
   "source": [
    "service = Service.from_data(response[\"service_info\"])"
   ]
  },
  {
   "cell_type": "code",
   "execution_count": 7,
   "metadata": {},
   "outputs": [],
   "source": [
    "function = \"open\""
   ]
  },
  {
   "cell_type": "code",
   "execution_count": 8,
   "metadata": {},
   "outputs": [],
   "source": [
    "args = {}"
   ]
  },
  {
   "cell_type": "code",
   "execution_count": 11,
   "metadata": {},
   "outputs": [
    {
     "ename": "RemoteFunctionCallError",
     "evalue": "Error calling 'open' at 'http://identity.acquire-aaai.com:8080/t/storage'. Server returned error code '-1' with message 'Error <class 'TypeError'>: unhashable type: 'dict''",
     "output_type": "error",
     "traceback": [
      "\u001b[0;31m---------------------------------------------------------------------------\u001b[0m",
      "\u001b[0;31mRemoteFunctionCallError\u001b[0m                   Traceback (most recent call last)",
      "\u001b[0;32m<ipython-input-11-7267cad15fa2>\u001b[0m in \u001b[0;36m<module>\u001b[0;34m\u001b[0m\n\u001b[1;32m      1\u001b[0m response = call_function(service_url, function=function, args=args, \n\u001b[1;32m      2\u001b[0m                          \u001b[0mresponse_key\u001b[0m\u001b[0;34m=\u001b[0m\u001b[0mprivkey\u001b[0m\u001b[0;34m,\u001b[0m \u001b[0margs_key\u001b[0m\u001b[0;34m=\u001b[0m\u001b[0mservice\u001b[0m\u001b[0;34m.\u001b[0m\u001b[0mpublic_key\u001b[0m\u001b[0;34m(\u001b[0m\u001b[0;34m)\u001b[0m\u001b[0;34m,\u001b[0m\u001b[0;34m\u001b[0m\u001b[0m\n\u001b[0;32m----> 3\u001b[0;31m                          public_cert=service.public_certificate())\n\u001b[0m",
      "\u001b[0;32m~/Work/acquire/source/Acquire/Service/_function.py\u001b[0m in \u001b[0;36mcall_function\u001b[0;34m(service_url, function, args_key, response_key, public_cert, args, **kwargs)\u001b[0m\n\u001b[1;32m    290\u001b[0m                 \u001b[0;34m\"Error calling '%s' at '%s'. Server returned \"\u001b[0m\u001b[0;34m\u001b[0m\u001b[0m\n\u001b[1;32m    291\u001b[0m                 \u001b[0;34m\"error code '%d' with message '%s'\"\u001b[0m \u001b[0;34m%\u001b[0m\u001b[0;34m\u001b[0m\u001b[0m\n\u001b[0;32m--> 292\u001b[0;31m                 (function, service_url, result[\"status\"], result[\"message\"]))\n\u001b[0m\u001b[1;32m    293\u001b[0m \u001b[0;34m\u001b[0m\u001b[0m\n\u001b[1;32m    294\u001b[0m     \u001b[0;32mreturn\u001b[0m \u001b[0mresult\u001b[0m\u001b[0;34m\u001b[0m\u001b[0m\n",
      "\u001b[0;31mRemoteFunctionCallError\u001b[0m: Error calling 'open' at 'http://identity.acquire-aaai.com:8080/t/storage'. Server returned error code '-1' with message 'Error <class 'TypeError'>: unhashable type: 'dict''"
     ]
    }
   ],
   "source": [
    "response = call_function(service_url, function=function, args=args, \n",
    "                         response_key=privkey, args_key=service.public_key(),\n",
    "                         public_cert=service.public_certificate())"
   ]
  },
  {
   "cell_type": "code",
   "execution_count": 12,
   "metadata": {},
   "outputs": [
    {
     "data": {
      "text/plain": [
       "{'status': 0,\n",
       " 'message': 'Success',\n",
       " 'service_info': {'uuid': 'c1767f87-8b23-49f5-88ec-471361cd8aed',\n",
       "  'service_type': 'storage',\n",
       "  'service_url': 'http://130.61.60.88:8080/t/storage/',\n",
       "  'public_certificate': {'bytes': 'LS0tLS1CRUdJTiBQVUJMSUMgS0VZLS0tLS0KTUlJQklqQU5CZ2txaGtpRzl3MEJBUUVGQUFPQ0FROEFNSUlCQ2dLQ0FRRUFzREhoamFvWktoZ3NvR3Z6ZWQwSwpZa3RHNTRvbHJ6T0tOOXBFbFJ6dlhWK2R5SFpsdFNSNU85NVQyaWZ5TE9HMXQ4ZjZzQzFvSFB2YjZlSFdMRzA4CjNLemFFWmNMRHlDdTIvd3Y5NUUveUNlTWF5WjNYMzhGUmJMei9wSXVzS28zUFhKWXpTMXVaNm9nNko3elFrNjUKSVZUWjJRQWtTZE9Vcm9GTk5nZTNNa2NBcEd4SURQaVdKZi8rdW9tY3V6TzRsNU1hQmJPVlFVR29CRFg2U2EyeQo4Nm0xZlVWd0I5VHoxaVRjb2RDWjVEUldEL2dBMzVLOXd4aWxtTm5GKytSTkpIN3FQS3l5TGZheFJPelM0SnRiClIrYVA2QW9JTHA0cE55VDI4SlZQUEFJandTeGkvNEVpMG9sMWIvamhYRzl6MXpjbFRWZ3VlVUtFQkFoeUNvdHcKVHdJREFRQUIKLS0tLS1FTkQgUFVCTElDIEtFWS0tLS0tCg=='},\n",
       "  'public_key': {'bytes': 'LS0tLS1CRUdJTiBQVUJMSUMgS0VZLS0tLS0KTUlJQklqQU5CZ2txaGtpRzl3MEJBUUVGQUFPQ0FROEFNSUlCQ2dLQ0FRRUFyd2JDSXR0OVZlQzIyaXk0S1hpTApQYUYrRXUrUDdPcTNUUWhGNVkxdmdLUXRFWjYrUTMwODBDY0xzTERHTittZzMrbzJ4bk5YQ24zRjlLQTlzTXowCk9KN1ZYemEyVzdpSkI1K1lNd2Y2TXU2WEN5RWpBZ3h1Wi9vd2Nuc3JDUkN0YnlJMUk0ZG1aSmcvY1M4UXQreFEKajdMci9RVW5Kb0w4aWxOR3RsRHZycU9DczU0K21QOVdUTUVkQjd6enNjSFYzYjlvdXM1QUNSR1VSYlZ5ZFg3WApBQlRhVjJsRGozT1FSeitCSGQ0cDFNMzhPVXZkSHJTYUpUNG9TNTd4M2VNRmV1bEJ2ZWhwTDFwSVlueHo3VVhTCm4rODlHS1RyY1RzWWt6RXN6US9mWHVxdCt6bGI1YjRIRHArNmh0cHdTcnZ5S1E4eG9NSzlXa3ZuUnQ4M3VuVlQKUHdJREFRQUIKLS0tLS1FTkQgUFVCTElDIEtFWS0tLS0tCg=='}}}"
      ]
     },
     "execution_count": 12,
     "metadata": {},
     "output_type": "execute_result"
    }
   ],
   "source": [
    "response"
   ]
  },
  {
   "cell_type": "code",
   "execution_count": null,
   "metadata": {},
   "outputs": [],
   "source": []
  }
 ],
 "metadata": {
  "kernelspec": {
   "display_name": "Python 3",
   "language": "python",
   "name": "python3"
  },
  "language_info": {
   "codemirror_mode": {
    "name": "ipython",
    "version": 3
   },
   "file_extension": ".py",
   "mimetype": "text/x-python",
   "name": "python",
   "nbconvert_exporter": "python",
   "pygments_lexer": "ipython3",
   "version": "3.7.0"
  }
 },
 "nbformat": 4,
 "nbformat_minor": 2
}
