{
 "cells": [
  {
   "cell_type": "markdown",
   "metadata": {},
   "source": [
    "Use this notebook to set up a new service"
   ]
  },
  {
   "cell_type": "code",
   "execution_count": null,
   "metadata": {},
   "outputs": [],
   "source": [
    "from Acquire.Service import call_function\n",
    "from Acquire.Client import create_qrcode\n",
    "import ipywidgets as widgets"
   ]
  },
  {
   "cell_type": "markdown",
   "metadata": {},
   "source": [
    "Set the type of the service using the box below..."
   ]
  },
  {
   "cell_type": "code",
   "execution_count": null,
   "metadata": {},
   "outputs": [],
   "source": [
    "service_type = widgets.Dropdown(\n",
    "    options=[\"registry\", \"identity\", \"accounting\", \"access\", \"compute\", \"storage\"])\n",
    "display(service_type)"
   ]
  },
  {
   "cell_type": "markdown",
   "metadata": {},
   "source": [
    "Now provide the full URL to the service, excluding the service type, e.g. for https://fn.acquire-aaai.com/t/registry, provide https://fn.acquire-aaai.com/t"
   ]
  },
  {
   "cell_type": "code",
   "execution_count": null,
   "metadata": {},
   "outputs": [],
   "source": [
    "canonical_url = widgets.Text(value=\"https://fn.acquire-aaai.com/t\")\n",
    "display(canonical_url)"
   ]
  },
  {
   "cell_type": "markdown",
   "metadata": {},
   "source": [
    "By default, the admin account is called `admin-{service_type}`. You can change this if you want..."
   ]
  },
  {
   "cell_type": "code",
   "execution_count": null,
   "metadata": {},
   "outputs": [],
   "source": [
    "canonical_url = canonical_url.value\n",
    "service_type = service_type.value\n",
    "username = \"admin-%s\" % service_type\n",
    "print(\"admin username is %s\" % username)"
   ]
  },
  {
   "cell_type": "markdown",
   "metadata": {},
   "source": [
    "Please input a password for the admin account"
   ]
  },
  {
   "cell_type": "code",
   "execution_count": null,
   "metadata": {},
   "outputs": [],
   "source": [
    "import getpass\n",
    "password = getpass.getpass()"
   ]
  },
  {
   "cell_type": "markdown",
   "metadata": {},
   "source": [
    "Please confirm the password..."
   ]
  },
  {
   "cell_type": "code",
   "execution_count": null,
   "metadata": {},
   "outputs": [],
   "source": [
    "password2 = getpass.getpass()\n",
    "if password2 != password:\n",
    "    raise PermissionError(\"Wrong password - try again!\")"
   ]
  },
  {
   "cell_type": "markdown",
   "metadata": {},
   "source": [
    "Now we will contact the service to setup the service..."
   ]
  },
  {
   "cell_type": "code",
   "execution_count": null,
   "metadata": {},
   "outputs": [],
   "source": [
    "canonical_url = \"%s/%s\" % (canonical_url, service_type)\n",
    "print(\"Setting up the service at %s\" % canonical_url)\n",
    "print(\"This will be of type %s\" % service_type)"
   ]
  },
  {
   "cell_type": "code",
   "execution_count": null,
   "metadata": {},
   "outputs": [],
   "source": [
    "args = {}\n",
    "args[\"username\"] = username\n",
    "args[\"canonical_url\"] = canonical_url\n",
    "args[\"service_type\"] = service_type\n",
    "args[\"password\"] = password\n",
    "    \n",
    "response = call_function(canonical_url, function=\"admin/setup\", args=args)"
   ]
  },
  {
   "cell_type": "code",
   "execution_count": null,
   "metadata": {},
   "outputs": [],
   "source": [
    "print(response)"
   ]
  },
  {
   "cell_type": "code",
   "execution_count": null,
   "metadata": {},
   "outputs": [],
   "source": [
    "if \"provisioning_uri\" in response:\n",
    "    qrcode = create_qrcode(response[\"provisioning_uri\"])\n",
    "else:\n",
    "    qrcode = None\n",
    "qrcode"
   ]
  },
  {
   "cell_type": "code",
   "execution_count": null,
   "metadata": {},
   "outputs": [],
   "source": [
    "# MAKE SURE YOU COPY THE QR CODE ELSE YOU WILL NOT BE ABLE TO LOG IN AS THE ADMIN USER"
   ]
  },
  {
   "cell_type": "code",
   "execution_count": null,
   "metadata": {},
   "outputs": [],
   "source": []
  }
 ],
 "metadata": {
  "kernelspec": {
   "display_name": "Python 3",
   "language": "python",
   "name": "python3"
  },
  "language_info": {
   "codemirror_mode": {
    "name": "ipython",
    "version": 3
   },
   "file_extension": ".py",
   "mimetype": "text/x-python",
   "name": "python",
   "nbconvert_exporter": "python",
   "pygments_lexer": "ipython3",
   "version": "3.7.2"
  }
 },
 "nbformat": 4,
 "nbformat_minor": 2
}
