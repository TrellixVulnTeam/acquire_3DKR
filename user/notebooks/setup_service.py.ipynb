{
 "cells": [
  {
   "cell_type": "markdown",
   "metadata": {},
   "source": [
    "Use this notebook to set up a new service"
   ]
  },
  {
   "cell_type": "code",
   "execution_count": null,
   "metadata": {},
   "outputs": [],
   "source": [
    "from Acquire.Service import call_function\n",
    "from Acquire.Client import create_qrcode"
   ]
  },
  {
   "cell_type": "code",
   "execution_count": null,
   "metadata": {},
   "outputs": [],
   "source": [
    "service_type = \"identity\"  # CHANGE THIS TO SPECIFY THE TYPE OF SERVICE THAT WILL BE SET UP"
   ]
  },
  {
   "cell_type": "code",
   "execution_count": null,
   "metadata": {},
   "outputs": [],
   "source": [
    "canonical_url = \"http://fn.acquire-aaai.com:8080/t/%s\" % service_type"
   ]
  },
  {
   "cell_type": "code",
   "execution_count": null,
   "metadata": {},
   "outputs": [],
   "source": [
    "username = \"admin-%s\" % service_type  # THE ADMIN USER ACCOUNT IS CALLED 'admin-{service_type}'"
   ]
  },
  {
   "cell_type": "code",
   "execution_count": null,
   "metadata": {},
   "outputs": [],
   "source": [
    "password = \"PASSWORD\"  # YOU MUST CHANGE THIS TO SOMETHING SUITABLE"
   ]
  },
  {
   "cell_type": "code",
   "execution_count": null,
   "metadata": {},
   "outputs": [],
   "source": [
    "args = {}\n",
    "args[\"username\"] = username\n",
    "args[\"canonical_url\"] = canonical_url\n",
    "args[\"service_type\"] = service_type\n",
    "args[\"password\"] = password\n",
    "    \n",
    "response = call_function(canonical_url, function=\"admin/setup\", args=args)"
   ]
  },
  {
   "cell_type": "code",
   "execution_count": null,
   "metadata": {},
   "outputs": [],
   "source": [
    "print(response)"
   ]
  },
  {
   "cell_type": "code",
   "execution_count": null,
   "metadata": {},
   "outputs": [],
   "source": [
    "if \"provisioning_uri\" in response:\n",
    "    qrcode = create_qrcode(response[\"provisioning_uri\"])\n",
    "else:\n",
    "    qrcode = None\n",
    "qrcode"
   ]
  },
  {
   "cell_type": "code",
   "execution_count": null,
   "metadata": {},
   "outputs": [],
   "source": [
    "# MAKE SURE YOU COPY THE QR CODE ELSE YOU WILL NOT BE ABLE TO LOG IN AS THE ADMIN USER"
   ]
  }
 ],
 "metadata": {
  "kernelspec": {
   "display_name": "Python 3",
   "language": "python",
   "name": "python3"
  },
  "language_info": {
   "codemirror_mode": {
    "name": "ipython",
    "version": 3
   },
   "file_extension": ".py",
   "mimetype": "text/x-python",
   "name": "python",
   "nbconvert_exporter": "python",
   "pygments_lexer": "ipython3",
   "version": "3.6.6"
  }
 },
 "nbformat": 4,
 "nbformat_minor": 2
}
