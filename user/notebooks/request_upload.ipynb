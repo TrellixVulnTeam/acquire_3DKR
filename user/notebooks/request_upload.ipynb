{
 "cells": [
  {
   "cell_type": "code",
   "execution_count": 1,
   "metadata": {},
   "outputs": [],
   "source": [
    "import Acquire.Client"
   ]
  },
  {
   "cell_type": "code",
   "execution_count": 2,
   "metadata": {},
   "outputs": [],
   "source": [
    "user = Acquire.Client.User(\"chryswoods\")"
   ]
  },
  {
   "cell_type": "code",
   "execution_count": 3,
   "metadata": {},
   "outputs": [],
   "source": [
    "(url, qrcode) = user.request_login()"
   ]
  },
  {
   "cell_type": "code",
   "execution_count": 4,
   "metadata": {},
   "outputs": [
    {
     "name": "stdout",
     "output_type": "stream",
     "text": [
      "http://130.61.60.88:8080/t/identity/s?id=f92fc227\n"
     ]
    },
    {
     "data": {
      "text/html": [
       "<a href='http://130.61.60.88:8080/t/identity/s?id=f92fc227'>Login here</a>"
      ],
      "text/plain": [
       "<IPython.core.display.HTML object>"
      ]
     },
     "execution_count": 4,
     "metadata": {},
     "output_type": "execute_result"
    }
   ],
   "source": [
    "from IPython.core.display import HTML\n",
    "print(url)\n",
    "HTML(\"<a href='%s'>Login here</a>\" % url)"
   ]
  },
  {
   "cell_type": "code",
   "execution_count": 5,
   "metadata": {},
   "outputs": [
    {
     "data": {
      "text/plain": [
       "True"
      ]
     },
     "execution_count": 5,
     "metadata": {},
     "output_type": "execute_result"
    }
   ],
   "source": [
    "user.wait_for_login()"
   ]
  },
  {
   "cell_type": "code",
   "execution_count": 8,
   "metadata": {},
   "outputs": [],
   "source": [
    "drive = Acquire.Client.CloudDrive(user)"
   ]
  },
  {
   "cell_type": "code",
   "execution_count": 9,
   "metadata": {},
   "outputs": [
    {
     "data": {
      "text/plain": [
       "{'status': 0,\n",
       " 'message': None,\n",
       " 'access_token': {'class': 'FileWriteRequest',\n",
       "  'uid': 'ae189cda-ac5e-4fb2-963f-d7aa8656856b',\n",
       "  'destination_keys': ['.'],\n",
       "  'file_sizes': [2175],\n",
       "  'checksums': ['0f221c2a03f1370b9f229d81f6ecf76e'],\n",
       "  'authorisation': {'user_uid': '6f463b04-be60-4fbd-a2b6-44caaa61ac41',\n",
       "   'session_uid': 'f92fc227-ec4f-46d5-9efc-0ec34fc85f29',\n",
       "   'identity_url': 'http://130.61.60.88:8080/t/identity',\n",
       "   'auth_timestamp': 1541777348.504096,\n",
       "   'signature': 'GCOMXibh1dLfnxNNeWFNjvswp6mhR1sYjNWHeIqhdgcemyXnNoVdwXa+cAmGxa9Lo6FYTj1KsRzUWIJv9Z69qd2cMFuNVUzc5vvaqJ/orxXGu20b/L+lPD+4xym36s+AD5GzvVnAoDngF/4e4JquTfTSt6XfV6BVLIo0JMYo/13GJ1IALW8RUUbzNmFRcGfOBYHW+/8XhbD7fOafrhmhzMRdvtXeRsFQuklDnCIuLRaiJNelGQFBKNV9x2vdrNVlG6iwwbD7z7JxxZGHsPFy6QuEf6qBfUDWI1JFAzXFYLQwL9iCXf+Rgg87cGvLlfP88TJzOfoa81ZrvFSlo9aVHw=='},\n",
       "  'account_uid': '419fa73f-ec89-4155-924f-766c4c14e08d',\n",
       "  'accounting_service_url': 'http://130.61.60.88:8080/t/accounting'}}"
      ]
     },
     "execution_count": 9,
     "metadata": {},
     "output_type": "execute_result"
    }
   ],
   "source": [
    "drive.upload(\"register.ipynb\")"
   ]
  },
  {
   "cell_type": "code",
   "execution_count": null,
   "metadata": {},
   "outputs": [],
   "source": [
    "user.logout()"
   ]
  },
  {
   "cell_type": "code",
   "execution_count": null,
   "metadata": {},
   "outputs": [],
   "source": [
    "account = Acquire.Client.Account(user)"
   ]
  },
  {
   "cell_type": "code",
   "execution_count": null,
   "metadata": {},
   "outputs": [],
   "source": [
    "account.balance()"
   ]
  },
  {
   "cell_type": "code",
   "execution_count": null,
   "metadata": {},
   "outputs": [],
   "source": [
    "drive.upload(\"register.ipynb\")"
   ]
  },
  {
   "cell_type": "code",
   "execution_count": null,
   "metadata": {},
   "outputs": [],
   "source": []
  }
 ],
 "metadata": {
  "kernelspec": {
   "display_name": "Python 3",
   "language": "python",
   "name": "python3"
  },
  "language_info": {
   "codemirror_mode": {
    "name": "ipython",
    "version": 3
   },
   "file_extension": ".py",
   "mimetype": "text/x-python",
   "name": "python",
   "nbconvert_exporter": "python",
   "pygments_lexer": "ipython3",
   "version": "3.7.0"
  }
 },
 "nbformat": 4,
 "nbformat_minor": 2
}
