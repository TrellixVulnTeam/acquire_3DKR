{
 "cells": [
  {
   "cell_type": "markdown",
   "metadata": {},
   "source": [
    "Notebook that is used to ask the remote storage service to create a new bucket, generate a PAR to write to the bucket, and then read the objects after they have been uploaded"
   ]
  },
  {
   "cell_type": "code",
   "execution_count": 13,
   "metadata": {},
   "outputs": [],
   "source": [
    "from Acquire.Client import User\n",
    "from Acquire.Crypto import PrivateKey\n",
    "from Acquire.Service import call_function, Service\n",
    "from Acquire.ObjectStore import PAR"
   ]
  },
  {
   "cell_type": "code",
   "execution_count": 2,
   "metadata": {},
   "outputs": [],
   "source": [
    "user = User(\"chryswoods\")\n",
    "uid = user.uid()"
   ]
  },
  {
   "cell_type": "code",
   "execution_count": 3,
   "metadata": {},
   "outputs": [],
   "source": [
    "service_url = \"http://identity.acquire-aaai.com:8080/t/storage\""
   ]
  },
  {
   "cell_type": "code",
   "execution_count": 4,
   "metadata": {},
   "outputs": [],
   "source": [
    "response_key = PrivateKey()"
   ]
  },
  {
   "cell_type": "code",
   "execution_count": 8,
   "metadata": {},
   "outputs": [
    {
     "name": "stdout",
     "output_type": "stream",
     "text": [
      "{'status': 0, 'message': 'Success', 'service_info': {'uuid': 'c1767f87-8b23-49f5-88ec-471361cd8aed', 'service_type': 'storage', 'service_url': 'http://130.61.60.88:8080/t/storage/', 'public_certificate': {'bytes': 'LS0tLS1CRUdJTiBQVUJMSUMgS0VZLS0tLS0KTUlJQklqQU5CZ2txaGtpRzl3MEJBUUVGQUFPQ0FROEFNSUlCQ2dLQ0FRRUFzREhoamFvWktoZ3NvR3Z6ZWQwSwpZa3RHNTRvbHJ6T0tOOXBFbFJ6dlhWK2R5SFpsdFNSNU85NVQyaWZ5TE9HMXQ4ZjZzQzFvSFB2YjZlSFdMRzA4CjNLemFFWmNMRHlDdTIvd3Y5NUUveUNlTWF5WjNYMzhGUmJMei9wSXVzS28zUFhKWXpTMXVaNm9nNko3elFrNjUKSVZUWjJRQWtTZE9Vcm9GTk5nZTNNa2NBcEd4SURQaVdKZi8rdW9tY3V6TzRsNU1hQmJPVlFVR29CRFg2U2EyeQo4Nm0xZlVWd0I5VHoxaVRjb2RDWjVEUldEL2dBMzVLOXd4aWxtTm5GKytSTkpIN3FQS3l5TGZheFJPelM0SnRiClIrYVA2QW9JTHA0cE55VDI4SlZQUEFJandTeGkvNEVpMG9sMWIvamhYRzl6MXpjbFRWZ3VlVUtFQkFoeUNvdHcKVHdJREFRQUIKLS0tLS1FTkQgUFVCTElDIEtFWS0tLS0tCg=='}, 'public_key': {'bytes': 'LS0tLS1CRUdJTiBQVUJMSUMgS0VZLS0tLS0KTUlJQklqQU5CZ2txaGtpRzl3MEJBUUVGQUFPQ0FROEFNSUlCQ2dLQ0FRRUFyd2JDSXR0OVZlQzIyaXk0S1hpTApQYUYrRXUrUDdPcTNUUWhGNVkxdmdLUXRFWjYrUTMwODBDY0xzTERHTittZzMrbzJ4bk5YQ24zRjlLQTlzTXowCk9KN1ZYemEyVzdpSkI1K1lNd2Y2TXU2WEN5RWpBZ3h1Wi9vd2Nuc3JDUkN0YnlJMUk0ZG1aSmcvY1M4UXQreFEKajdMci9RVW5Kb0w4aWxOR3RsRHZycU9DczU0K21QOVdUTUVkQjd6enNjSFYzYjlvdXM1QUNSR1VSYlZ5ZFg3WApBQlRhVjJsRGozT1FSeitCSGQ0cDFNMzhPVXZkSHJTYUpUNG9TNTd4M2VNRmV1bEJ2ZWhwTDFwSVlueHo3VVhTCm4rODlHS1RyY1RzWWt6RXN6US9mWHVxdCt6bGI1YjRIRHArNmh0cHdTcnZ5S1E4eG9NSzlXa3ZuUnQ4M3VuVlQKUHdJREFRQUIKLS0tLS1FTkQgUFVCTElDIEtFWS0tLS0tCg=='}}}\n",
      "<Acquire.Storage._storage_service.StorageService object at 0x1112b0978>\n"
     ]
    }
   ],
   "source": [
    "data = call_function(service_url=service_url, response_key=response_key)\n",
    "print(data)\n",
    "service = Service.from_data(data[\"service_info\"])\n",
    "print(service)"
   ]
  },
  {
   "cell_type": "code",
   "execution_count": 10,
   "metadata": {},
   "outputs": [],
   "source": [
    "func = \"open\""
   ]
  },
  {
   "cell_type": "code",
   "execution_count": 11,
   "metadata": {},
   "outputs": [],
   "source": [
    "args = {\"user_uid\": uid, \"object_name\": \"test\", \"md5sum\": \"test\"}"
   ]
  },
  {
   "cell_type": "code",
   "execution_count": 12,
   "metadata": {},
   "outputs": [
    {
     "name": "stdout",
     "output_type": "stream",
     "text": [
      "{'status': 0, 'message': 'Success', 'test_key': None, 'par': {'url': '/p/PK0Qcoi9wa3Ah_sCemd_6vjL_JqhhcFCtyg4audjSI0/n/chryswoods/b/test_bucket/o/test_key', 'key': 'test_key', 'created_timestamp': 1546596250.78, 'expires_timestamp': 1546599850.721, 'driver': 'oci', 'par_id': '08VWx6s25aVQj3xAbf6mhDnzhkd+sU7vyDhYd5Or+iw=:test_key', 'is_readable': True, 'is_writeable': True}}\n"
     ]
    }
   ],
   "source": [
    "result = call_function(service_url=service_url, function=func, args=args, args_key=service.public_key(),\n",
    "                      response_key=response_key, public_cert=service.public_certificate())\n",
    "print(result)"
   ]
  },
  {
   "cell_type": "code",
   "execution_count": 14,
   "metadata": {},
   "outputs": [],
   "source": [
    "par = PAR.from_data(result[\"par\"])"
   ]
  },
  {
   "cell_type": "code",
   "execution_count": 17,
   "metadata": {},
   "outputs": [
    {
     "name": "stdout",
     "output_type": "stream",
     "text": [
      "PAR( key=test_key, url=/p/PK0Qcoi9wa3Ah_sCemd_6vjL_JqhhcFCtyg4audjSI0/n/chryswoods/b/test_bucket/o/test_key, seconds_remaining=3530.946057 )\n"
     ]
    }
   ],
   "source": [
    "print(par)"
   ]
  },
  {
   "cell_type": "code",
   "execution_count": null,
   "metadata": {},
   "outputs": [],
   "source": []
  }
 ],
 "metadata": {
  "kernelspec": {
   "display_name": "Python 3",
   "language": "python",
   "name": "python3"
  },
  "language_info": {
   "codemirror_mode": {
    "name": "ipython",
    "version": 3
   },
   "file_extension": ".py",
   "mimetype": "text/x-python",
   "name": "python",
   "nbconvert_exporter": "python",
   "pygments_lexer": "ipython3",
   "version": "3.7.0"
  }
 },
 "nbformat": 4,
 "nbformat_minor": 2
}
