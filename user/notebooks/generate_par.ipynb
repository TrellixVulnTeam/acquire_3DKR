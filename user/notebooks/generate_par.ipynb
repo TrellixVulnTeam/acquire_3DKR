{
 "cells": [
  {
   "cell_type": "markdown",
   "metadata": {},
   "source": [
    "Notebook that is used to ask the remote storage service to create a new bucket, generate a PAR to write to the bucket, and then read the objects after they have been uploaded"
   ]
  },
  {
   "cell_type": "code",
   "execution_count": 1,
   "metadata": {},
   "outputs": [],
   "source": [
    "from Acquire.Client import User, Service, PAR, PublicKey, PrivateKey"
   ]
  },
  {
   "cell_type": "code",
   "execution_count": 2,
   "metadata": {},
   "outputs": [],
   "source": [
    "user = User(\"chryswoods\")\n",
    "uid = user.uid()"
   ]
  },
  {
   "cell_type": "code",
   "execution_count": 3,
   "metadata": {},
   "outputs": [],
   "source": [
    "service_url = \"http://fn.acquire-aaai.com:8080/t/storage\""
   ]
  },
  {
   "cell_type": "code",
   "execution_count": 4,
   "metadata": {},
   "outputs": [
    {
     "name": "stdout",
     "output_type": "stream",
     "text": [
      "StorageService(url=http://fn.acquire-aaai.com:8080/t/storage, uid=c91771a1-3132-42f7-aebc-b7fe63119776)\n"
     ]
    }
   ],
   "source": [
    "service = Service(service_url)\n",
    "print(service)"
   ]
  },
  {
   "cell_type": "code",
   "execution_count": 5,
   "metadata": {},
   "outputs": [],
   "source": [
    "func = \"open\""
   ]
  },
  {
   "cell_type": "code",
   "execution_count": 6,
   "metadata": {},
   "outputs": [],
   "source": [
    "args = {\"user_uid\": uid, \"object_name\": \"test\", \"md5sum\": \"test\"}"
   ]
  },
  {
   "cell_type": "code",
   "execution_count": 7,
   "metadata": {},
   "outputs": [
    {
     "name": "stdout",
     "output_type": "stream",
     "text": [
      "{'status': 0, 'message': 'Success', 'test_key': None, 'par': {'url': 'https://objectstorage.eu-frankfurt-1.oraclecloud.com/p/1GCYd3my7wKQX1vsgK_KlqyhV64bP18wpNSfN3Hx8U8/n/chryswoods/b/test_bucket/o/test_key', 'key': 'test_key', 'created_datetime': '2019-02-14T18:00:42.751000', 'expires_datetime': '2019-02-14T19:00:42.717000', 'driver': 'oci', 'par_id': 'fG50QD3F5LC1M2ZCfQ4dzJEhyzponEsANsvvhE9+nM0=:test_key', 'par_name': '274fcc29-d6c6-4662-a24c-1521c627ecc2', 'is_readable': True, 'is_writeable': True}, 'par2': {'url': 'https://objectstorage.eu-frankfurt-1.oraclecloud.com/p/DyKKRUNsYCt8YqMycypn3d7f9-YzpZetmVwYchtCW-A/n/chryswoods/b/test_bucket/o/', 'key': None, 'created_datetime': '2019-02-14T18:00:42.851000', 'expires_datetime': '2019-02-14T19:00:42.807000', 'driver': 'oci', 'par_id': 'jyOkLwAQNiFe7VOgldJsV8lg4vsvDqwSGCvGweucf1g=', 'par_name': 'ecc5aaaa-2d84-4371-a7e6-d4e71c1460f2', 'is_readable': False, 'is_writeable': True}}\n"
     ]
    }
   ],
   "source": [
    "result = service.call_function(function=func, args=args)\n",
    "print(result)"
   ]
  },
  {
   "cell_type": "code",
   "execution_count": 8,
   "metadata": {},
   "outputs": [],
   "source": [
    "par = PAR.from_data(result[\"par\"])"
   ]
  },
  {
   "cell_type": "code",
   "execution_count": 9,
   "metadata": {},
   "outputs": [
    {
     "name": "stdout",
     "output_type": "stream",
     "text": [
      "PAR( key=test_key, url=https://objectstorage.eu-frankfurt-1.oraclecloud.com/p/1GCYd3my7wKQX1vsgK_KlqyhV64bP18wpNSfN3Hx8U8/n/chryswoods/b/test_bucket/o/test_key, seconds_remaining=3583.586086 )\n"
     ]
    }
   ],
   "source": [
    "print(par)"
   ]
  },
  {
   "cell_type": "code",
   "execution_count": 10,
   "metadata": {},
   "outputs": [
    {
     "data": {
      "text/plain": [
       "'null'"
      ]
     },
     "execution_count": 10,
     "metadata": {},
     "output_type": "execute_result"
    }
   ],
   "source": [
    "par.read().get_string_object()"
   ]
  },
  {
   "cell_type": "code",
   "execution_count": 11,
   "metadata": {},
   "outputs": [],
   "source": [
    "par.write().set_string_object(\"Hello World\")"
   ]
  },
  {
   "cell_type": "code",
   "execution_count": 12,
   "metadata": {},
   "outputs": [
    {
     "data": {
      "text/plain": [
       "'Hello World'"
      ]
     },
     "execution_count": 12,
     "metadata": {},
     "output_type": "execute_result"
    }
   ],
   "source": [
    "par.read().get_string_object()"
   ]
  },
  {
   "cell_type": "code",
   "execution_count": 13,
   "metadata": {},
   "outputs": [],
   "source": [
    "par2 = PAR.from_data(result[\"par2\"])"
   ]
  },
  {
   "cell_type": "code",
   "execution_count": 14,
   "metadata": {},
   "outputs": [
    {
     "name": "stdout",
     "output_type": "stream",
     "text": [
      "PAR( bucket=True, url=https://objectstorage.eu-frankfurt-1.oraclecloud.com/p/DyKKRUNsYCt8YqMycypn3d7f9-YzpZetmVwYchtCW-A/n/chryswoods/b/test_bucket/o/, seconds_remaining=3550.710012 )\n"
     ]
    }
   ],
   "source": [
    "print(par2)"
   ]
  },
  {
   "cell_type": "code",
   "execution_count": 15,
   "metadata": {},
   "outputs": [],
   "source": [
    "par2.write().set_string_object(\"test_key\", \"Writing something to the cloud å˙∆∑^ç∆˚∑ø≤ç¬∑øç•ªªºç∆˚¬\")"
   ]
  },
  {
   "cell_type": "code",
   "execution_count": 16,
   "metadata": {},
   "outputs": [
    {
     "data": {
      "text/plain": [
       "'Writing something to the cloud å˙∆∑^ç∆˚∑ø≤ç¬∑øç•ªªºç∆˚¬'"
      ]
     },
     "execution_count": 16,
     "metadata": {},
     "output_type": "execute_result"
    }
   ],
   "source": [
    "par.read().get_string_object()"
   ]
  },
  {
   "cell_type": "code",
   "execution_count": 17,
   "metadata": {},
   "outputs": [],
   "source": [
    "par2.write().set_object_from_json(\"test_key\", par.to_data())"
   ]
  },
  {
   "cell_type": "code",
   "execution_count": 18,
   "metadata": {},
   "outputs": [
    {
     "data": {
      "text/plain": [
       "{'url': 'https://objectstorage.eu-frankfurt-1.oraclecloud.com/p/1GCYd3my7wKQX1vsgK_KlqyhV64bP18wpNSfN3Hx8U8/n/chryswoods/b/test_bucket/o/test_key',\n",
       " 'key': 'test_key',\n",
       " 'created_datetime': '2019-02-14T18:00:42.751000',\n",
       " 'expires_datetime': '2019-02-14T19:00:42.717000',\n",
       " 'driver': 'oci',\n",
       " 'par_id': 'fG50QD3F5LC1M2ZCfQ4dzJEhyzponEsANsvvhE9+nM0=:test_key',\n",
       " 'par_name': '274fcc29-d6c6-4662-a24c-1521c627ecc2',\n",
       " 'is_readable': True,\n",
       " 'is_writeable': True}"
      ]
     },
     "execution_count": 18,
     "metadata": {},
     "output_type": "execute_result"
    }
   ],
   "source": [
    "par.read().get_object_from_json()"
   ]
  },
  {
   "cell_type": "code",
   "execution_count": 20,
   "metadata": {},
   "outputs": [],
   "source": [
    "par2.write().set_object_from_json(\"test_key\", service.public_key().to_data())"
   ]
  },
  {
   "cell_type": "code",
   "execution_count": 21,
   "metadata": {},
   "outputs": [],
   "source": [
    "data = par.read().get_object_from_json()"
   ]
  },
  {
   "cell_type": "code",
   "execution_count": 22,
   "metadata": {},
   "outputs": [
    {
     "name": "stdout",
     "output_type": "stream",
     "text": [
      "PublicKey('-----BEGIN PUBLIC KEY-----\n",
      "MIIBIjANBgkqhkiG9w0BAQEFAAOCAQ8AMIIBCgKCAQEAw0asZGeYqPFeGORDuXVu\n",
      "Ax7Z7Mcv0W/ukl/sATF9naIEXGdVQcmGwUhDVQGBaRfELp5MzyF2p19feXH5x+qm\n",
      "xP/uaIWTE3JrFztrtL6M1lSP3uMHc0V/XA/9FljD8Tr+hMH73oW6l4R6+keaYG3u\n",
      "13XF4NNjatT3X61qnsZVGbGh2VCnhdRjvBfnbM0kuDyAUANZw9zqW+2yPxPsBglS\n",
      "7dXSz4kyOEaWkrHfxVAkMuiAMn/ISvEGiTx79ROxIXYkW5vLYXQ8PGi5RAdA+dmz\n",
      "7Tq3Ef0v7cFEQv5hLMdmx7WkmvXhVWTbkm8ZtvkaZhytRjsk0xpScJTCozl5xpsW\n",
      "IwIDAQAB\n",
      "-----END PUBLIC KEY-----\n",
      "')\n"
     ]
    }
   ],
   "source": [
    "key = PublicKey.from_data(data)\n",
    "print(key)"
   ]
  },
  {
   "cell_type": "code",
   "execution_count": 23,
   "metadata": {},
   "outputs": [
    {
     "data": {
      "text/plain": [
       "True"
      ]
     },
     "execution_count": 23,
     "metadata": {},
     "output_type": "execute_result"
    }
   ],
   "source": [
    "key == service.public_key()"
   ]
  },
  {
   "cell_type": "code",
   "execution_count": 24,
   "metadata": {},
   "outputs": [
    {
     "data": {
      "text/plain": [
       "PAR( bucket=True, url=https://objectstorage.eu-frankfurt-1.oraclecloud.com/p/DyKKRUNsYCt8YqMycypn3d7f9-YzpZetmVwYchtCW-A/n/chryswoods/b/test_bucket/o/, seconds_remaining=3507.129767 )"
      ]
     },
     "execution_count": 24,
     "metadata": {},
     "output_type": "execute_result"
    }
   ],
   "source": [
    "par2"
   ]
  },
  {
   "cell_type": "code",
   "execution_count": 25,
   "metadata": {},
   "outputs": [
    {
     "data": {
      "text/plain": [
       "{'bytes': 'LS0tLS1CRUdJTiBQVUJMSUMgS0VZLS0tLS0KTUlJQklqQU5CZ2txaGtpRzl3MEJBUUVGQUFPQ0FROEFNSUlCQ2dLQ0FRRUF3MGFzWkdlWXFQRmVHT1JEdVhWdQpBeDdaN01jdjBXL3VrbC9zQVRGOW5hSUVYR2RWUWNtR3dVaERWUUdCYVJmRUxwNU16eUYycDE5ZmVYSDV4K3FtCnhQL3VhSVdURTNKckZ6dHJ0TDZNMWxTUDN1TUhjMFYvWEEvOUZsakQ4VHIraE1INzNvVzZsNFI2K2tlYVlHM3UKMTNYRjROTmphdFQzWDYxcW5zWlZHYkdoMlZDbmhkUmp2QmZuYk0wa3VEeUFVQU5adzl6cVcrMnlQeFBzQmdsUwo3ZFhTejRreU9FYVdrckhmeFZBa011aUFNbi9JU3ZFR2lUeDc5Uk94SVhZa1c1dkxZWFE4UEdpNVJBZEErZG16CjdUcTNFZjB2N2NGRVF2NWhMTWRteDdXa212WGhWV1Ria204WnR2a2FaaHl0UmpzazB4cFNjSlRDb3psNXhwc1cKSXdJREFRQUIKLS0tLS1FTkQgUFVCTElDIEtFWS0tLS0tCg=='}"
      ]
     },
     "execution_count": 25,
     "metadata": {},
     "output_type": "execute_result"
    }
   ],
   "source": [
    "data"
   ]
  },
  {
   "cell_type": "code",
   "execution_count": 26,
   "metadata": {},
   "outputs": [
    {
     "data": {
      "text/plain": [
       "PAR( key=test_key, url=https://objectstorage.eu-frankfurt-1.oraclecloud.com/p/1GCYd3my7wKQX1vsgK_KlqyhV64bP18wpNSfN3Hx8U8/n/chryswoods/b/test_bucket/o/test_key, seconds_remaining=3504.240121 )"
      ]
     },
     "execution_count": 26,
     "metadata": {},
     "output_type": "execute_result"
    }
   ],
   "source": [
    "par"
   ]
  },
  {
   "cell_type": "code",
   "execution_count": 27,
   "metadata": {},
   "outputs": [
    {
     "data": {
      "text/plain": [
       "{'bytes': 'LS0tLS1CRUdJTiBQVUJMSUMgS0VZLS0tLS0KTUlJQklqQU5CZ2txaGtpRzl3MEJBUUVGQUFPQ0FROEFNSUlCQ2dLQ0FRRUF3MGFzWkdlWXFQRmVHT1JEdVhWdQpBeDdaN01jdjBXL3VrbC9zQVRGOW5hSUVYR2RWUWNtR3dVaERWUUdCYVJmRUxwNU16eUYycDE5ZmVYSDV4K3FtCnhQL3VhSVdURTNKckZ6dHJ0TDZNMWxTUDN1TUhjMFYvWEEvOUZsakQ4VHIraE1INzNvVzZsNFI2K2tlYVlHM3UKMTNYRjROTmphdFQzWDYxcW5zWlZHYkdoMlZDbmhkUmp2QmZuYk0wa3VEeUFVQU5adzl6cVcrMnlQeFBzQmdsUwo3ZFhTejRreU9FYVdrckhmeFZBa011aUFNbi9JU3ZFR2lUeDc5Uk94SVhZa1c1dkxZWFE4UEdpNVJBZEErZG16CjdUcTNFZjB2N2NGRVF2NWhMTWRteDdXa212WGhWV1Ria204WnR2a2FaaHl0UmpzazB4cFNjSlRDb3psNXhwc1cKSXdJREFRQUIKLS0tLS1FTkQgUFVCTElDIEtFWS0tLS0tCg=='}"
      ]
     },
     "execution_count": 27,
     "metadata": {},
     "output_type": "execute_result"
    }
   ],
   "source": [
    "par.read().get_object_from_json()"
   ]
  },
  {
   "cell_type": "code",
   "execution_count": null,
   "metadata": {},
   "outputs": [],
   "source": []
  }
 ],
 "metadata": {
  "kernelspec": {
   "display_name": "Python 3",
   "language": "python",
   "name": "python3"
  },
  "language_info": {
   "codemirror_mode": {
    "name": "ipython",
    "version": 3
   },
   "file_extension": ".py",
   "mimetype": "text/x-python",
   "name": "python",
   "nbconvert_exporter": "python",
   "pygments_lexer": "ipython3",
   "version": "3.6.6"
  }
 },
 "nbformat": 4,
 "nbformat_minor": 2
}
