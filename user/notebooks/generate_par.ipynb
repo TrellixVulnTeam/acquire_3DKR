{
 "cells": [
  {
   "cell_type": "markdown",
   "metadata": {},
   "source": [
    "Notebook that is used to ask the remote storage service to create a new bucket, generate a PAR to write to the bucket, and then read the objects after they have been uploaded"
   ]
  },
  {
   "cell_type": "code",
   "execution_count": 1,
   "metadata": {},
   "outputs": [],
   "source": [
    "from Acquire.Client import User\n",
    "from Acquire.Crypto import PrivateKey\n",
    "from Acquire.Service import call_function, Service\n",
    "from Acquire.ObjectStore import PAR"
   ]
  },
  {
   "cell_type": "code",
   "execution_count": 2,
   "metadata": {},
   "outputs": [],
   "source": [
    "user = User(\"chryswoods\")\n",
    "uid = user.uid()"
   ]
  },
  {
   "cell_type": "code",
   "execution_count": 3,
   "metadata": {},
   "outputs": [],
   "source": [
    "service_url = \"http://identity.acquire-aaai.com:8080/t/storage\""
   ]
  },
  {
   "cell_type": "code",
   "execution_count": 4,
   "metadata": {},
   "outputs": [],
   "source": [
    "response_key = PrivateKey()"
   ]
  },
  {
   "cell_type": "code",
   "execution_count": 5,
   "metadata": {},
   "outputs": [
    {
     "name": "stdout",
     "output_type": "stream",
     "text": [
      "{'status': 0, 'message': 'Success', 'service_info': {'uuid': 'c1767f87-8b23-49f5-88ec-471361cd8aed', 'service_type': 'storage', 'service_url': 'http://130.61.60.88:8080/t/storage/', 'public_certificate': {'bytes': 'LS0tLS1CRUdJTiBQVUJMSUMgS0VZLS0tLS0KTUlJQklqQU5CZ2txaGtpRzl3MEJBUUVGQUFPQ0FROEFNSUlCQ2dLQ0FRRUFzREhoamFvWktoZ3NvR3Z6ZWQwSwpZa3RHNTRvbHJ6T0tOOXBFbFJ6dlhWK2R5SFpsdFNSNU85NVQyaWZ5TE9HMXQ4ZjZzQzFvSFB2YjZlSFdMRzA4CjNLemFFWmNMRHlDdTIvd3Y5NUUveUNlTWF5WjNYMzhGUmJMei9wSXVzS28zUFhKWXpTMXVaNm9nNko3elFrNjUKSVZUWjJRQWtTZE9Vcm9GTk5nZTNNa2NBcEd4SURQaVdKZi8rdW9tY3V6TzRsNU1hQmJPVlFVR29CRFg2U2EyeQo4Nm0xZlVWd0I5VHoxaVRjb2RDWjVEUldEL2dBMzVLOXd4aWxtTm5GKytSTkpIN3FQS3l5TGZheFJPelM0SnRiClIrYVA2QW9JTHA0cE55VDI4SlZQUEFJandTeGkvNEVpMG9sMWIvamhYRzl6MXpjbFRWZ3VlVUtFQkFoeUNvdHcKVHdJREFRQUIKLS0tLS1FTkQgUFVCTElDIEtFWS0tLS0tCg=='}, 'public_key': {'bytes': 'LS0tLS1CRUdJTiBQVUJMSUMgS0VZLS0tLS0KTUlJQklqQU5CZ2txaGtpRzl3MEJBUUVGQUFPQ0FROEFNSUlCQ2dLQ0FRRUFyd2JDSXR0OVZlQzIyaXk0S1hpTApQYUYrRXUrUDdPcTNUUWhGNVkxdmdLUXRFWjYrUTMwODBDY0xzTERHTittZzMrbzJ4bk5YQ24zRjlLQTlzTXowCk9KN1ZYemEyVzdpSkI1K1lNd2Y2TXU2WEN5RWpBZ3h1Wi9vd2Nuc3JDUkN0YnlJMUk0ZG1aSmcvY1M4UXQreFEKajdMci9RVW5Kb0w4aWxOR3RsRHZycU9DczU0K21QOVdUTUVkQjd6enNjSFYzYjlvdXM1QUNSR1VSYlZ5ZFg3WApBQlRhVjJsRGozT1FSeitCSGQ0cDFNMzhPVXZkSHJTYUpUNG9TNTd4M2VNRmV1bEJ2ZWhwTDFwSVlueHo3VVhTCm4rODlHS1RyY1RzWWt6RXN6US9mWHVxdCt6bGI1YjRIRHArNmh0cHdTcnZ5S1E4eG9NSzlXa3ZuUnQ4M3VuVlQKUHdJREFRQUIKLS0tLS1FTkQgUFVCTElDIEtFWS0tLS0tCg=='}}}\n",
      "<Acquire.Storage._storage_service.StorageService object at 0x105b44a58>\n"
     ]
    }
   ],
   "source": [
    "data = call_function(service_url=service_url, response_key=response_key)\n",
    "print(data)\n",
    "service = Service.from_data(data[\"service_info\"])\n",
    "print(service)"
   ]
  },
  {
   "cell_type": "code",
   "execution_count": 6,
   "metadata": {},
   "outputs": [],
   "source": [
    "func = \"open\""
   ]
  },
  {
   "cell_type": "code",
   "execution_count": 7,
   "metadata": {},
   "outputs": [],
   "source": [
    "args = {\"user_uid\": uid, \"object_name\": \"test\", \"md5sum\": \"test\"}"
   ]
  },
  {
   "cell_type": "code",
   "execution_count": 8,
   "metadata": {},
   "outputs": [
    {
     "name": "stdout",
     "output_type": "stream",
     "text": [
      "{'status': 0, 'message': 'Success', 'test_key': None, 'par': {'url': 'https://objectstorage.eu-frankfurt-1-1.oraclecloud.com/p/MwcFgNDtX4q7fG974yM307T1kXLBk-X4m1WoLuIKrK0/n/chryswoods/b/test_bucket/o/test_key', 'key': 'test_key', 'created_timestamp': 1546598947.85, 'expires_timestamp': 1546602547.816, 'driver': 'oci', 'par_id': 'cCM5elbdrJh+PFLiBC1IYytDYl7JNhFuebmi4K3x1ys=:test_key', 'par_name': '34fa2ea4-d8cf-48f7-a98f-556b339b7908', 'is_readable': True, 'is_writeable': True}}\n"
     ]
    }
   ],
   "source": [
    "result = call_function(service_url=service_url, function=func, args=args, args_key=service.public_key(),\n",
    "                      response_key=response_key, public_cert=service.public_certificate())\n",
    "print(result)"
   ]
  },
  {
   "cell_type": "code",
   "execution_count": 9,
   "metadata": {},
   "outputs": [],
   "source": [
    "par = PAR.from_data(result[\"par\"])"
   ]
  },
  {
   "cell_type": "code",
   "execution_count": 10,
   "metadata": {},
   "outputs": [
    {
     "name": "stdout",
     "output_type": "stream",
     "text": [
      "PAR( key=test_key, url=https://objectstorage.eu-frankfurt-1-1.oraclecloud.com/p/MwcFgNDtX4q7fG974yM307T1kXLBk-X4m1WoLuIKrK0/n/chryswoods/b/test_bucket/o/test_key, seconds_remaining=3598.008478 )\n"
     ]
    }
   ],
   "source": [
    "print(par)"
   ]
  },
  {
   "cell_type": "code",
   "execution_count": 11,
   "metadata": {},
   "outputs": [
    {
     "name": "stdout",
     "output_type": "stream",
     "text": [
      "READING REMOTE https://objectstorage.eu-frankfurt-1-1.oraclecloud.com/p/MwcFgNDtX4q7fG974yM307T1kXLBk-X4m1WoLuIKrK0/n/chryswoods/b/test_bucket/o/test_key\n"
     ]
    },
    {
     "ename": "PARReadError",
     "evalue": "Cannot read the remote PAR URL 'https://objectstorage.eu-frankfurt-1-1.oraclecloud.com/p/MwcFgNDtX4q7fG974yM307T1kXLBk-X4m1WoLuIKrK0/n/chryswoods/b/test_bucket/o/test_key' because of a possible network issue: curl errorcode 6, message 'Could not resolve host: objectstorage.eu-frankfurt-1-1.oraclecloud.com'",
     "output_type": "error",
     "traceback": [
      "\u001b[0;31m---------------------------------------------------------------------------\u001b[0m",
      "\u001b[0;31merror\u001b[0m                                     Traceback (most recent call last)",
      "\u001b[0;32m~/Work/acquire/source/Acquire/ObjectStore/_par.py\u001b[0m in \u001b[0;36m_read_remote\u001b[0;34m(url)\u001b[0m\n\u001b[1;32m    257\u001b[0m     \u001b[0;32mtry\u001b[0m\u001b[0;34m:\u001b[0m\u001b[0;34m\u001b[0m\u001b[0m\n\u001b[0;32m--> 258\u001b[0;31m         \u001b[0mc\u001b[0m\u001b[0;34m.\u001b[0m\u001b[0mperform\u001b[0m\u001b[0;34m(\u001b[0m\u001b[0;34m)\u001b[0m\u001b[0;34m\u001b[0m\u001b[0m\n\u001b[0m\u001b[1;32m    259\u001b[0m         \u001b[0mstatus_code\u001b[0m \u001b[0;34m=\u001b[0m \u001b[0mc\u001b[0m\u001b[0;34m.\u001b[0m\u001b[0mgetinfo\u001b[0m\u001b[0;34m(\u001b[0m\u001b[0m_pycurl\u001b[0m\u001b[0;34m.\u001b[0m\u001b[0mHTTP_CODE\u001b[0m\u001b[0;34m)\u001b[0m\u001b[0;34m\u001b[0m\u001b[0m\n",
      "\u001b[0;31merror\u001b[0m: (6, 'Could not resolve host: objectstorage.eu-frankfurt-1-1.oraclecloud.com')",
      "\nDuring handling of the above exception, another exception occurred:\n",
      "\u001b[0;31mPARReadError\u001b[0m                              Traceback (most recent call last)",
      "\u001b[0;32m<ipython-input-11-e660a307deaf>\u001b[0m in \u001b[0;36m<module>\u001b[0;34m\u001b[0m\n\u001b[0;32m----> 1\u001b[0;31m \u001b[0mpar\u001b[0m\u001b[0;34m.\u001b[0m\u001b[0mread\u001b[0m\u001b[0;34m(\u001b[0m\u001b[0;34m)\u001b[0m\u001b[0;34m.\u001b[0m\u001b[0mget_string_object\u001b[0m\u001b[0;34m(\u001b[0m\u001b[0;34m)\u001b[0m\u001b[0;34m\u001b[0m\u001b[0m\n\u001b[0m",
      "\u001b[0;32m~/Work/acquire/source/Acquire/ObjectStore/_par.py\u001b[0m in \u001b[0;36mget_string_object\u001b[0;34m(self)\u001b[0m\n\u001b[1;32m    603\u001b[0m         \"\"\"Return the object behind this PAR as a string (raises exception\n\u001b[1;32m    604\u001b[0m            if it is not a string)'\"\"\"\n\u001b[0;32m--> 605\u001b[0;31m         \u001b[0mdata\u001b[0m \u001b[0;34m=\u001b[0m \u001b[0mself\u001b[0m\u001b[0;34m.\u001b[0m\u001b[0mget_object\u001b[0m\u001b[0;34m(\u001b[0m\u001b[0;34m)\u001b[0m\u001b[0;34m\u001b[0m\u001b[0m\n\u001b[0m\u001b[1;32m    606\u001b[0m \u001b[0;34m\u001b[0m\u001b[0m\n\u001b[1;32m    607\u001b[0m         \u001b[0;32mtry\u001b[0m\u001b[0;34m:\u001b[0m\u001b[0;34m\u001b[0m\u001b[0m\n",
      "\u001b[0;32m~/Work/acquire/source/Acquire/ObjectStore/_par.py\u001b[0m in \u001b[0;36mget_object\u001b[0;34m(self)\u001b[0m\n\u001b[1;32m    590\u001b[0m             \u001b[0;32mreturn\u001b[0m \u001b[0m_read_local\u001b[0m\u001b[0;34m(\u001b[0m\u001b[0murl\u001b[0m\u001b[0;34m)\u001b[0m\u001b[0;34m\u001b[0m\u001b[0m\n\u001b[1;32m    591\u001b[0m         \u001b[0;32melse\u001b[0m\u001b[0;34m:\u001b[0m\u001b[0;34m\u001b[0m\u001b[0m\n\u001b[0;32m--> 592\u001b[0;31m             \u001b[0;32mreturn\u001b[0m \u001b[0m_read_remote\u001b[0m\u001b[0;34m(\u001b[0m\u001b[0murl\u001b[0m\u001b[0;34m)\u001b[0m\u001b[0;34m\u001b[0m\u001b[0m\n\u001b[0m\u001b[1;32m    593\u001b[0m \u001b[0;34m\u001b[0m\u001b[0m\n\u001b[1;32m    594\u001b[0m     \u001b[0;32mdef\u001b[0m \u001b[0mget_object_as_file\u001b[0m\u001b[0;34m(\u001b[0m\u001b[0mself\u001b[0m\u001b[0;34m,\u001b[0m \u001b[0mfilename\u001b[0m\u001b[0;34m)\u001b[0m\u001b[0;34m:\u001b[0m\u001b[0;34m\u001b[0m\u001b[0m\n",
      "\u001b[0;32m~/Work/acquire/source/Acquire/ObjectStore/_par.py\u001b[0m in \u001b[0;36m_read_remote\u001b[0;34m(url)\u001b[0m\n\u001b[1;32m    263\u001b[0m             \u001b[0;34m\"Cannot read the remote PAR URL '%s' because of a possible \"\u001b[0m\u001b[0;34m\u001b[0m\u001b[0m\n\u001b[1;32m    264\u001b[0m             \u001b[0;34m\"network issue: curl errorcode %s, message '%s'\"\u001b[0m \u001b[0;34m%\u001b[0m\u001b[0;34m\u001b[0m\u001b[0m\n\u001b[0;32m--> 265\u001b[0;31m             (url, e.args[0], e.args[1]))\n\u001b[0m\u001b[1;32m    266\u001b[0m     \u001b[0;32mexcept\u001b[0m \u001b[0mException\u001b[0m \u001b[0;32mas\u001b[0m \u001b[0me\u001b[0m\u001b[0;34m:\u001b[0m\u001b[0;34m\u001b[0m\u001b[0m\n\u001b[1;32m    267\u001b[0m         raise PARReadError(\n",
      "\u001b[0;31mPARReadError\u001b[0m: Cannot read the remote PAR URL 'https://objectstorage.eu-frankfurt-1-1.oraclecloud.com/p/MwcFgNDtX4q7fG974yM307T1kXLBk-X4m1WoLuIKrK0/n/chryswoods/b/test_bucket/o/test_key' because of a possible network issue: curl errorcode 6, message 'Could not resolve host: objectstorage.eu-frankfurt-1-1.oraclecloud.com'"
     ]
    }
   ],
   "source": [
    "par.read().get_string_object()"
   ]
  },
  {
   "cell_type": "code",
   "execution_count": null,
   "metadata": {},
   "outputs": [],
   "source": []
  }
 ],
 "metadata": {
  "kernelspec": {
   "display_name": "Python 3",
   "language": "python",
   "name": "python3"
  },
  "language_info": {
   "codemirror_mode": {
    "name": "ipython",
    "version": 3
   },
   "file_extension": ".py",
   "mimetype": "text/x-python",
   "name": "python",
   "nbconvert_exporter": "python",
   "pygments_lexer": "ipython3",
   "version": "3.7.0"
  }
 },
 "nbformat": 4,
 "nbformat_minor": 2
}
