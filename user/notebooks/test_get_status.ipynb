{
 "cells": [
  {
   "cell_type": "markdown",
   "metadata": {},
   "source": [
    "This notebook is used to test that I can successfully get the status of a service, even if I ask for the service to use a key to encrypt traffic"
   ]
  },
  {
   "cell_type": "code",
   "execution_count": 1,
   "metadata": {},
   "outputs": [],
   "source": [
    "import Acquire.Service\n",
    "import Acquire.Crypto\n",
    "import Acquire.Client\n",
    "import datetime"
   ]
  },
  {
   "cell_type": "code",
   "execution_count": 2,
   "metadata": {},
   "outputs": [],
   "source": [
    "service_url = \"http://fn.acquire-aaai.com:8080/t/identity\""
   ]
  },
  {
   "cell_type": "code",
   "execution_count": 3,
   "metadata": {},
   "outputs": [
    {
     "name": "stdout",
     "output_type": "stream",
     "text": [
      "{'status': 0, 'message': 'Success', 'service_info': {'uid': 'fdac3ab5-3527-46f8-8432-c7ec8f586fc6', 'service_type': 'identity', 'service_url': 'http://fn.acquire-aaai.com:8080/t/identity', 'public_certificate': {'bytes': 'LS0tLS1CRUdJTiBQVUJMSUMgS0VZLS0tLS0KTUlJQklqQU5CZ2txaGtpRzl3MEJBUUVGQUFPQ0FROEFNSUlCQ2dLQ0FRRUE5Z0VYZUhCWVBjaVB0S0Y5S0VlbApLQjRveGU2amp3Rk5UMEpicGNpOG5kMlU0NzY0Q3JYVUgxSGFnVVFkbFlBbERJVk1PNk5CTFJIVEFPOEJ5RXc2Cm5ZNTBrbEd6TVZHSkVhdVA4QUxiUHUwemRuR1l1RUxBZ3JuamZrNUVQMC9QYXcyVHlOejNqSTlEZTg5OGlpL0UKelBXM3NkWFpnc0VpMUdFNlZjV3MzT1EyaGd0cU9HaVh6blhXNjF2MEZoaFlnMHgxYlRzSUZGc3FxZFpyQktkbApSdEVaK3AyMEUyOVo2bnZjb2g5V3E4QmhGTWpQQ1JSQ0pkWmlTWjZiYW1TZ0xDelJ5cmZDcFlTa0o2c3dja3phCm80MmVHL3F2UlFTZExjcjc3emNscVd1dVpkV0txcmlzNk80eWwwK3NXaW1lVkczVk5qUEZZdU9MdlZxQVpjVUsKTHdJREFRQUIKLS0tLS1FTkQgUFVCTElDIEtFWS0tLS0tCg=='}, 'public_key': {'bytes': 'LS0tLS1CRUdJTiBQVUJMSUMgS0VZLS0tLS0KTUlJQklqQU5CZ2txaGtpRzl3MEJBUUVGQUFPQ0FROEFNSUlCQ2dLQ0FRRUEwdjUxdFdBb2J4MHNVeWxyZ092RAp1a0dYYkxHNjAyN3Jqa1hhdS9VMjArbno4VlJ1NWlrYy9XQUJFM3NSZWFxMGZoTUJqYXlqcFFHcGdHS0RjVkpsCnNlU0cyWXY0bzVja1l2WjAwWDNEVGY4WTY1YllZNzljSEZEWlhyb01PcTFBNElBdVp0Z1dNZFFBNWkwc1NaNnUKK0FXR3FEakQxVmg4MktSd0JZcEh0M0MzOEI1UWpqL21ZZmtVSUdmeWtUS0pBQUhla2Y2NU5KUVVwTGlpdXFhLwovRC9zUm91SFU2Y1VJNk43RHd6eXVQNkNEUnZVaXNoRXlPOUxiMjNMbmQ1eFhFenlCUkxrcmoxU1NlUWcyVW5sCkZTR2ZEMG1FbjFITkY0T2ptQThtTnlsVEdBbTNYT3Z4TmFZcHNCUzV3UWkwTGhDNEJ4c2NxU0VzZmwyUmZMVm4KSXdJREFRQUIKLS0tLS1FTkQgUFVCTElDIEtFWS0tLS0tCg=='}, 'last_certificate': {'bytes': 'LS0tLS1CRUdJTiBQVUJMSUMgS0VZLS0tLS0KTUlJQklqQU5CZ2txaGtpRzl3MEJBUUVGQUFPQ0FROEFNSUlCQ2dLQ0FRRUEweUhGSnZWSGNydnVGaXJRazhqaQp0c3E2R1VWQkdnQXJqSzhtVDZacFl3VTdHUkNpRGg4eXhUZlJYUlJWV1NNWUtsVGdqYjZ3NmJUallUOGNmV1Y1ClJaY1dQMmtYdy9tcnJtZnBHR3lWaGRhVmZkNU9rUS9sWmdvNXRxSHZkWldXVkVTUi9FYXh6R1R4T0lYMFhUMVcKUTBCSytHWCtoZzV1NUtrUUkxcHJCRDEvWXJZUTF4WVNPOXVqdEdmaXdYRjAzdGYxVHlPQTNDemNCOTB6dFlscQpTRVd2RVl6L014S3ljSzBXRWtQTUdTSG1EaFFTNTcxWFlKSzJOUkhQRjl5YnVsWEdaa0MxK0JWZitOZElZT2NLClZpNUhNb01uakJJNG5sUmJaSmxXTTN6L1I4UXZ6aW1pSWpldWxubGtPRW5Yb2tPdzNYdndBcEtMWENFazBQa3QKUFFJREFRQUIKLS0tLS1FTkQgUFVCTElDIEtFWS0tLS0tCg=='}, 'last_key_update': '2019-02-11T19:41:50.628368', 'key_update_interval': 604800.0, 'service_user_name': 'identity_principal', 'service_user_uid': '73ae125c-78ce-4a9a-8143-4b7aa3976be8'}}\n"
     ]
    }
   ],
   "source": [
    "response = Acquire.Service.call_function(service_url)\n",
    "print(response)"
   ]
  },
  {
   "cell_type": "code",
   "execution_count": null,
   "metadata": {},
   "outputs": [],
   "source": [
    "key = Acquire.Crypto.PrivateKey()"
   ]
  },
  {
   "cell_type": "code",
   "execution_count": null,
   "metadata": {},
   "outputs": [],
   "source": [
    "response2 = Acquire.Service.call_function(service_url, response_key=key)"
   ]
  },
  {
   "cell_type": "code",
   "execution_count": null,
   "metadata": {},
   "outputs": [],
   "source": [
    "assert( response2[\"service_info\"] == response[\"service_info\"] )"
   ]
  },
  {
   "cell_type": "code",
   "execution_count": null,
   "metadata": {},
   "outputs": [],
   "source": [
    "service = Acquire.Service.Service.from_data(response[\"service_info\"])\n",
    "print(service)"
   ]
  },
  {
   "cell_type": "code",
   "execution_count": null,
   "metadata": {},
   "outputs": [],
   "source": [
    "response3 = Acquire.Service.call_function(service_url, args_key=service.public_key())\n",
    "print(response3)"
   ]
  },
  {
   "cell_type": "code",
   "execution_count": null,
   "metadata": {},
   "outputs": [],
   "source": [
    "assert( response3[\"service_info\"] == response[\"service_info\"] )"
   ]
  },
  {
   "cell_type": "code",
   "execution_count": null,
   "metadata": {},
   "outputs": [],
   "source": [
    "response4 = Acquire.Service.call_function(service_url, args_key=service.public_key(), response_key=key)"
   ]
  },
  {
   "cell_type": "code",
   "execution_count": null,
   "metadata": {},
   "outputs": [],
   "source": [
    "assert( response4[\"service_info\"] == response[\"service_info\"] )"
   ]
  },
  {
   "cell_type": "code",
   "execution_count": null,
   "metadata": {},
   "outputs": [],
   "source": [
    "user = Acquire.Client.User(\"chryswoods\", service_url)"
   ]
  },
  {
   "cell_type": "code",
   "execution_count": null,
   "metadata": {},
   "outputs": [],
   "source": [
    "user_service = user.identity_service()"
   ]
  },
  {
   "cell_type": "code",
   "execution_count": null,
   "metadata": {},
   "outputs": [],
   "source": [
    "assert( user_service.uuid() == service.uuid() )"
   ]
  },
  {
   "cell_type": "code",
   "execution_count": null,
   "metadata": {},
   "outputs": [],
   "source": [
    "t1 = datetime.datetime.now()\n",
    "response = Acquire.Service.call_function(service_url)\n",
    "t2 = datetime.datetime.now()\n",
    "print( \"Call took {0} s\".format((t2-t1).total_seconds()))"
   ]
  },
  {
   "cell_type": "code",
   "execution_count": null,
   "metadata": {},
   "outputs": [],
   "source": [
    "t1 = datetime.datetime.now()\n",
    "response = Acquire.Service.call_function(service_url)\n",
    "t2 = datetime.datetime.now()\n",
    "print( \"Call took {0} s\".format((t2-t1).total_seconds()))"
   ]
  },
  {
   "cell_type": "code",
   "execution_count": null,
   "metadata": {},
   "outputs": [],
   "source": []
  }
 ],
 "metadata": {
  "kernelspec": {
   "display_name": "Python 3",
   "language": "python",
   "name": "python3"
  },
  "language_info": {
   "codemirror_mode": {
    "name": "ipython",
    "version": 3
   },
   "file_extension": ".py",
   "mimetype": "text/x-python",
   "name": "python",
   "nbconvert_exporter": "python",
   "pygments_lexer": "ipython3",
   "version": "3.6.6"
  }
 },
 "nbformat": 4,
 "nbformat_minor": 2
}
