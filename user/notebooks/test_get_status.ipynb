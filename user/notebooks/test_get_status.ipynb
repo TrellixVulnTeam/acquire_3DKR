{
 "cells": [
  {
   "cell_type": "markdown",
   "metadata": {},
   "source": [
    "This notebook is used to test that I can successfully get the status of a service, even if I ask for the service to use a key to encrypt traffic"
   ]
  },
  {
   "cell_type": "code",
   "execution_count": 6,
   "metadata": {},
   "outputs": [],
   "source": [
    "import Acquire.Service\n",
    "import Acquire.Crypto\n",
    "import Acquire.Client"
   ]
  },
  {
   "cell_type": "code",
   "execution_count": 10,
   "metadata": {},
   "outputs": [],
   "source": [
    "service_url = \"http://130.61.60.88:8080/t/identity\""
   ]
  },
  {
   "cell_type": "code",
   "execution_count": 14,
   "metadata": {},
   "outputs": [
    {
     "name": "stdout",
     "output_type": "stream",
     "text": [
      "{'status': 0, 'message': 'Success', 'service_info': {'uuid': '09ab80b3-5a67-4f26-9611-49c9a146ffec', 'service_type': 'identity', 'service_url': 'http://130.61.60.88:8080/t/identity', 'public_certificate': {'bytes': 'LS0tLS1CRUdJTiBQVUJMSUMgS0VZLS0tLS0KTUlJQklqQU5CZ2txaGtpRzl3MEJBUUVGQUFPQ0FROEFNSUlCQ2dLQ0FRRUFxa0VpKzIzQ09scGtYVVQzMThXUQpjT2MyaUJXckI2Zk1rSFVxWVUxeWFDMU4yN3pjTFRFZHpnM0x4OXRtelpZdERTM2ZZb3B0YTdsd09RVmQxN2VDClUwaCtDWGdEd0JPdGgrMGFQRUp1Tyt6ZnQ1Nkc2QkxaYU5JTmlycnJ0TDFXc2RTKzZQTWdDaXMrTVVZeXJiMHIKbExqRytHa3l5RVVwOUI0MmRhUFBHYkMvVFNkR3lpelg4U0JIeGllS3dXS2JYUngrMTJCVUJTelpMYXd4eUNlNwpOclRCRFNmR283TmU0ekVldzhaTHNSdzc0ZnZxU0FFWElSZVBhTmo0Tms2R0xheUlzYmJLeVpPcmRjQVNiRndFClI5UkhVR2ZBd3JSWTIxdUNid3F0U1RVbVpWbXpTcllaSExSeHZ2MlB6U1JOYS9mOFRYZjFUbVZWZmF6SUIrVHoKSHdJREFRQUIKLS0tLS1FTkQgUFVCTElDIEtFWS0tLS0tCg=='}, 'public_key': {'bytes': 'LS0tLS1CRUdJTiBQVUJMSUMgS0VZLS0tLS0KTUlJQklqQU5CZ2txaGtpRzl3MEJBUUVGQUFPQ0FROEFNSUlCQ2dLQ0FRRUFzR0cycjJXWXljR0t0MXEzc1hZdAprbkZaVjVSa1Z5TUV2M2VZS2o0VDExMG41b241bzBBNms1NU13cTZPVFZpUVhLVVd3enQ0K09oWDY4cXNjM2ZPCnZ2aFFZdGZpT2prcXJvNFI0djhXaXdxbjlwdmdocW04b1FmTlhqRWw1ODBvV0w4SFMzTFgvQk9TQVFyMHNpQkYKN0hMWW9QVlVrcVovdmFuUWlwWlJhNXZmTlZoNXVBcGs0b2xRRzJzL3kyZnVSZzQydEhpbldObk1YdE0wWTVGbgprV1lUK00xL3BrUDRpSVB0akg0VUg0OTQyaG5SSkRwZXArWWpJQ1g5eVZQcHRSbFhIdWYrbVVtTThNZGpHcFp1Cks3cHppTGh6L2tNNzcwejhlMEluYzEzcFNBV2VLRmRKbjFMa3F2a24vVU9XN1pMVVV6Q1VKdGZ2VjlJb0hkbVcKZ1FJREFRQUIKLS0tLS1FTkQgUFVCTElDIEtFWS0tLS0tCg=='}}}\n"
     ]
    }
   ],
   "source": [
    "response = Acquire.Service.call_function(service_url, args={\"cat\":\"mieow\", \"dog\":\"woof\"})\n",
    "print(response)"
   ]
  },
  {
   "cell_type": "code",
   "execution_count": null,
   "metadata": {},
   "outputs": [],
   "source": [
    "key = Acquire.Crypto.PrivateKey()"
   ]
  },
  {
   "cell_type": "code",
   "execution_count": null,
   "metadata": {},
   "outputs": [],
   "source": [
    "response2 = Acquire.Service.call_function(service_url, response_key=key)"
   ]
  },
  {
   "cell_type": "code",
   "execution_count": null,
   "metadata": {},
   "outputs": [],
   "source": [
    "assert( response2[\"service_info\"] == response[\"service_info\"] )"
   ]
  },
  {
   "cell_type": "code",
   "execution_count": null,
   "metadata": {},
   "outputs": [],
   "source": [
    "service = Acquire.Service.Service.from_data(response[\"service_info\"])\n",
    "print(service)"
   ]
  },
  {
   "cell_type": "code",
   "execution_count": null,
   "metadata": {},
   "outputs": [],
   "source": [
    "response3 = Acquire.Service.call_function(service_url, args_key=service.public_key())\n",
    "print(response3)"
   ]
  },
  {
   "cell_type": "code",
   "execution_count": null,
   "metadata": {},
   "outputs": [],
   "source": [
    "assert( response3[\"service_info\"] == response[\"service_info\"] )"
   ]
  },
  {
   "cell_type": "code",
   "execution_count": null,
   "metadata": {},
   "outputs": [],
   "source": [
    "response4 = Acquire.Service.call_function(service_url, args_key=service.public_key(), response_key=key)"
   ]
  },
  {
   "cell_type": "code",
   "execution_count": null,
   "metadata": {},
   "outputs": [],
   "source": [
    "assert( response4[\"service_info\"] == response[\"service_info\"] )"
   ]
  },
  {
   "cell_type": "code",
   "execution_count": null,
   "metadata": {},
   "outputs": [],
   "source": [
    "user = Acquire.Client.User(\"chryswoods\")"
   ]
  },
  {
   "cell_type": "code",
   "execution_count": null,
   "metadata": {},
   "outputs": [],
   "source": [
    "user_service = user.identity_service()"
   ]
  },
  {
   "cell_type": "code",
   "execution_count": null,
   "metadata": {},
   "outputs": [],
   "source": [
    "assert( user_service.uuid() == service.uuid() )"
   ]
  },
  {
   "cell_type": "code",
   "execution_count": null,
   "metadata": {},
   "outputs": [],
   "source": []
  },
  {
   "cell_type": "code",
   "execution_count": null,
   "metadata": {},
   "outputs": [],
   "source": []
  },
  {
   "cell_type": "code",
   "execution_count": null,
   "metadata": {},
   "outputs": [],
   "source": []
  }
 ],
 "metadata": {
  "kernelspec": {
   "display_name": "Python 3",
   "language": "python",
   "name": "python3"
  },
  "language_info": {
   "codemirror_mode": {
    "name": "ipython",
    "version": 3
   },
   "file_extension": ".py",
   "mimetype": "text/x-python",
   "name": "python",
   "nbconvert_exporter": "python",
   "pygments_lexer": "ipython3",
   "version": "3.7.0"
  }
 },
 "nbformat": 4,
 "nbformat_minor": 2
}
