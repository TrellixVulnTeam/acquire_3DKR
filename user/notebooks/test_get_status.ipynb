{
 "cells": [
  {
   "cell_type": "markdown",
   "metadata": {},
   "source": [
    "This notebook is used to test that I can successfully get the status of a service, even if I ask for the service to use a key to encrypt traffic"
   ]
  },
  {
   "cell_type": "code",
   "execution_count": 1,
   "metadata": {},
   "outputs": [],
   "source": [
    "import Acquire.Service\n",
    "import Acquire.Crypto\n",
    "import Acquire.Client\n",
    "import datetime"
   ]
  },
  {
   "cell_type": "code",
   "execution_count": 2,
   "metadata": {},
   "outputs": [],
   "source": [
    "service_url = \"http://identity-azure.acquire-aaai.com:8080/t/identity\""
   ]
  },
  {
   "cell_type": "code",
   "execution_count": 3,
   "metadata": {},
   "outputs": [
    {
     "name": "stdout",
     "output_type": "stream",
     "text": [
      "{'status': 0, 'message': 'Success', 'service_info': {'uuid': '2b0875cb-9270-475e-a9d8-9ed622fbd2c7', 'service_type': 'identity', 'service_url': 'http://13.69.48.190:8080/t/identity', 'public_certificate': {'bytes': 'LS0tLS1CRUdJTiBQVUJMSUMgS0VZLS0tLS0KTUlJQklqQU5CZ2txaGtpRzl3MEJBUUVGQUFPQ0FROEFNSUlCQ2dLQ0FRRUFxOHFsTU9nWFVVd2VJYkVscUtRaQpkNkFoOHZncDZhcStBaXZTT01uTFNwZSsvbm5RdXpURkZyVlo3ODgrMUNXWlpQd21rcE11VmsraURyMGg5UGlXCk9pZ29LQm95cWxWMUtBczg3Sk5SQ1NTUi9Pa2tRUTJhS1dJRE51VU5jZmtldmUvdkFCdU9ydHBuZHJVbXlldGoKdDZuL2Z5azBiTmxDTGw3a0JaekVpZnlURFNHa0Y2NDcrdDYrclVmbUtzcXhnMjNxMzZqSmxtK2Z5VXdEektwMgpGaWd5bGpmU0cwd1VaaDNtRFFocmt4N3dDdmowVW8rZENSLzI2YldjMWRtVUduQVl5eER2REtIbEN5RHlFbisrCk80NWRUOW1XZzAxVThBVWZ4T3pRV3NvSlUzZjVZbXB0Y0tLSWMwZEloYTBRVUZBMXJybWJyc2NlNml6bzVlT3EKY1FJREFRQUIKLS0tLS1FTkQgUFVCTElDIEtFWS0tLS0tCg=='}, 'public_key': {'bytes': 'LS0tLS1CRUdJTiBQVUJMSUMgS0VZLS0tLS0KTUlJQklqQU5CZ2txaGtpRzl3MEJBUUVGQUFPQ0FROEFNSUlCQ2dLQ0FRRUExcUN3Y1FEaG13V3NKdlEvdm9EZgpkcnI4QmxRZXI0emswRFo3b3phdmhzUy9CZituR0ZaZE55M1lkQzc0TnFFNUVlOE1JMFdiZ1hPZE5TcWJIR0gwCitNYWpzYkEydTdaUkFYaXFUZHZacDZkZllsakhqbFJBNU0rWnlvbGJvNXNvdWo1UFpheFhDUXlwejJDdXBlRWsKMHU0WVZ4OC9qTjJnNnBOVzJhLzV1QzlMc3E5SHdKL1BaZW9YMXE5cWF5QlVLMFNlMjJrWkQ1ZnRubzRVS2l3bgpNZU9qUFhKMVg3Vm5RRlJBYzJzZXVtSk9GZGtwdFJVcld5SUp4djdiKytVSnljNjVhZm9iTmw5YWZLSnZPRDRsCjcvKzFFQ3FFMlp4SjU2SlVjTUdQS0lES3M0eVlPVWl1RVkySVVJcW5yZWN0My9mbFBuaHk1ZXZyUHJYbGdCSjUKbFFJREFRQUIKLS0tLS1FTkQgUFVCTElDIEtFWS0tLS0tCg=='}}}\n"
     ]
    }
   ],
   "source": [
    "response = Acquire.Service.call_function(service_url, args={\"cat\":\"mieow\", \"dog\":\"woof\"})\n",
    "print(response)"
   ]
  },
  {
   "cell_type": "code",
   "execution_count": 4,
   "metadata": {},
   "outputs": [],
   "source": [
    "key = Acquire.Crypto.PrivateKey()"
   ]
  },
  {
   "cell_type": "code",
   "execution_count": 5,
   "metadata": {},
   "outputs": [],
   "source": [
    "response2 = Acquire.Service.call_function(service_url, response_key=key)"
   ]
  },
  {
   "cell_type": "code",
   "execution_count": 6,
   "metadata": {},
   "outputs": [],
   "source": [
    "assert( response2[\"service_info\"] == response[\"service_info\"] )"
   ]
  },
  {
   "cell_type": "code",
   "execution_count": 7,
   "metadata": {},
   "outputs": [
    {
     "name": "stdout",
     "output_type": "stream",
     "text": [
      "<Acquire.Identity._identity_service.IdentityService object at 0x10e617a58>\n"
     ]
    }
   ],
   "source": [
    "service = Acquire.Service.Service.from_data(response[\"service_info\"])\n",
    "print(service)"
   ]
  },
  {
   "cell_type": "code",
   "execution_count": 8,
   "metadata": {},
   "outputs": [
    {
     "name": "stdout",
     "output_type": "stream",
     "text": [
      "{'status': 0, 'message': 'Success', 'service_info': {'uuid': '2b0875cb-9270-475e-a9d8-9ed622fbd2c7', 'service_type': 'identity', 'service_url': 'http://13.69.48.190:8080/t/identity', 'public_certificate': {'bytes': 'LS0tLS1CRUdJTiBQVUJMSUMgS0VZLS0tLS0KTUlJQklqQU5CZ2txaGtpRzl3MEJBUUVGQUFPQ0FROEFNSUlCQ2dLQ0FRRUFxOHFsTU9nWFVVd2VJYkVscUtRaQpkNkFoOHZncDZhcStBaXZTT01uTFNwZSsvbm5RdXpURkZyVlo3ODgrMUNXWlpQd21rcE11VmsraURyMGg5UGlXCk9pZ29LQm95cWxWMUtBczg3Sk5SQ1NTUi9Pa2tRUTJhS1dJRE51VU5jZmtldmUvdkFCdU9ydHBuZHJVbXlldGoKdDZuL2Z5azBiTmxDTGw3a0JaekVpZnlURFNHa0Y2NDcrdDYrclVmbUtzcXhnMjNxMzZqSmxtK2Z5VXdEektwMgpGaWd5bGpmU0cwd1VaaDNtRFFocmt4N3dDdmowVW8rZENSLzI2YldjMWRtVUduQVl5eER2REtIbEN5RHlFbisrCk80NWRUOW1XZzAxVThBVWZ4T3pRV3NvSlUzZjVZbXB0Y0tLSWMwZEloYTBRVUZBMXJybWJyc2NlNml6bzVlT3EKY1FJREFRQUIKLS0tLS1FTkQgUFVCTElDIEtFWS0tLS0tCg=='}, 'public_key': {'bytes': 'LS0tLS1CRUdJTiBQVUJMSUMgS0VZLS0tLS0KTUlJQklqQU5CZ2txaGtpRzl3MEJBUUVGQUFPQ0FROEFNSUlCQ2dLQ0FRRUExcUN3Y1FEaG13V3NKdlEvdm9EZgpkcnI4QmxRZXI0emswRFo3b3phdmhzUy9CZituR0ZaZE55M1lkQzc0TnFFNUVlOE1JMFdiZ1hPZE5TcWJIR0gwCitNYWpzYkEydTdaUkFYaXFUZHZacDZkZllsakhqbFJBNU0rWnlvbGJvNXNvdWo1UFpheFhDUXlwejJDdXBlRWsKMHU0WVZ4OC9qTjJnNnBOVzJhLzV1QzlMc3E5SHdKL1BaZW9YMXE5cWF5QlVLMFNlMjJrWkQ1ZnRubzRVS2l3bgpNZU9qUFhKMVg3Vm5RRlJBYzJzZXVtSk9GZGtwdFJVcld5SUp4djdiKytVSnljNjVhZm9iTmw5YWZLSnZPRDRsCjcvKzFFQ3FFMlp4SjU2SlVjTUdQS0lES3M0eVlPVWl1RVkySVVJcW5yZWN0My9mbFBuaHk1ZXZyUHJYbGdCSjUKbFFJREFRQUIKLS0tLS1FTkQgUFVCTElDIEtFWS0tLS0tCg=='}}}\n"
     ]
    }
   ],
   "source": [
    "response3 = Acquire.Service.call_function(service_url, args_key=service.public_key())\n",
    "print(response3)"
   ]
  },
  {
   "cell_type": "code",
   "execution_count": 9,
   "metadata": {},
   "outputs": [],
   "source": [
    "assert( response3[\"service_info\"] == response[\"service_info\"] )"
   ]
  },
  {
   "cell_type": "code",
   "execution_count": 10,
   "metadata": {},
   "outputs": [],
   "source": [
    "response4 = Acquire.Service.call_function(service_url, args_key=service.public_key(), response_key=key)"
   ]
  },
  {
   "cell_type": "code",
   "execution_count": 11,
   "metadata": {},
   "outputs": [],
   "source": [
    "assert( response4[\"service_info\"] == response[\"service_info\"] )"
   ]
  },
  {
   "cell_type": "code",
   "execution_count": 12,
   "metadata": {},
   "outputs": [],
   "source": [
    "user = Acquire.Client.User(\"chryswoods\", service_url)"
   ]
  },
  {
   "cell_type": "code",
   "execution_count": 13,
   "metadata": {},
   "outputs": [],
   "source": [
    "user_service = user.identity_service()"
   ]
  },
  {
   "cell_type": "code",
   "execution_count": 14,
   "metadata": {},
   "outputs": [],
   "source": [
    "assert( user_service.uuid() == service.uuid() )"
   ]
  },
  {
   "cell_type": "code",
   "execution_count": 15,
   "metadata": {},
   "outputs": [
    {
     "name": "stdout",
     "output_type": "stream",
     "text": [
      "Call took 0.457064 s\n"
     ]
    }
   ],
   "source": [
    "t1 = datetime.datetime.now()\n",
    "response = Acquire.Service.call_function(service_url)\n",
    "t2 = datetime.datetime.now()\n",
    "print( \"Call took {0} s\".format((t2-t1).total_seconds()))"
   ]
  },
  {
   "cell_type": "code",
   "execution_count": 16,
   "metadata": {},
   "outputs": [
    {
     "name": "stdout",
     "output_type": "stream",
     "text": [
      "Call took 0.50169 s\n"
     ]
    }
   ],
   "source": [
    "t1 = datetime.datetime.now()\n",
    "response = Acquire.Service.call_function(service_url)\n",
    "t2 = datetime.datetime.now()\n",
    "print( \"Call took {0} s\".format((t2-t1).total_seconds()))"
   ]
  },
  {
   "cell_type": "code",
   "execution_count": null,
   "metadata": {},
   "outputs": [],
   "source": []
  }
 ],
 "metadata": {
  "kernelspec": {
   "display_name": "Python 3",
   "language": "python",
   "name": "python3"
  },
  "language_info": {
   "codemirror_mode": {
    "name": "ipython",
    "version": 3
   },
   "file_extension": ".py",
   "mimetype": "text/x-python",
   "name": "python",
   "nbconvert_exporter": "python",
   "pygments_lexer": "ipython3",
   "version": "3.7.0"
  }
 },
 "nbformat": 4,
 "nbformat_minor": 2
}
