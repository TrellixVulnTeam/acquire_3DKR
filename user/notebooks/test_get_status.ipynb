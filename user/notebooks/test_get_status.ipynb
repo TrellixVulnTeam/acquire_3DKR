{
 "cells": [
  {
   "cell_type": "markdown",
   "metadata": {},
   "source": [
    "This notebook is used to test that I can successfully get the status of a service, even if I ask for the service to use a key to encrypt traffic"
   ]
  },
  {
   "cell_type": "code",
   "execution_count": 2,
   "metadata": {},
   "outputs": [],
   "source": [
    "from Acquire.Client import Service\n",
    "import datetime"
   ]
  },
  {
   "cell_type": "code",
   "execution_count": 3,
   "metadata": {},
   "outputs": [],
   "source": [
    "service_url = \"http://fn.acquire-aaai.com:8080/t/access\""
   ]
  },
  {
   "cell_type": "code",
   "execution_count": 4,
   "metadata": {},
   "outputs": [
    {
     "name": "stdout",
     "output_type": "stream",
     "text": [
      "Call took 4.964572 s\n",
      "AccessService(url=http://fn.acquire-aaai.com:8080/t/access, uid=ab495477-5781-45f3-baef-1a17f62d4c56)\n"
     ]
    }
   ],
   "source": [
    "t1 = datetime.datetime.now()\n",
    "service = Service(service_url)\n",
    "t2 = datetime.datetime.now()\n",
    "print(\"Call took {0} s\".format((t2-t1).total_seconds()))\n",
    "print(service)"
   ]
  },
  {
   "cell_type": "code",
   "execution_count": 5,
   "metadata": {},
   "outputs": [
    {
     "name": "stdout",
     "output_type": "stream",
     "text": [
      "Call took 0.000147 s\n"
     ]
    }
   ],
   "source": [
    "t1 = datetime.datetime.now()\n",
    "service = Service(service_url)\n",
    "t2 = datetime.datetime.now()\n",
    "print( \"Call took {0} s\".format((t2-t1).total_seconds()))"
   ]
  },
  {
   "cell_type": "code",
   "execution_count": 6,
   "metadata": {},
   "outputs": [
    {
     "data": {
      "text/plain": [
       "{'status': 0,\n",
       " 'message': 'Success',\n",
       " 'service_info': {'uid': 'ab495477-5781-45f3-baef-1a17f62d4c56',\n",
       "  'service_type': 'access',\n",
       "  'service_url': 'http://fn.acquire-aaai.com:8080/t/access',\n",
       "  'public_certificate': {'bytes': 'LS0tLS1CRUdJTiBQVUJMSUMgS0VZLS0tLS0KTUlJQklqQU5CZ2txaGtpRzl3MEJBUUVGQUFPQ0FROEFNSUlCQ2dLQ0FRRUExdGVHenB3Wkd4dG9EVTN2bC9peApnU3RDSUdXa1VvdnRpZFhrcEFOUUs1amZsZ1R5bTgxaFU5OTUvc0pXUjFKWDdZRlpyZVdJYlpwQ1c5dWJEd1VxClBBYmxBeFF3R1UyTUp2ZVpGaGJkQ1BjZWg4cmpiUXYxQmFFUjRCUUp0dUNZV1hvV3hFOFRLZURaWk0wWGxKTWEKdEVWdzZSanZJdW9FMStnNlg2enFVWm1PN3hBQnZDRlFGRzNzU0JBaVJldnQ1cHpsbUc2WVpFcGhmWVRtVTgzNApnZjhxSkxBMnVqT3NOUWdzUngrOFZ1amV6S3A4dE1iNmlNNUJjWDRjdVFZQlBxSEdjTzd0U1pBc1JMd0IrS3pmCjdLMVNhR0VWVjI1SktFV29pQkVzYWRBSi9RcXZEa0RZRDhDWS9iSlE4YVAvVDFZUW1FVkNUWldCNURsZ0R4ZUoKcHdJREFRQUIKLS0tLS1FTkQgUFVCTElDIEtFWS0tLS0tCg=='},\n",
       "  'public_key': {'bytes': 'LS0tLS1CRUdJTiBQVUJMSUMgS0VZLS0tLS0KTUlJQklqQU5CZ2txaGtpRzl3MEJBUUVGQUFPQ0FROEFNSUlCQ2dLQ0FRRUEyZlFPVms1TjAxN2NhaDRpMHppVQpoekpwZ3VUYXNpK0p1blVzaGRhQW5pTy9yRUs4ajd1NExTTkdHckt0akhYWjhFTnRWSGJpS0ZCWWs3d3BCMklRClNqa2dLNHVvajladFZjU2lTNTAwMlNrZDZyVzRhYmpZVW8xMFU3Y3ZVZFVJbDlTU3BHYWdrL2Z4Sm1CNmdSN1kKNHVtYnAwdlg4VHRrbkQ1eDNtVkduaGZhSUp2dHZyNnAxdDdDZUpiMXl1Q0xwdVZvbzNBV2hicWk5TFZpN2ZLNQp4WjFBUXJmWUd3eGlGZHQ0YzlHSDlJdkRRSEZHdWF1Qk9sOXZLZ2RLTzRSc0hwUTFiRThPNXY4YUdxUGxhSXBOCkJVWnJDK1JkSjZzdWlQTXhZM05yMkV4cjJ2QzNZbk1RNnZQS2JZNG1PYlQ0MnhlY1RIWWt3a3I1YzdHT3d2ZkQKdXdJREFRQUIKLS0tLS1FTkQgUFVCTElDIEtFWS0tLS0tCg=='},\n",
       "  'last_certificate': {'bytes': 'LS0tLS1CRUdJTiBQVUJMSUMgS0VZLS0tLS0KTUlJQklqQU5CZ2txaGtpRzl3MEJBUUVGQUFPQ0FROEFNSUlCQ2dLQ0FRRUExdGVHenB3Wkd4dG9EVTN2bC9peApnU3RDSUdXa1VvdnRpZFhrcEFOUUs1amZsZ1R5bTgxaFU5OTUvc0pXUjFKWDdZRlpyZVdJYlpwQ1c5dWJEd1VxClBBYmxBeFF3R1UyTUp2ZVpGaGJkQ1BjZWg4cmpiUXYxQmFFUjRCUUp0dUNZV1hvV3hFOFRLZURaWk0wWGxKTWEKdEVWdzZSanZJdW9FMStnNlg2enFVWm1PN3hBQnZDRlFGRzNzU0JBaVJldnQ1cHpsbUc2WVpFcGhmWVRtVTgzNApnZjhxSkxBMnVqT3NOUWdzUngrOFZ1amV6S3A4dE1iNmlNNUJjWDRjdVFZQlBxSEdjTzd0U1pBc1JMd0IrS3pmCjdLMVNhR0VWVjI1SktFV29pQkVzYWRBSi9RcXZEa0RZRDhDWS9iSlE4YVAvVDFZUW1FVkNUWldCNURsZ0R4ZUoKcHdJREFRQUIKLS0tLS1FTkQgUFVCTElDIEtFWS0tLS0tCg=='},\n",
       "  'last_key_update': '2019-02-18T20:14:00.946327',\n",
       "  'key_update_interval': 604800.0,\n",
       "  'service_user_name': 'access_principal',\n",
       "  'service_user_uid': 'e5e03b59-bc04-4a7f-9ebd-9c32dbc795f6',\n",
       "  'validation_string': 'ab495477-5781-45f3-baef-1a17f62d4c56:http://fn.acquire-aaai.com:8080/t/access:access:ea:78:e4:ba:d3:90:27:31:c1:44:c2:03:2d:5c:19:4f:95:b2:ca:29:ae:53:c2:46:94:02:7b:13:44:d2:06:ca:ea:78:e4:ba:d3:90:27:31:c1:44:c2:03:2d:5c:19:4f:e5e03b59-bc04-4a7f-9ebd-9c32dbc795f6:2019-02-18T20:14:00.946327+00:00:604800.0',\n",
       "  'public_signature': 'zaPDxEuxU5pB/JnLFRJd49R0eDvXAe5KBruRzexRXRPJN/4F+2JzSvxTNu7VVmvW8ZxFXxTg1/fcq+xj1WioAepjU8EvzHRqp/7bzXNGWMWm3NnHAnmYNdYivlopXGVoVq3lG69uQLsdxBE6ybSLmrJt7CT85OSC5P/J0RBw5WtU2OrNe9y2VThMZmguMKdEsfcA8Yo3jnQHRIPQ/bG30Q92/47SO8N1FED0izj7yXp3aIXTbEWwzLBsabs2C8BouLeSCsIr6Yq+jeYzMwyU+DNj2PuTjQSOQ+MZW2cLmh+89ZlJez+C4LeK1sRbQMgsu2xupGFjkgm5FItqHO9uag==',\n",
       "  'last_signature': 'amechDsicCKJAih9mfpwHZzQHE7yz3WcTLmfIqLKgFm/Q2IWHX5gGZdPdEI38E9tCoGeatY71onvDfjjoNxXomhoLwZ30ddURAU8djM2gFPsAuSvVDofDlniNN8UZ/a2i6KPL6WRulUkvaPSc2wgcfl4rBrOqrNXHEDJtCQXLmdK1SoKnvivSJTCx7WoMQPM2+JbdKvkkQ236QyW8+F4aCIhQTTra7FaTJr41wYZ0b2sF8NLMvZz+N9aYFoumpsA+94QGo1Bxx5qSI4zjJ7iwIX7wbLRBY98vm40UGFbK91qRNPgxqDMX2VEOsaeJ8LhNJGZqaPOUtU1WSSpd8igrA=='}}"
      ]
     },
     "execution_count": 6,
     "metadata": {},
     "output_type": "execute_result"
    }
   ],
   "source": [
    "service.call_function(function=None)"
   ]
  },
  {
   "cell_type": "code",
   "execution_count": 7,
   "metadata": {},
   "outputs": [
    {
     "data": {
      "text/plain": [
       "False"
      ]
     },
     "execution_count": 7,
     "metadata": {},
     "output_type": "execute_result"
    }
   ],
   "source": [
    "service.should_refresh_keys()"
   ]
  },
  {
   "cell_type": "code",
   "execution_count": 16,
   "metadata": {},
   "outputs": [],
   "source": [
    "from Acquire.Client import User\n",
    "admin = User(\"admin-%s\" % service.service_type(), identity_url=service_url)"
   ]
  },
  {
   "cell_type": "code",
   "execution_count": 17,
   "metadata": {},
   "outputs": [
    {
     "name": "stdout",
     "output_type": "stream",
     "text": [
      "http://fn.acquire-aaai.com:8080/t/access/s?id=d24b615b\n"
     ]
    },
    {
     "data": {
      "image/png": "[encoded data removed]",
      "text/plain": [
       "<qrcode.image.pil.PilImage at 0x106f96ba8>"
      ]
     },
     "execution_count": 17,
     "metadata": {},
     "output_type": "execute_result"
    }
   ],
   "source": [
    "(url, qrcode) = admin.request_login()\n",
    "print(url)\n",
    "qrcode"
   ]
  },
  {
   "cell_type": "code",
   "execution_count": 12,
   "metadata": {},
   "outputs": [
    {
     "data": {
      "text/plain": [
       "True"
      ]
     },
     "execution_count": 12,
     "metadata": {},
     "output_type": "execute_result"
    }
   ],
   "source": [
    "admin.wait_for_login()"
   ]
  },
  {
   "cell_type": "code",
   "execution_count": 14,
   "metadata": {},
   "outputs": [
    {
     "data": {
      "text/plain": [
       "{'status': 0,\n",
       " 'message': 'Success. Keys have been dumped',\n",
       " 'args': {'authorisation': {'user_uid': '1b00addb-71b8-4b3f-bfb2-de7c39ab07af',\n",
       "   'session_uid': 'e4bbaf61-61c4-46e2-9ed5-434403e24582',\n",
       "   'identity_url': 'http://fn.acquire-aaai.com:8080/t/access',\n",
       "   'identity_uid': 'ab495477-5781-45f3-baef-1a17f62d4c56',\n",
       "   'auth_datetime': '2019-02-19T16:14:56.630561',\n",
       "   'signature': 'BtXmUVIeqrZuGOL4MY6ylNaTkscifXzMDDqPyhYXbtSE23ayRFGgJrh8yKrKsv3vXyL46ACyHonBTvZZRmuVxQR5+p+xcXJxWze0xAtuKolezK5qH1pW39mJPJpGqbsCJxTjJsYv61oL6EK/WFSYLc+RxYUDH4NgokvKb2neCbjjYKCPX4wyf8OZZKNPWKBfBPEFF5KzV24JtMzxZa7rua1q5EaI/FKFjS3YK/5iJ9aB1hcp2aD77OsCaHt8u4PDF5GZUiaN4N4I47dc3fHCf4wKDcCTSHk2Rk0wnmUQajXSR0H4lyx2yC9aUNqokXMNn7vvhcUMLCnQaNPqP/Kd7g=='},\n",
       "  'function': 'dump_keys',\n",
       "  'encryption_public_key': 'LS0tLS1CRUdJTiBQVUJMSUMgS0VZLS0tLS0KTUlJQklqQU5CZ2txaGtpRzl3MEJBUUVGQUFPQ0FROEFNSUlCQ2dLQ0FRRUFvY2NjM2pPTTU1dnlYakU3TlNTZApOalBtRExhQjJJNUl6cVRoVDBkUVdjVE5Bdit5SlVVd1BzYVZTc2xEOUorN1FDdnpnSUQwSTZKdGcvZ2JsYkxPCkZUK3lqSHFKaTVFNVlIYXlVeGNFbHdZWW80Z0VsV0tNclBHbE81S2NkNS9XczFieXFiMklPcStpTmdhemN4d1AKL1ZBVE1lcndXbXhkbTJRaVd3c2RmdWNYQlBjbzZpWDc5TWhLQjU4RGc4TXdaRURldnB3WWpBYXNMOGxIeVNjRwprZnlwd3hmY1NYOGF4SXk2bCtPNi9wTVB6OUxXcE9iVnA5dUlEZEhWN2VQZGtpTDdvZnpMalBOMC9jK2M0c3c3CmU3Ny9ycCsyY0FuY1c2WFFpd2VpODJmSjdNVlE4bHJRK1poODZFUTEvejFlWmxuTlMwWlRzZUxacXNlSG5oVXMKUFFJREFRQUIKLS0tLS1FTkQgUFVCTElDIEtFWS0tLS0tCg==',\n",
       "  'sign_with_service_key': 'ea:78:e4:ba:d3:90:27:31:c1:44:c2:03:2d:5c:19:4f'}}"
      ]
     },
     "execution_count": 14,
     "metadata": {},
     "output_type": "execute_result"
    }
   ],
   "source": [
    "from Acquire.Client import Authorisation\n",
    "auth = Authorisation(user=admin, resource=\"dump_keys %s\" % service.uid())\n",
    "service.call_function(function=\"dump_keys\", args={\"authorisation\": auth.to_data()})"
   ]
  },
  {
   "cell_type": "code",
   "execution_count": 15,
   "metadata": {},
   "outputs": [
    {
     "data": {
      "text/plain": [
       "{'status': 0,\n",
       " 'message': 'Successfully logged out',\n",
       " 'synctime': '2019-02-19T16:18:56.542262'}"
      ]
     },
     "execution_count": 15,
     "metadata": {},
     "output_type": "execute_result"
    }
   ],
   "source": [
    "admin.logout()"
   ]
  },
  {
   "cell_type": "code",
   "execution_count": null,
   "metadata": {},
   "outputs": [],
   "source": []
  }
 ],
 "metadata": {
  "kernelspec": {
   "display_name": "Python 3",
   "language": "python",
   "name": "python3"
  },
  "language_info": {
   "codemirror_mode": {
    "name": "ipython",
    "version": 3
   },
   "file_extension": ".py",
   "mimetype": "text/x-python",
   "name": "python",
   "nbconvert_exporter": "python",
   "pygments_lexer": "ipython3",
   "version": "3.6.6"
  }
 },
 "nbformat": 4,
 "nbformat_minor": 2
}
