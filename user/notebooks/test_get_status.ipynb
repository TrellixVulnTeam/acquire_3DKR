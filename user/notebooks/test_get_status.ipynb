{
 "cells": [
  {
   "cell_type": "markdown",
   "metadata": {},
   "source": [
    "This notebook is used to test that I can successfully get the status of a service, even if I ask for the service to use a key to encrypt traffic"
   ]
  },
  {
   "cell_type": "code",
   "execution_count": 1,
   "metadata": {},
   "outputs": [],
   "source": [
    "import Acquire.Service\n",
    "import Acquire.Crypto\n",
    "import Acquire.Client\n",
    "import datetime"
   ]
  },
  {
   "cell_type": "code",
   "execution_count": 4,
   "metadata": {},
   "outputs": [],
   "source": [
    "service_url = \"http://fn.acquire-aaai.com:8080/t/access\""
   ]
  },
  {
   "cell_type": "code",
   "execution_count": 5,
   "metadata": {},
   "outputs": [
    {
     "name": "stdout",
     "output_type": "stream",
     "text": [
      "{'status': 0, 'message': 'Success', 'service_info': {'uid': 'ab495477-5781-45f3-baef-1a17f62d4c56', 'service_type': 'access', 'service_url': 'http://fn.acquire-aaai.com:8080/t/access', 'public_certificate': {'bytes': 'LS0tLS1CRUdJTiBQVUJMSUMgS0VZLS0tLS0KTUlJQklqQU5CZ2txaGtpRzl3MEJBUUVGQUFPQ0FROEFNSUlCQ2dLQ0FRRUFreHBsZzg2Z1A4NFRrWUo5VGZDWgpTVENYMVVCcXFLUStvV2Z0VnhMRjBJTCs0QTByTWZvTjA5aXQ5QVBCUWZwNlhaZzVtNGZDUk9mdUhpTDFNWExUCjNtSHhCRmkzT1RQbVo4SjN2UVJVNkthdldQV05saUw0SVl6U3dOY0NJQ0RITnJ0NFhKMjgzL0c3NUpLY2xza2YKZTcvZkJJQVhNS29FL3R0K2ExTHBKOXl4RWUzS042N1Z2eVRPZ3Q4ZlA1VTN4MGxQb1g3bjVaeTlxZXA5NDJlMApWTGNEZ0pNVnpDQmNpVkVlRk1PSHVWemwzeUpyRWh0N3J6cHNrSHptS0REdGZqRUg0KzZHcnR3S3ZlZUh3SUxmCjZWQTJySG1CbmlqdjA3SE55L1FkZWxBSVIrVFYwT3kxWFBXWVk1dWRDV240STFBdTBld25QMHdqSEFVandMWHUKbXdJREFRQUIKLS0tLS1FTkQgUFVCTElDIEtFWS0tLS0tCg=='}, 'public_key': {'bytes': 'LS0tLS1CRUdJTiBQVUJMSUMgS0VZLS0tLS0KTUlJQklqQU5CZ2txaGtpRzl3MEJBUUVGQUFPQ0FROEFNSUlCQ2dLQ0FRRUFxcktqV0ZwQmNqZFFLZUV0UVpwUQpHajJrN0QwSHFUc1J6V3Z1a3VIdlhPeDZzWTdjd00wcVRnb1pwU2phQURRUllNUWFJVzQ0UW4rSkdyU0JiVFdZClJLczJ1ZElWeTRuTUp0ZWJjVld5OU43S2EzZWdScFIyMzBHSE9nM3NDcFFjL3lscHZNM2xPcXd6NkdWVUpQZngKUDlyNm5VemFza2RmckZxdUl3aHUvc1pVZGdSTmFwUUVWYTFJdDRXR2Z6dUc5eDg1d2Q5QmVZZ1JMQkVLL2lyZgp0VHhRN2FSa1h4VzBoRlg5QVByZy9aT0o1QUJhMlJiL0ozS1cyaXBTV3lUbEVLaVczQ3dBWDRERFVZSndpNWI1CktDMGNNTTVJOUdrdXMrS0FzU3VDdThmMXRVVmtIdk5IQjA0WkdTODNQL0NLRjh0a0JRTUhtdG1HWjYyUXNJWUYKSXdJREFRQUIKLS0tLS1FTkQgUFVCTElDIEtFWS0tLS0tCg=='}, 'last_certificate': {'bytes': 'LS0tLS1CRUdJTiBQVUJMSUMgS0VZLS0tLS0KTUlJQklqQU5CZ2txaGtpRzl3MEJBUUVGQUFPQ0FROEFNSUlCQ2dLQ0FRRUFweXpiR2dYNnZpZjdzS2NYQjVRTgpxMUt4bG9KOUlJN0YzWU02QVNCcTFUTnlHTWRES0VBT3RVMEU5UDhlUEZXNDNSbWNRZTNYSFd4Mnl6a0I1dHJtClZDdGVqMFVSWG5oc1c5NS8vL1NkbTFSa0hPSkN4SXIyRnE1b09SNXVqcWlRcUt0WTJ2K2dlMkZxZTJPMlBUc1kKNllmTFA2TDlhbVp2cnBzV0plQVJGWVlwelgzbW1DWG5yOUpVWGZrVWJHcU0zdDZJazJUS0ZhSEdrWTZWaWRhcwozV1lGM0ttQUxSUDdzeDBFT3loT1ovSGdMaHNGcitzZW50enZQK2ZrSmxEeXVyd2JMMXZHTlYrbnNxNC9TZzFmCnA2NGpTaGtTZnY1UlJneUdPa3dSOGtWWWVsUUVpMWpud2NxQXFNSTFIU1Y2c0JmSEhURmZab2tvakZlNFZHYVIKbXdJREFRQUIKLS0tLS1FTkQgUFVCTElDIEtFWS0tLS0tCg=='}, 'last_key_update': '2019-02-11T19:44:22.476794', 'key_update_interval': 604800.0, 'service_user_name': 'access_principal', 'service_user_uid': 'e5e03b59-bc04-4a7f-9ebd-9c32dbc795f6'}}\n"
     ]
    }
   ],
   "source": [
    "response = Acquire.Service.call_function(service_url)\n",
    "print(response)"
   ]
  },
  {
   "cell_type": "code",
   "execution_count": null,
   "metadata": {},
   "outputs": [],
   "source": [
    "key = Acquire.Crypto.PrivateKey()"
   ]
  },
  {
   "cell_type": "code",
   "execution_count": null,
   "metadata": {},
   "outputs": [],
   "source": [
    "response2 = Acquire.Service.call_function(service_url, response_key=key)"
   ]
  },
  {
   "cell_type": "code",
   "execution_count": null,
   "metadata": {},
   "outputs": [],
   "source": [
    "assert( response2[\"service_info\"] == response[\"service_info\"] )"
   ]
  },
  {
   "cell_type": "code",
   "execution_count": null,
   "metadata": {},
   "outputs": [],
   "source": [
    "service = Acquire.Service.Service.from_data(response[\"service_info\"])\n",
    "print(service)"
   ]
  },
  {
   "cell_type": "code",
   "execution_count": null,
   "metadata": {},
   "outputs": [],
   "source": [
    "response3 = Acquire.Service.call_function(service_url, args_key=service.public_key())\n",
    "print(response3)"
   ]
  },
  {
   "cell_type": "code",
   "execution_count": null,
   "metadata": {},
   "outputs": [],
   "source": [
    "assert( response3[\"service_info\"] == response[\"service_info\"] )"
   ]
  },
  {
   "cell_type": "code",
   "execution_count": null,
   "metadata": {},
   "outputs": [],
   "source": [
    "response4 = Acquire.Service.call_function(service_url, args_key=service.public_key(), response_key=key)"
   ]
  },
  {
   "cell_type": "code",
   "execution_count": null,
   "metadata": {},
   "outputs": [],
   "source": [
    "assert( response4[\"service_info\"] == response[\"service_info\"] )"
   ]
  },
  {
   "cell_type": "code",
   "execution_count": null,
   "metadata": {},
   "outputs": [],
   "source": [
    "user = Acquire.Client.User(\"chryswoods\", service_url)"
   ]
  },
  {
   "cell_type": "code",
   "execution_count": null,
   "metadata": {},
   "outputs": [],
   "source": [
    "user_service = user.identity_service()"
   ]
  },
  {
   "cell_type": "code",
   "execution_count": null,
   "metadata": {},
   "outputs": [],
   "source": [
    "assert( user_service.uuid() == service.uuid() )"
   ]
  },
  {
   "cell_type": "code",
   "execution_count": null,
   "metadata": {},
   "outputs": [],
   "source": [
    "t1 = datetime.datetime.now()\n",
    "response = Acquire.Service.call_function(service_url)\n",
    "t2 = datetime.datetime.now()\n",
    "print( \"Call took {0} s\".format((t2-t1).total_seconds()))"
   ]
  },
  {
   "cell_type": "code",
   "execution_count": null,
   "metadata": {},
   "outputs": [],
   "source": [
    "t1 = datetime.datetime.now()\n",
    "response = Acquire.Service.call_function(service_url)\n",
    "t2 = datetime.datetime.now()\n",
    "print( \"Call took {0} s\".format((t2-t1).total_seconds()))"
   ]
  },
  {
   "cell_type": "code",
   "execution_count": null,
   "metadata": {},
   "outputs": [],
   "source": []
  }
 ],
 "metadata": {
  "kernelspec": {
   "display_name": "Python 3",
   "language": "python",
   "name": "python3"
  },
  "language_info": {
   "codemirror_mode": {
    "name": "ipython",
    "version": 3
   },
   "file_extension": ".py",
   "mimetype": "text/x-python",
   "name": "python",
   "nbconvert_exporter": "python",
   "pygments_lexer": "ipython3",
   "version": "3.6.6"
  }
 },
 "nbformat": 4,
 "nbformat_minor": 2
}
