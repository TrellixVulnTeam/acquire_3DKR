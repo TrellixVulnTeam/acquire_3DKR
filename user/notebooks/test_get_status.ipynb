{
 "cells": [
  {
   "cell_type": "markdown",
   "metadata": {},
   "source": [
    "This notebook is used to test that I can successfully get the status of a service, even if I ask for the service to use a key to encrypt traffic"
   ]
  },
  {
   "cell_type": "code",
   "execution_count": 1,
   "metadata": {},
   "outputs": [],
   "source": [
    "import Acquire.Service\n",
    "import Acquire.Crypto\n",
    "import Acquire.Client\n",
    "import datetime"
   ]
  },
  {
   "cell_type": "code",
   "execution_count": 2,
   "metadata": {},
   "outputs": [],
   "source": [
    "service_url = \"http://identity-gcp.acquire-aaai.com:8080/t/identity\""
   ]
  },
  {
   "cell_type": "code",
   "execution_count": 3,
   "metadata": {},
   "outputs": [
    {
     "name": "stdout",
     "output_type": "stream",
     "text": [
      "{'status': 0, 'message': 'Success', 'service_info': {'uuid': 'ff9cbf36-ed5f-4f0e-a945-b7b4573b9d21', 'service_type': 'identity', 'service_url': 'http://35.187.209.158:8080/t/identity', 'public_certificate': {'bytes': 'LS0tLS1CRUdJTiBQVUJMSUMgS0VZLS0tLS0KTUlJQklqQU5CZ2txaGtpRzl3MEJBUUVGQUFPQ0FROEFNSUlCQ2dLQ0FRRUFxeGpxUFI0R25pMld2cVBtcW1aNwpCOVZHU1NJZlpLRkFDR0s3NCtxRmFWOFRzMHJtU2dYZDJrdUNZSzhSSEVBbFU5VEFidGtyTmZpQm1IcXlvQ2pPCkRia25Ha3ZjdFVyS0EyWFpNdEFYMVBKVThUVEcrN3VaRWFJWlRPUG9sZGd1UEdTalV0dksweitPMzBVT3hLYTQKWkRIUHlBUTNwNlhxTzZPQ0lIWjJyc2huZUFSQlVKUzUzTWJtbFl5T0xLK3doUnFOaUhreDRrSmVxQVJ6QitWZQpjQVFjOUZhS2FSSlc2K3J4UmN4aWJaSVpUV2xNWDJOV2Y5NHdCdXhFMFVwQnU0SXNldlcrU01Ud0xJRHBqd01tClNRUnNBcENQTzFYMUw1Vk1GZVVXODNxWkVHOVZSUXpTSHIyQUI5WGJoellxREJmdnBCcUlsK0FweTRTRjdMRGIKcVFJREFRQUIKLS0tLS1FTkQgUFVCTElDIEtFWS0tLS0tCg=='}, 'public_key': {'bytes': 'LS0tLS1CRUdJTiBQVUJMSUMgS0VZLS0tLS0KTUlJQklqQU5CZ2txaGtpRzl3MEJBUUVGQUFPQ0FROEFNSUlCQ2dLQ0FRRUExc0tka1RITFJqaFlJV2o3RVF4NgovS1hSQUtQd0RMaGVadWlzWWhQTFZwditMOGIwMUNzTE1JVDF2c2hsaE9naFVZc1o2SmJYZnRnYUMvK082bVoyCk4vVlltMWtTajYyWFE1dndFV3d0bWdycUpVb2p1WkY3ajVxcEFjNXdCOWR6QkQ1Q29CKzVOSWpHc0dnRTRrRzUKaU52dFpKRGtZWVdRUGRKSmxRR0R5MC9HN0JWRU0rM1FTVjk5b3dqV0lzWDNpVEhVc3NWTmxkQTJQcGpEZlhrRApvak9Sbis0Kzd4KzlwUkx3OTVDalJiTVJZaVdmcE82cFNCMEFWZ0UwS1d2OWRhVVhmT0E1bHNRUUpDdEI4NjhjClQ0NFVHU0E3RHZLRjN6Nmt6eEhBSkZ0NkU4S09xVkJlc3dqTUgydUdHbDBZT0dWckFBUSt3NHhKd3p4cmpmQVAKOFFJREFRQUIKLS0tLS1FTkQgUFVCTElDIEtFWS0tLS0tCg=='}}}\n"
     ]
    }
   ],
   "source": [
    "response = Acquire.Service.call_function(service_url, args={\"cat\":\"mieow\", \"dog\":\"woof\"})\n",
    "print(response)"
   ]
  },
  {
   "cell_type": "code",
   "execution_count": null,
   "metadata": {},
   "outputs": [],
   "source": [
    "key = Acquire.Crypto.PrivateKey()"
   ]
  },
  {
   "cell_type": "code",
   "execution_count": null,
   "metadata": {},
   "outputs": [],
   "source": [
    "response2 = Acquire.Service.call_function(service_url, response_key=key)"
   ]
  },
  {
   "cell_type": "code",
   "execution_count": null,
   "metadata": {},
   "outputs": [],
   "source": [
    "assert( response2[\"service_info\"] == response[\"service_info\"] )"
   ]
  },
  {
   "cell_type": "code",
   "execution_count": null,
   "metadata": {},
   "outputs": [],
   "source": [
    "service = Acquire.Service.Service.from_data(response[\"service_info\"])\n",
    "print(service)"
   ]
  },
  {
   "cell_type": "code",
   "execution_count": null,
   "metadata": {},
   "outputs": [],
   "source": [
    "response3 = Acquire.Service.call_function(service_url, args_key=service.public_key())\n",
    "print(response3)"
   ]
  },
  {
   "cell_type": "code",
   "execution_count": null,
   "metadata": {},
   "outputs": [],
   "source": [
    "assert( response3[\"service_info\"] == response[\"service_info\"] )"
   ]
  },
  {
   "cell_type": "code",
   "execution_count": null,
   "metadata": {},
   "outputs": [],
   "source": [
    "response4 = Acquire.Service.call_function(service_url, args_key=service.public_key(), response_key=key)"
   ]
  },
  {
   "cell_type": "code",
   "execution_count": null,
   "metadata": {},
   "outputs": [],
   "source": [
    "assert( response4[\"service_info\"] == response[\"service_info\"] )"
   ]
  },
  {
   "cell_type": "code",
   "execution_count": null,
   "metadata": {},
   "outputs": [],
   "source": [
    "user = Acquire.Client.User(\"chryswoods\", service_url)"
   ]
  },
  {
   "cell_type": "code",
   "execution_count": null,
   "metadata": {},
   "outputs": [],
   "source": [
    "user_service = user.identity_service()"
   ]
  },
  {
   "cell_type": "code",
   "execution_count": null,
   "metadata": {},
   "outputs": [],
   "source": [
    "assert( user_service.uuid() == service.uuid() )"
   ]
  },
  {
   "cell_type": "code",
   "execution_count": null,
   "metadata": {},
   "outputs": [],
   "source": [
    "t1 = datetime.datetime.now()\n",
    "response = Acquire.Service.call_function(service_url)\n",
    "t2 = datetime.datetime.now()\n",
    "print( \"Call took {0} s\".format((t2-t1).total_seconds()))"
   ]
  },
  {
   "cell_type": "code",
   "execution_count": null,
   "metadata": {},
   "outputs": [],
   "source": [
    "t1 = datetime.datetime.now()\n",
    "response = Acquire.Service.call_function(service_url)\n",
    "t2 = datetime.datetime.now()\n",
    "print( \"Call took {0} s\".format((t2-t1).total_seconds()))"
   ]
  },
  {
   "cell_type": "code",
   "execution_count": null,
   "metadata": {},
   "outputs": [],
   "source": []
  }
 ],
 "metadata": {
  "kernelspec": {
   "display_name": "Python 3",
   "language": "python",
   "name": "python3"
  },
  "language_info": {
   "codemirror_mode": {
    "name": "ipython",
    "version": 3
   },
   "file_extension": ".py",
   "mimetype": "text/x-python",
   "name": "python",
   "nbconvert_exporter": "python",
   "pygments_lexer": "ipython3",
   "version": "3.7.0"
  }
 },
 "nbformat": 4,
 "nbformat_minor": 2
}
