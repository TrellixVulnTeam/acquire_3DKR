{
 "cells": [
  {
   "cell_type": "markdown",
   "metadata": {},
   "source": [
    "This notebook is used to test that I can successfully get the status of a service, even if I ask for the service to use a key to encrypt traffic"
   ]
  },
  {
   "cell_type": "code",
   "execution_count": 1,
   "metadata": {},
   "outputs": [],
   "source": [
    "from Acquire.Client import Service\n",
    "import datetime"
   ]
  },
  {
   "cell_type": "code",
   "execution_count": 2,
   "metadata": {},
   "outputs": [],
   "source": [
    "service_url = \"http://fn.acquire-aaai.com:8080/t/access\""
   ]
  },
  {
   "cell_type": "code",
   "execution_count": 5,
   "metadata": {},
   "outputs": [
    {
     "name": "stdout",
     "output_type": "stream",
     "text": [
      "Call took 0.000104 s\n",
      "AccessService(url=http://fn.acquire-aaai.com:8080/t/access, uid=ab495477-5781-45f3-baef-1a17f62d4c56)\n"
     ]
    }
   ],
   "source": [
    "t1 = datetime.datetime.now()\n",
    "service = Service(service_url)\n",
    "t2 = datetime.datetime.now()\n",
    "print(\"Call took {0} s\".format((t2-t1).total_seconds()))\n",
    "print(service)"
   ]
  },
  {
   "cell_type": "code",
   "execution_count": 6,
   "metadata": {},
   "outputs": [
    {
     "name": "stdout",
     "output_type": "stream",
     "text": [
      "Call took 0.000158 s\n"
     ]
    }
   ],
   "source": [
    "t1 = datetime.datetime.now()\n",
    "service = Service(service_url)\n",
    "t2 = datetime.datetime.now()\n",
    "print( \"Call took {0} s\".format((t2-t1).total_seconds()))"
   ]
  },
  {
   "cell_type": "code",
   "execution_count": 8,
   "metadata": {},
   "outputs": [
    {
     "ename": "DecryptionError",
     "evalue": "Error calling 'None' on 'http://fn.acquire-aaai.com:8080/t/access': Cannot decrypt the symmetric key used to encrypt the long message 'b'[\\x7f\\x0b1P\\xe2}<\\x85A\\xe0\\x0c\\x8b\\xa3\\xfb*p\\x8d>\\xbc+O\\x01\\xfa\\x8c\\xdc\\xfey\\x16\\x1c\\xd8\\xb7\\x00\\x12\\xe2\\x13\\x9d \\x87\\xfd\\xae\\xd4\\xc4\\xbe\\x98d7\\xcd\\xe5\\x85/\\xe9\\x97\\xa8\\xf6\\xa1k\\x89\\n\\x0fa!\\xc7 \\x13C\\xc9\\xc1\\xb2\\x81\\x89d^\\xac\\x02\\xad\\x01\\xa5\\xef\\x96\\x80K\\x9f\\x0b\\xec\\x900{3\\xaf}_\\xd5\\x92\\xd7\\xb7\\x1c\\x9a_}\\xf7ro\\xa9\\xde\\x1bt\\xf6%\\xd7\\xe9\\x9eU+\\x91\\xbf\\x85\\xaa\\x9dU\\x86\\xa2\\x8f\\x14\\x7f|9S\\xf0c\\x0co\\xb8s\\x02Z8]\\x82\\x05/\\x9f\\xb4,\\xfb\\xed[\\xadH,\\xc5\\x10\\x02\\xf3\\xf4\\xba\\xedSLd|\\xa5\\xa2\\x9a\\xcf\\xedN\\xd4\\xeb\\x8b\\x10Mg\\x15BR\\x1f\\xc1\\xd6e\\x18v=pN\\xbe\\x02L\\xd7K7\\xc1\\x9d/J\\xea~\\xbd\\xf9\\xde\\x117=\\x16*\\xba\\xfd\\xcf>*\\xd8N\\xf6x)$\\xaaeF\\xa3\\x93\\x97\\xc2\\x0e\\x00\\x87\\x08#\\xf0\\xbfQ\\xc4\\xef%$U\\xc1\\xadH\\x88\\xa0cKL\\x1cAT\\xff\\xff\\x19[\\xf7\\xff\\xfa^\\xb4'' (256): Decryption failed.",
     "output_type": "error",
     "traceback": [
      "\u001b[0;31m---------------------------------------------------------------------------\u001b[0m",
      "\u001b[0;31mDecryptionError\u001b[0m                           Traceback (most recent call last)",
      "\u001b[0;32m<ipython-input-8-c867d0d21a2c>\u001b[0m in \u001b[0;36m<module>\u001b[0;34m()\u001b[0m\n\u001b[0;32m----> 1\u001b[0;31m \u001b[0mservice\u001b[0m\u001b[0;34m.\u001b[0m\u001b[0mcall_function\u001b[0m\u001b[0;34m(\u001b[0m\u001b[0mfunction\u001b[0m\u001b[0;34m=\u001b[0m\u001b[0;32mNone\u001b[0m\u001b[0;34m)\u001b[0m\u001b[0;34m\u001b[0m\u001b[0m\n\u001b[0m",
      "\u001b[0;32m~/Work/acquire/source/Acquire/Service/_service.py\u001b[0m in \u001b[0;36mcall_function\u001b[0;34m(self, function, args)\u001b[0m\n\u001b[1;32m    549\u001b[0m                               \u001b[0margs_key\u001b[0m\u001b[0;34m=\u001b[0m\u001b[0mself\u001b[0m\u001b[0;34m.\u001b[0m\u001b[0mpublic_key\u001b[0m\u001b[0;34m(\u001b[0m\u001b[0;34m)\u001b[0m\u001b[0;34m,\u001b[0m\u001b[0;34m\u001b[0m\u001b[0m\n\u001b[1;32m    550\u001b[0m                               \u001b[0mpublic_cert\u001b[0m\u001b[0;34m=\u001b[0m\u001b[0mself\u001b[0m\u001b[0;34m.\u001b[0m\u001b[0mpublic_certificate\u001b[0m\u001b[0;34m(\u001b[0m\u001b[0;34m)\u001b[0m\u001b[0;34m,\u001b[0m\u001b[0;34m\u001b[0m\u001b[0m\n\u001b[0;32m--> 551\u001b[0;31m                               response_key=_get_private_key(\"function\"))\n\u001b[0m\u001b[1;32m    552\u001b[0m \u001b[0;34m\u001b[0m\u001b[0m\n\u001b[1;32m    553\u001b[0m     \u001b[0;32mdef\u001b[0m \u001b[0msign\u001b[0m\u001b[0;34m(\u001b[0m\u001b[0mself\u001b[0m\u001b[0;34m,\u001b[0m \u001b[0mmessage\u001b[0m\u001b[0;34m)\u001b[0m\u001b[0;34m:\u001b[0m\u001b[0;34m\u001b[0m\u001b[0m\n",
      "\u001b[0;32m~/Work/acquire/source/Acquire/Service/_function.py\u001b[0m in \u001b[0;36mcall_function\u001b[0;34m(service_url, function, args_key, response_key, public_cert, args, **kwargs)\u001b[0m\n\u001b[1;32m    407\u001b[0m \u001b[0;34m\u001b[0m\u001b[0m\n\u001b[1;32m    408\u001b[0m     return unpack_return_value(result, response_key, public_cert,\n\u001b[0;32m--> 409\u001b[0;31m                                function=function, service=service_url)\n\u001b[0m",
      "\u001b[0;32m~/Work/acquire/source/Acquire/Service/_function.py\u001b[0m in \u001b[0;36munpack_return_value\u001b[0;34m(return_value, key, public_cert, function, service)\u001b[0m\n\u001b[1;32m    269\u001b[0m     return unpack_arguments(return_value, key, public_cert,\n\u001b[1;32m    270\u001b[0m                             \u001b[0mis_return_value\u001b[0m\u001b[0;34m=\u001b[0m\u001b[0;32mTrue\u001b[0m\u001b[0;34m,\u001b[0m \u001b[0mfunction\u001b[0m\u001b[0;34m=\u001b[0m\u001b[0mfunction\u001b[0m\u001b[0;34m,\u001b[0m\u001b[0;34m\u001b[0m\u001b[0m\n\u001b[0;32m--> 271\u001b[0;31m                             service=service)\n\u001b[0m\u001b[1;32m    272\u001b[0m \u001b[0;34m\u001b[0m\u001b[0m\n\u001b[1;32m    273\u001b[0m \u001b[0;34m\u001b[0m\u001b[0m\n",
      "\u001b[0;32m~/Work/acquire/source/Acquire/Service/_function.py\u001b[0m in \u001b[0;36munpack_arguments\u001b[0;34m(args, key, public_cert, is_return_value, function, service)\u001b[0m\n\u001b[1;32m    208\u001b[0m             \u001b[0;32mif\u001b[0m \u001b[0mdata\u001b[0m\u001b[0;34m[\u001b[0m\u001b[0;34m\"status\"\u001b[0m\u001b[0;34m]\u001b[0m \u001b[0;34m!=\u001b[0m \u001b[0;36m0\u001b[0m\u001b[0;34m:\u001b[0m\u001b[0;34m\u001b[0m\u001b[0m\n\u001b[1;32m    209\u001b[0m                 \u001b[0;32mif\u001b[0m \u001b[0;34m\"exception\"\u001b[0m \u001b[0;32min\u001b[0m \u001b[0mdata\u001b[0m\u001b[0;34m:\u001b[0m\u001b[0;34m\u001b[0m\u001b[0m\n\u001b[0;32m--> 210\u001b[0;31m                     \u001b[0m_unpack_and_raise\u001b[0m\u001b[0;34m(\u001b[0m\u001b[0mfunction\u001b[0m\u001b[0;34m,\u001b[0m \u001b[0mservice\u001b[0m\u001b[0;34m,\u001b[0m \u001b[0mdata\u001b[0m\u001b[0;34m[\u001b[0m\u001b[0;34m\"exception\"\u001b[0m\u001b[0;34m]\u001b[0m\u001b[0;34m)\u001b[0m\u001b[0;34m\u001b[0m\u001b[0m\n\u001b[0m\u001b[1;32m    211\u001b[0m                 \u001b[0;32melse\u001b[0m\u001b[0;34m:\u001b[0m\u001b[0;34m\u001b[0m\u001b[0m\n\u001b[1;32m    212\u001b[0m                     raise RemoteFunctionCallError(\n",
      "\u001b[0;32m~/Work/acquire/source/Acquire/Service/_function.py\u001b[0m in \u001b[0;36m_unpack_and_raise\u001b[0;34m(function, service, exdata)\u001b[0m\n\u001b[1;32m    300\u001b[0m             (function, service), e)\n\u001b[1;32m    301\u001b[0m \u001b[0;34m\u001b[0m\u001b[0m\n\u001b[0;32m--> 302\u001b[0;31m     \u001b[0;32mraise\u001b[0m \u001b[0mex\u001b[0m\u001b[0;34m\u001b[0m\u001b[0m\n\u001b[0m\u001b[1;32m    303\u001b[0m \u001b[0;34m\u001b[0m\u001b[0m\n\u001b[1;32m    304\u001b[0m \u001b[0;34m\u001b[0m\u001b[0m\n",
      "\u001b[0;32m/function/python_modules/admin/handler.py\u001b[0m in \u001b[0;36m_base_handler\u001b[0;34m()\u001b[0m\n",
      "\u001b[0;32m/function/python_modules/Acquire/Service/_function.py\u001b[0m in \u001b[0;36munpack_arguments\u001b[0;34m()\u001b[0m\n",
      "\u001b[0;32m/function/python_modules/Acquire/Crypto/_keys.py\u001b[0m in \u001b[0;36mdecrypt\u001b[0;34m()\u001b[0m\n",
      "\u001b[0;31mDecryptionError\u001b[0m: Error calling 'None' on 'http://fn.acquire-aaai.com:8080/t/access': Cannot decrypt the symmetric key used to encrypt the long message 'b'[\\x7f\\x0b1P\\xe2}<\\x85A\\xe0\\x0c\\x8b\\xa3\\xfb*p\\x8d>\\xbc+O\\x01\\xfa\\x8c\\xdc\\xfey\\x16\\x1c\\xd8\\xb7\\x00\\x12\\xe2\\x13\\x9d \\x87\\xfd\\xae\\xd4\\xc4\\xbe\\x98d7\\xcd\\xe5\\x85/\\xe9\\x97\\xa8\\xf6\\xa1k\\x89\\n\\x0fa!\\xc7 \\x13C\\xc9\\xc1\\xb2\\x81\\x89d^\\xac\\x02\\xad\\x01\\xa5\\xef\\x96\\x80K\\x9f\\x0b\\xec\\x900{3\\xaf}_\\xd5\\x92\\xd7\\xb7\\x1c\\x9a_}\\xf7ro\\xa9\\xde\\x1bt\\xf6%\\xd7\\xe9\\x9eU+\\x91\\xbf\\x85\\xaa\\x9dU\\x86\\xa2\\x8f\\x14\\x7f|9S\\xf0c\\x0co\\xb8s\\x02Z8]\\x82\\x05/\\x9f\\xb4,\\xfb\\xed[\\xadH,\\xc5\\x10\\x02\\xf3\\xf4\\xba\\xedSLd|\\xa5\\xa2\\x9a\\xcf\\xedN\\xd4\\xeb\\x8b\\x10Mg\\x15BR\\x1f\\xc1\\xd6e\\x18v=pN\\xbe\\x02L\\xd7K7\\xc1\\x9d/J\\xea~\\xbd\\xf9\\xde\\x117=\\x16*\\xba\\xfd\\xcf>*\\xd8N\\xf6x)$\\xaaeF\\xa3\\x93\\x97\\xc2\\x0e\\x00\\x87\\x08#\\xf0\\xbfQ\\xc4\\xef%$U\\xc1\\xadH\\x88\\xa0cKL\\x1cAT\\xff\\xff\\x19[\\xf7\\xff\\xfa^\\xb4'' (256): Decryption failed."
     ]
    }
   ],
   "source": [
    "service.call_function(function=None)"
   ]
  },
  {
   "cell_type": "code",
   "execution_count": null,
   "metadata": {},
   "outputs": [],
   "source": []
  }
 ],
 "metadata": {
  "kernelspec": {
   "display_name": "Python 3",
   "language": "python",
   "name": "python3"
  },
  "language_info": {
   "codemirror_mode": {
    "name": "ipython",
    "version": 3
   },
   "file_extension": ".py",
   "mimetype": "text/x-python",
   "name": "python",
   "nbconvert_exporter": "python",
   "pygments_lexer": "ipython3",
   "version": "3.6.6"
  }
 },
 "nbformat": 4,
 "nbformat_minor": 2
}
