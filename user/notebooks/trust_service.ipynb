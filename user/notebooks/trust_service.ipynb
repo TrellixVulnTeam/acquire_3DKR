{
 "cells": [
  {
   "cell_type": "markdown",
   "metadata": {},
   "source": [
    "Use this notebook to introduce services to one another, so that they can trust each other"
   ]
  },
  {
   "cell_type": "code",
   "execution_count": 20,
   "metadata": {},
   "outputs": [],
   "source": [
    "from Acquire.Client import User, Service\n",
    "from Acquire.Identity import Authorisation"
   ]
  },
  {
   "cell_type": "code",
   "execution_count": 2,
   "metadata": {},
   "outputs": [],
   "source": [
    "url = \"http://fn.acquire-aaai.com:8080/t\""
   ]
  },
  {
   "cell_type": "code",
   "execution_count": 3,
   "metadata": {},
   "outputs": [
    {
     "name": "stdout",
     "output_type": "stream",
     "text": [
      "IdentityService(url=http://fn.acquire-aaai.com:8080/t/identity, uid=fdac3ab5-3527-46f8-8432-c7ec8f586fc6)\n"
     ]
    }
   ],
   "source": [
    "identity_service = Service(service_url=\"%s/identity\" % url)\n",
    "print(identity_service)"
   ]
  },
  {
   "cell_type": "code",
   "execution_count": 4,
   "metadata": {},
   "outputs": [
    {
     "name": "stdout",
     "output_type": "stream",
     "text": [
      "http://fn.acquire-aaai.com:8080/t/identity/s?id=1365e941\n"
     ]
    },
    {
     "data": {
      "image/png": "[encoded data removed]",
      "text/plain": [
       "<qrcode.image.pil.PilImage at 0x106f744e0>"
      ]
     },
     "execution_count": 4,
     "metadata": {},
     "output_type": "execute_result"
    }
   ],
   "source": [
    "admin_identity = User(\"admin-%s\" % identity_service.service_type(), identity_url=identity_service.canonical_url())\n",
    "(login_url, qrcode) = admin_identity.request_login()\n",
    "print(login_url)\n",
    "qrcode"
   ]
  },
  {
   "cell_type": "code",
   "execution_count": 5,
   "metadata": {},
   "outputs": [
    {
     "data": {
      "text/plain": [
       "True"
      ]
     },
     "execution_count": 5,
     "metadata": {},
     "output_type": "execute_result"
    }
   ],
   "source": [
    "admin_identity.wait_for_login()"
   ]
  },
  {
   "cell_type": "code",
   "execution_count": 6,
   "metadata": {},
   "outputs": [
    {
     "name": "stdout",
     "output_type": "stream",
     "text": [
      "AccountingService(url=http://fn.acquire-aaai.com:8080/t/accounting, uid=ee005e09-c312-44be-bcce-08ac158a1234)\n"
     ]
    }
   ],
   "source": [
    "accounting_service = Service(service_url=\"%s/accounting\" % url)\n",
    "print(accounting_service)"
   ]
  },
  {
   "cell_type": "code",
   "execution_count": 7,
   "metadata": {},
   "outputs": [
    {
     "name": "stdout",
     "output_type": "stream",
     "text": [
      "http://fn.acquire-aaai.com:8080/t/accounting/s?id=e739475f\n"
     ]
    },
    {
     "data": {
      "image/png": "[encoded data removed]",
      "text/plain": [
       "<qrcode.image.pil.PilImage at 0x107328f28>"
      ]
     },
     "execution_count": 7,
     "metadata": {},
     "output_type": "execute_result"
    }
   ],
   "source": [
    "admin_accounting = User(\"admin-%s\" % accounting_service.service_type(), identity_url=accounting_service.canonical_url())\n",
    "(login_url, qrcode) = admin_accounting.request_login()\n",
    "print(login_url)\n",
    "qrcode"
   ]
  },
  {
   "cell_type": "code",
   "execution_count": 8,
   "metadata": {},
   "outputs": [
    {
     "data": {
      "text/plain": [
       "True"
      ]
     },
     "execution_count": 8,
     "metadata": {},
     "output_type": "execute_result"
    }
   ],
   "source": [
    "admin_accounting.wait_for_login()"
   ]
  },
  {
   "cell_type": "code",
   "execution_count": 9,
   "metadata": {},
   "outputs": [
    {
     "name": "stdout",
     "output_type": "stream",
     "text": [
      "AccessService(url=http://fn.acquire-aaai.com:8080/t/access, uid=ab495477-5781-45f3-baef-1a17f62d4c56)\n"
     ]
    }
   ],
   "source": [
    "access_service = Service(service_url=\"%s/access\" % url)\n",
    "print(access_service)"
   ]
  },
  {
   "cell_type": "code",
   "execution_count": 10,
   "metadata": {},
   "outputs": [
    {
     "name": "stdout",
     "output_type": "stream",
     "text": [
      "http://fn.acquire-aaai.com:8080/t/access/s?id=67bce45d\n"
     ]
    },
    {
     "data": {
      "image/png": "[encoded data removed]",
      "text/plain": [
       "<qrcode.image.pil.PilImage at 0x10734a748>"
      ]
     },
     "execution_count": 10,
     "metadata": {},
     "output_type": "execute_result"
    }
   ],
   "source": [
    "admin_access = User(\"admin-%s\" % access_service.service_type(), identity_url=access_service.canonical_url())\n",
    "(login_url, qrcode) = admin_access.request_login()\n",
    "print(login_url)\n",
    "qrcode"
   ]
  },
  {
   "cell_type": "code",
   "execution_count": 11,
   "metadata": {},
   "outputs": [
    {
     "data": {
      "text/plain": [
       "True"
      ]
     },
     "execution_count": 11,
     "metadata": {},
     "output_type": "execute_result"
    }
   ],
   "source": [
    "admin_access.wait_for_login()"
   ]
  },
  {
   "cell_type": "code",
   "execution_count": 12,
   "metadata": {},
   "outputs": [
    {
     "name": "stdout",
     "output_type": "stream",
     "text": [
      "StorageService(url=http://fn.acquire-aaai.com:8080/t/storage, uid=c91771a1-3132-42f7-aebc-b7fe63119776)\n"
     ]
    }
   ],
   "source": [
    "storage_service = Service(service_url=\"%s/storage\" % url)\n",
    "print(storage_service)"
   ]
  },
  {
   "cell_type": "code",
   "execution_count": 13,
   "metadata": {},
   "outputs": [
    {
     "name": "stdout",
     "output_type": "stream",
     "text": [
      "http://fn.acquire-aaai.com:8080/t/storage/s?id=8c69bcd7\n"
     ]
    },
    {
     "data": {
      "image/png": "[encoded data removed]",
      "text/plain": [
       "<qrcode.image.pil.PilImage at 0x1073c16a0>"
      ]
     },
     "execution_count": 13,
     "metadata": {},
     "output_type": "execute_result"
    }
   ],
   "source": [
    "admin_storage = User(\"admin-%s\" % storage_service.service_type(), identity_url=storage_service.canonical_url())\n",
    "(login_url, qrcode) = admin_storage.request_login()\n",
    "print(login_url)\n",
    "qrcode"
   ]
  },
  {
   "cell_type": "code",
   "execution_count": 14,
   "metadata": {},
   "outputs": [
    {
     "data": {
      "text/plain": [
       "True"
      ]
     },
     "execution_count": 14,
     "metadata": {},
     "output_type": "execute_result"
    }
   ],
   "source": [
    "admin_storage.wait_for_login()"
   ]
  },
  {
   "cell_type": "code",
   "execution_count": 21,
   "metadata": {},
   "outputs": [],
   "source": [
    "resource = \"trust_service %s\" % identity_service.uid()\n",
    "public_cert = identity_service.public_certificate().to_data()\n",
    "args = {\"service_url\": identity_service.canonical_url(),\n",
    "            \"authorisation\": Authorisation(user=admin_accounting,\n",
    "                                           resource=resource).to_data(),\n",
    "            \"public_certificate\": public_cert}"
   ]
  },
  {
   "cell_type": "code",
   "execution_count": 22,
   "metadata": {},
   "outputs": [
    {
     "name": "stdout",
     "output_type": "stream",
     "text": [
      "{'status': 0, 'message': 'Success. Now trusting IdentityService(url=http://fn.acquire-aaai.com:8080/t/identity, uid=fdac3ab5-3527-46f8-8432-c7ec8f586fc6)', 'args': {'service_url': 'http://fn.acquire-aaai.com:8080/t/identity', 'authorisation': {'user_uid': '9443658c-a52b-4d2a-9c4d-4ecb36fa3f47', 'session_uid': 'e739475f-5a8d-415e-8053-07b512fac1c2', 'identity_url': 'http://fn.acquire-aaai.com:8080/t/accounting', 'identity_uid': 'ee005e09-c312-44be-bcce-08ac158a1234', 'auth_datetime': '2019-02-13T18:31:20.973944', 'signature': 'EUi4dUfxr0A4t4Q62m/aA0pN5jCQ5mhL3mkoij/G14omsY2SZHHJTUsYS0py8kBp5YGmTWz7D1/w3ihd6qGQEyeyu/w1cSS+HTOCqF6fn4g1Qwp0+xCVnJcdVEBdo19zo4u9HCQgy2Thkh+YdgvExW++41fn4lhf7HMPAE8uQ+OtJeeH5H8JoHr7GmO2lPXEcyR8ZGyKVyqNFOP+7As8Aoc3ARnZFu4X3ZCaN6SFkGn/GbxBMjt/yD/8cxK3k8CqI4+JfdTq6i2UvtazMBUzAuIcSYezriknNkHlw0O58x0mmh45wIh35rcQ1sQH01119MLih7H8jLu+IIyESPq7bA=='}, 'public_certificate': {'bytes': 'LS0tLS1CRUdJTiBQVUJMSUMgS0VZLS0tLS0KTUlJQklqQU5CZ2txaGtpRzl3MEJBUUVGQUFPQ0FROEFNSUlCQ2dLQ0FRRUE5Z0VYZUhCWVBjaVB0S0Y5S0VlbApLQjRveGU2amp3Rk5UMEpicGNpOG5kMlU0NzY0Q3JYVUgxSGFnVVFkbFlBbERJVk1PNk5CTFJIVEFPOEJ5RXc2Cm5ZNTBrbEd6TVZHSkVhdVA4QUxiUHUwemRuR1l1RUxBZ3JuamZrNUVQMC9QYXcyVHlOejNqSTlEZTg5OGlpL0UKelBXM3NkWFpnc0VpMUdFNlZjV3MzT1EyaGd0cU9HaVh6blhXNjF2MEZoaFlnMHgxYlRzSUZGc3FxZFpyQktkbApSdEVaK3AyMEUyOVo2bnZjb2g5V3E4QmhGTWpQQ1JSQ0pkWmlTWjZiYW1TZ0xDelJ5cmZDcFlTa0o2c3dja3phCm80MmVHL3F2UlFTZExjcjc3emNscVd1dVpkV0txcmlzNk80eWwwK3NXaW1lVkczVk5qUEZZdU9MdlZxQVpjVUsKTHdJREFRQUIKLS0tLS1FTkQgUFVCTElDIEtFWS0tLS0tCg=='}, 'function': 'admin/trust_service', 'encryption_public_key': 'LS0tLS1CRUdJTiBQVUJMSUMgS0VZLS0tLS0KTUlJQklqQU5CZ2txaGtpRzl3MEJBUUVGQUFPQ0FROEFNSUlCQ2dLQ0FRRUF3Uys2SklDRnRCT2IyR2YwT0JqMApyQXl1SXZUTHVpN3VBN0dEeGJPV0hhSkowUnRQUTlLdmVmVkN3WmhwVG4zMngyUkZhWml1VFh0V1h0U1RwaWs0Ck1MYW9tOHlqNVI1MnEyZ2xrZEdhWkJZREVuOS9uaHhFRS9oUGNnN1NTNmFZcDlHTmh4MGtPOGxkRnBoMHFjVkoKaThUTXZ1MTJla1ErQmdBTUtTbmFzbzRUamh0aVRLbm9Jb3NDd1BMVDBWWDliQUx3YWZkek5QNVNNNmw4c0UrYgo4dFU3T3JoVDdNKzNhMFdRY0dRVXc3KzJiNWhGby9TQmtuQmJjUENjMHRBNGxiYi84T0R1djNTWnM1MnRyZ3ZXCjdPc3QvSGt4SnRkUkpFU2JUazFRbno1UURwVEFKRVRVekRRbUgzZ3haZHJRTllZY0NJRzlWVExOTmtZUU9FbTMKVlFJREFRQUIKLS0tLS1FTkQgUFVCTElDIEtFWS0tLS0tCg==', 'sign_with_service_key': '16:57:f9:01:27:55:d7:b9:18:25:69:cf:39:db:3d:dc'}}\n"
     ]
    }
   ],
   "source": [
    "response = accounting_service.call_function(\n",
    "                    function=\"admin/trust_service\", args=args)\n",
    "print(response)"
   ]
  },
  {
   "cell_type": "code",
   "execution_count": 23,
   "metadata": {},
   "outputs": [],
   "source": [
    "resource = \"trust_service %s\" % identity_service.uid()\n",
    "public_cert = identity_service.public_certificate().to_data()\n",
    "args = {\"service_url\": identity_service.canonical_url(),\n",
    "            \"authorisation\": Authorisation(user=admin_access,\n",
    "                                           resource=resource).to_data(),\n",
    "            \"public_certificate\": public_cert}"
   ]
  },
  {
   "cell_type": "code",
   "execution_count": 24,
   "metadata": {},
   "outputs": [
    {
     "name": "stdout",
     "output_type": "stream",
     "text": [
      "{'status': 0, 'message': 'Success. Now trusting IdentityService(url=http://fn.acquire-aaai.com:8080/t/identity, uid=fdac3ab5-3527-46f8-8432-c7ec8f586fc6)', 'args': {'service_url': 'http://fn.acquire-aaai.com:8080/t/identity', 'authorisation': {'user_uid': '1b00addb-71b8-4b3f-bfb2-de7c39ab07af', 'session_uid': '67bce45d-9daa-4d60-af8e-6fcba21feab8', 'identity_url': 'http://fn.acquire-aaai.com:8080/t/access', 'identity_uid': 'ab495477-5781-45f3-baef-1a17f62d4c56', 'auth_datetime': '2019-02-13T18:31:54.549419', 'signature': 'FTZiVkwFfqh4/Q2jm7fidboVbNN9Abcz/1IZ1gjUAV63xhVjAgdmvENmGd0CoMlgzufyfKnSRVVJ82eyA6NwgzH3GXQvFatZcWR7H6fF1dOgkO2NRaM3utILEr7cTi3nnCbyEh4106FiMYipRYlhQypzfreEeBDA7bcYP0/234Qhbq9NW5S3EdiXfIDu8j89F2CDKSU8aaoVGvqL5ClqQbuz5vSe/lWGO/U1gQ0giT3ZpT2fCPrRwSPqU+Gle2Z2KgtMwS/nhkX0zrFfEQ7VI1N5bWOOT0bIXag4hdiukFi31EbAM1GFvK8cbapE/px36geYJPz0NPX0EEacwVNI4Q=='}, 'public_certificate': {'bytes': 'LS0tLS1CRUdJTiBQVUJMSUMgS0VZLS0tLS0KTUlJQklqQU5CZ2txaGtpRzl3MEJBUUVGQUFPQ0FROEFNSUlCQ2dLQ0FRRUE5Z0VYZUhCWVBjaVB0S0Y5S0VlbApLQjRveGU2amp3Rk5UMEpicGNpOG5kMlU0NzY0Q3JYVUgxSGFnVVFkbFlBbERJVk1PNk5CTFJIVEFPOEJ5RXc2Cm5ZNTBrbEd6TVZHSkVhdVA4QUxiUHUwemRuR1l1RUxBZ3JuamZrNUVQMC9QYXcyVHlOejNqSTlEZTg5OGlpL0UKelBXM3NkWFpnc0VpMUdFNlZjV3MzT1EyaGd0cU9HaVh6blhXNjF2MEZoaFlnMHgxYlRzSUZGc3FxZFpyQktkbApSdEVaK3AyMEUyOVo2bnZjb2g5V3E4QmhGTWpQQ1JSQ0pkWmlTWjZiYW1TZ0xDelJ5cmZDcFlTa0o2c3dja3phCm80MmVHL3F2UlFTZExjcjc3emNscVd1dVpkV0txcmlzNk80eWwwK3NXaW1lVkczVk5qUEZZdU9MdlZxQVpjVUsKTHdJREFRQUIKLS0tLS1FTkQgUFVCTElDIEtFWS0tLS0tCg=='}, 'function': 'admin/trust_service', 'encryption_public_key': 'LS0tLS1CRUdJTiBQVUJMSUMgS0VZLS0tLS0KTUlJQklqQU5CZ2txaGtpRzl3MEJBUUVGQUFPQ0FROEFNSUlCQ2dLQ0FRRUF3Uys2SklDRnRCT2IyR2YwT0JqMApyQXl1SXZUTHVpN3VBN0dEeGJPV0hhSkowUnRQUTlLdmVmVkN3WmhwVG4zMngyUkZhWml1VFh0V1h0U1RwaWs0Ck1MYW9tOHlqNVI1MnEyZ2xrZEdhWkJZREVuOS9uaHhFRS9oUGNnN1NTNmFZcDlHTmh4MGtPOGxkRnBoMHFjVkoKaThUTXZ1MTJla1ErQmdBTUtTbmFzbzRUamh0aVRLbm9Jb3NDd1BMVDBWWDliQUx3YWZkek5QNVNNNmw4c0UrYgo4dFU3T3JoVDdNKzNhMFdRY0dRVXc3KzJiNWhGby9TQmtuQmJjUENjMHRBNGxiYi84T0R1djNTWnM1MnRyZ3ZXCjdPc3QvSGt4SnRkUkpFU2JUazFRbno1UURwVEFKRVRVekRRbUgzZ3haZHJRTllZY0NJRzlWVExOTmtZUU9FbTMKVlFJREFRQUIKLS0tLS1FTkQgUFVCTElDIEtFWS0tLS0tCg==', 'sign_with_service_key': '78:e0:a1:01:26:ee:7a:39:0a:1e:da:4c:8f:7f:33:69'}}\n"
     ]
    }
   ],
   "source": [
    "response = access_service.call_function(\n",
    "                    function=\"admin/trust_service\", args=args)\n",
    "print(response)"
   ]
  },
  {
   "cell_type": "code",
   "execution_count": 25,
   "metadata": {},
   "outputs": [],
   "source": [
    "resource = \"trust_service %s\" % identity_service.uid()\n",
    "public_cert = identity_service.public_certificate().to_data()\n",
    "args = {\"service_url\": identity_service.canonical_url(),\n",
    "            \"authorisation\": Authorisation(user=admin_storage,\n",
    "                                           resource=resource).to_data(),\n",
    "            \"public_certificate\": public_cert}"
   ]
  },
  {
   "cell_type": "code",
   "execution_count": 26,
   "metadata": {},
   "outputs": [
    {
     "name": "stdout",
     "output_type": "stream",
     "text": [
      "{'status': 0, 'message': 'Success. Now trusting IdentityService(url=http://fn.acquire-aaai.com:8080/t/identity, uid=fdac3ab5-3527-46f8-8432-c7ec8f586fc6)', 'args': {'service_url': 'http://fn.acquire-aaai.com:8080/t/identity', 'authorisation': {'user_uid': 'a94f4e55-96e1-462a-a4db-487cc6d600f2', 'session_uid': '8c69bcd7-43e8-4ace-9392-00d535acce9c', 'identity_url': 'http://fn.acquire-aaai.com:8080/t/storage', 'identity_uid': 'c91771a1-3132-42f7-aebc-b7fe63119776', 'auth_datetime': '2019-02-13T18:32:51.672097', 'signature': 'Kmo9Soj4HrEZGPurNwGuhe0NbwYG2cDuevrQWcwPmU/eC+kzvPBxmnHVGYeojMFlp+DHfbh3LrzHaj545Uk4urwR/+pkG4QNzlQJdjPCDpH09JGYep9KnLhKTpuUSi8L5eyNgVhwDUbRIrnAsFwrvGq6fQ8JHPVXW2x3nuttB0kVW+X39tm67FmoiZTHzYhCKS6JjCA8Rm2xNgWb1uSuHC0HtSg1jxHnWMV0SDM9nt6INhWH76UA7UHbsvRlFgfCgc0ZFIqJ6/K1MPlR7wh5ZjU4fmnmp2Ot/+FuU8QD/oZT8WufGdhEIim6oGboLYlDrcrHr5IHG7mE1OAfhVQvGQ=='}, 'public_certificate': {'bytes': 'LS0tLS1CRUdJTiBQVUJMSUMgS0VZLS0tLS0KTUlJQklqQU5CZ2txaGtpRzl3MEJBUUVGQUFPQ0FROEFNSUlCQ2dLQ0FRRUE5Z0VYZUhCWVBjaVB0S0Y5S0VlbApLQjRveGU2amp3Rk5UMEpicGNpOG5kMlU0NzY0Q3JYVUgxSGFnVVFkbFlBbERJVk1PNk5CTFJIVEFPOEJ5RXc2Cm5ZNTBrbEd6TVZHSkVhdVA4QUxiUHUwemRuR1l1RUxBZ3JuamZrNUVQMC9QYXcyVHlOejNqSTlEZTg5OGlpL0UKelBXM3NkWFpnc0VpMUdFNlZjV3MzT1EyaGd0cU9HaVh6blhXNjF2MEZoaFlnMHgxYlRzSUZGc3FxZFpyQktkbApSdEVaK3AyMEUyOVo2bnZjb2g5V3E4QmhGTWpQQ1JSQ0pkWmlTWjZiYW1TZ0xDelJ5cmZDcFlTa0o2c3dja3phCm80MmVHL3F2UlFTZExjcjc3emNscVd1dVpkV0txcmlzNk80eWwwK3NXaW1lVkczVk5qUEZZdU9MdlZxQVpjVUsKTHdJREFRQUIKLS0tLS1FTkQgUFVCTElDIEtFWS0tLS0tCg=='}, 'function': 'admin/trust_service', 'encryption_public_key': 'LS0tLS1CRUdJTiBQVUJMSUMgS0VZLS0tLS0KTUlJQklqQU5CZ2txaGtpRzl3MEJBUUVGQUFPQ0FROEFNSUlCQ2dLQ0FRRUF3Uys2SklDRnRCT2IyR2YwT0JqMApyQXl1SXZUTHVpN3VBN0dEeGJPV0hhSkowUnRQUTlLdmVmVkN3WmhwVG4zMngyUkZhWml1VFh0V1h0U1RwaWs0Ck1MYW9tOHlqNVI1MnEyZ2xrZEdhWkJZREVuOS9uaHhFRS9oUGNnN1NTNmFZcDlHTmh4MGtPOGxkRnBoMHFjVkoKaThUTXZ1MTJla1ErQmdBTUtTbmFzbzRUamh0aVRLbm9Jb3NDd1BMVDBWWDliQUx3YWZkek5QNVNNNmw4c0UrYgo4dFU3T3JoVDdNKzNhMFdRY0dRVXc3KzJiNWhGby9TQmtuQmJjUENjMHRBNGxiYi84T0R1djNTWnM1MnRyZ3ZXCjdPc3QvSGt4SnRkUkpFU2JUazFRbno1UURwVEFKRVRVekRRbUgzZ3haZHJRTllZY0NJRzlWVExOTmtZUU9FbTMKVlFJREFRQUIKLS0tLS1FTkQgUFVCTElDIEtFWS0tLS0tCg==', 'sign_with_service_key': '22:11:25:8c:28:46:61:85:a9:96:fe:2f:a7:33:4c:7f'}}\n"
     ]
    }
   ],
   "source": [
    "response = storage_service.call_function(\n",
    "                    function=\"admin/trust_service\", args=args)\n",
    "print(response)"
   ]
  },
  {
   "cell_type": "code",
   "execution_count": 29,
   "metadata": {},
   "outputs": [],
   "source": [
    "resource = \"trust_service %s\" % access_service.uid()\n",
    "public_cert = access_service.public_certificate().to_data()\n",
    "args = {\"service_url\": access_service.canonical_url(),\n",
    "            \"authorisation\": Authorisation(user=admin_accounting,\n",
    "                                           resource=resource).to_data(),\n",
    "            \"public_certificate\": public_cert}"
   ]
  },
  {
   "cell_type": "code",
   "execution_count": 30,
   "metadata": {},
   "outputs": [
    {
     "name": "stdout",
     "output_type": "stream",
     "text": [
      "{'status': 0, 'message': 'Success. Now trusting AccessService(url=http://fn.acquire-aaai.com:8080/t/access, uid=ab495477-5781-45f3-baef-1a17f62d4c56)', 'args': {'service_url': 'http://fn.acquire-aaai.com:8080/t/access', 'authorisation': {'user_uid': '9443658c-a52b-4d2a-9c4d-4ecb36fa3f47', 'session_uid': 'e739475f-5a8d-415e-8053-07b512fac1c2', 'identity_url': 'http://fn.acquire-aaai.com:8080/t/accounting', 'identity_uid': 'ee005e09-c312-44be-bcce-08ac158a1234', 'auth_datetime': '2019-02-13T18:35:13.195583', 'signature': 'C3QGIJtLId5iAvcX88ILiswY9cjPADvU0iyYx58PJkMx3ircLSUHlqCBo6nXJi7b47gUMS+rXdx0COBiF4VuyHkOSi0RIMEqvPX4LwzaMKpUMCIERN1K/VQ5q/3nfHWexXvzYgKOs+KKrv6qM8jxS2XiHfWWOPt1hQR/dgWvDMvkbQmF73qtc9+wJNtgTDgFmj0QhALSGA5XefbR4HX4aomGd40E/ExPvBQOlAsRtQIR6yEZPPD0NjtYtjsPYI/87Cfy7ElgJcxDwu7COJ1OqlijYGgmqt3VISsqzlJc1fNYzbF2pQUvN/PV8KKxpriw/o7cNz7G/eGPxQf1NE9D6g=='}, 'public_certificate': {'bytes': 'LS0tLS1CRUdJTiBQVUJMSUMgS0VZLS0tLS0KTUlJQklqQU5CZ2txaGtpRzl3MEJBUUVGQUFPQ0FROEFNSUlCQ2dLQ0FRRUFreHBsZzg2Z1A4NFRrWUo5VGZDWgpTVENYMVVCcXFLUStvV2Z0VnhMRjBJTCs0QTByTWZvTjA5aXQ5QVBCUWZwNlhaZzVtNGZDUk9mdUhpTDFNWExUCjNtSHhCRmkzT1RQbVo4SjN2UVJVNkthdldQV05saUw0SVl6U3dOY0NJQ0RITnJ0NFhKMjgzL0c3NUpLY2xza2YKZTcvZkJJQVhNS29FL3R0K2ExTHBKOXl4RWUzS042N1Z2eVRPZ3Q4ZlA1VTN4MGxQb1g3bjVaeTlxZXA5NDJlMApWTGNEZ0pNVnpDQmNpVkVlRk1PSHVWemwzeUpyRWh0N3J6cHNrSHptS0REdGZqRUg0KzZHcnR3S3ZlZUh3SUxmCjZWQTJySG1CbmlqdjA3SE55L1FkZWxBSVIrVFYwT3kxWFBXWVk1dWRDV240STFBdTBld25QMHdqSEFVandMWHUKbXdJREFRQUIKLS0tLS1FTkQgUFVCTElDIEtFWS0tLS0tCg=='}, 'function': 'admin/trust_service', 'encryption_public_key': 'LS0tLS1CRUdJTiBQVUJMSUMgS0VZLS0tLS0KTUlJQklqQU5CZ2txaGtpRzl3MEJBUUVGQUFPQ0FROEFNSUlCQ2dLQ0FRRUF3Uys2SklDRnRCT2IyR2YwT0JqMApyQXl1SXZUTHVpN3VBN0dEeGJPV0hhSkowUnRQUTlLdmVmVkN3WmhwVG4zMngyUkZhWml1VFh0V1h0U1RwaWs0Ck1MYW9tOHlqNVI1MnEyZ2xrZEdhWkJZREVuOS9uaHhFRS9oUGNnN1NTNmFZcDlHTmh4MGtPOGxkRnBoMHFjVkoKaThUTXZ1MTJla1ErQmdBTUtTbmFzbzRUamh0aVRLbm9Jb3NDd1BMVDBWWDliQUx3YWZkek5QNVNNNmw4c0UrYgo4dFU3T3JoVDdNKzNhMFdRY0dRVXc3KzJiNWhGby9TQmtuQmJjUENjMHRBNGxiYi84T0R1djNTWnM1MnRyZ3ZXCjdPc3QvSGt4SnRkUkpFU2JUazFRbno1UURwVEFKRVRVekRRbUgzZ3haZHJRTllZY0NJRzlWVExOTmtZUU9FbTMKVlFJREFRQUIKLS0tLS1FTkQgUFVCTElDIEtFWS0tLS0tCg==', 'sign_with_service_key': '16:57:f9:01:27:55:d7:b9:18:25:69:cf:39:db:3d:dc'}}\n"
     ]
    }
   ],
   "source": [
    "response = accounting_service.call_function(\n",
    "                    function=\"admin/trust_service\", args=args)\n",
    "print(response)"
   ]
  },
  {
   "cell_type": "code",
   "execution_count": 31,
   "metadata": {},
   "outputs": [],
   "source": [
    "resource = \"trust_service %s\" % accounting_service.uid()\n",
    "public_cert = accounting_service.public_certificate().to_data()\n",
    "args = {\"service_url\": accounting_service.canonical_url(),\n",
    "            \"authorisation\": Authorisation(user=admin_access,\n",
    "                                           resource=resource).to_data(),\n",
    "            \"public_certificate\": public_cert}"
   ]
  },
  {
   "cell_type": "code",
   "execution_count": 32,
   "metadata": {},
   "outputs": [
    {
     "name": "stdout",
     "output_type": "stream",
     "text": [
      "{'status': 0, 'message': 'Success. Now trusting AccountingService(url=http://fn.acquire-aaai.com:8080/t/accounting, uid=ee005e09-c312-44be-bcce-08ac158a1234)', 'args': {'service_url': 'http://fn.acquire-aaai.com:8080/t/accounting', 'authorisation': {'user_uid': '1b00addb-71b8-4b3f-bfb2-de7c39ab07af', 'session_uid': '67bce45d-9daa-4d60-af8e-6fcba21feab8', 'identity_url': 'http://fn.acquire-aaai.com:8080/t/access', 'identity_uid': 'ab495477-5781-45f3-baef-1a17f62d4c56', 'auth_datetime': '2019-02-13T18:36:00.118064', 'signature': 'EKmER+C+X7GEafpTYB6GMlA47uLRw/BhjEv2G3ImZQVHA1QVe2VvgipfrUVVIz5OxZlMyd1IU+0x3MAjBqkkxE/U2kGlG224kWU7JnBFQDOAek5WWXcQdCILV6kxXvZ8a392dH/yci5X/PJoLVZRFX0OENSeWrNtp5hKFi60FWbmME/lXKXpwEcPvT8aXqQqTTm/Dz6GgAivbEEqBJX8p/vsZh1mSGTy9mOarsTpEwj+vaGkFqa8ZoA3uZWI4dNzuY8ghAapUhTh4F9mECC8YCKdeYtAtmPQg2bGpvyIvnJtBfw9qpqkUdJYPNLbUyYbajOmjExjb9TNp1zjDwEc9w=='}, 'public_certificate': {'bytes': 'LS0tLS1CRUdJTiBQVUJMSUMgS0VZLS0tLS0KTUlJQklqQU5CZ2txaGtpRzl3MEJBUUVGQUFPQ0FROEFNSUlCQ2dLQ0FRRUF2SlNpUE9iSTM4K1VJa3JmQ0Q5bwpVd0lFczk0Q1dTYitUSFlETmZGU3pZNmIrUVJCTXNRU1VSOTlDbzlTTUN2eitoMmdxVUZBQzhLZHBjNnhBV0x3CmZVUmpOVkgwbUdmbjhWVGNKUEtHOU5RZFgwWnNybVdLTmthZmFrblFWSEdSWUdHMklkN2oxekMwTzIzdTBtRmEKZjM5MnducXByTVVUUjFWZEZlNjZOcmdOcjMwcFpVSTBHWDBGN09IZEo0RDVmU05VeHYvdXlOV2RmaGVtTG9BLwo0UmMxOWZWYWx5RVhXcHNNb1NSN3dlNlRndmxsN0R4Zys0Q1FmSWNjUEl6Yko3RkVOckQ4cHcwa2oydFQ4dE1qCjE1cmZLM1pxSU9LUEVVSU5uT25ISmF0Z2lHWStqNXNuSTJhK2xWejhpR2xBZzZFSTFXUGNLU0RXVDREOVhZYm4Kd3dJREFRQUIKLS0tLS1FTkQgUFVCTElDIEtFWS0tLS0tCg=='}, 'function': 'admin/trust_service', 'encryption_public_key': 'LS0tLS1CRUdJTiBQVUJMSUMgS0VZLS0tLS0KTUlJQklqQU5CZ2txaGtpRzl3MEJBUUVGQUFPQ0FROEFNSUlCQ2dLQ0FRRUF3Uys2SklDRnRCT2IyR2YwT0JqMApyQXl1SXZUTHVpN3VBN0dEeGJPV0hhSkowUnRQUTlLdmVmVkN3WmhwVG4zMngyUkZhWml1VFh0V1h0U1RwaWs0Ck1MYW9tOHlqNVI1MnEyZ2xrZEdhWkJZREVuOS9uaHhFRS9oUGNnN1NTNmFZcDlHTmh4MGtPOGxkRnBoMHFjVkoKaThUTXZ1MTJla1ErQmdBTUtTbmFzbzRUamh0aVRLbm9Jb3NDd1BMVDBWWDliQUx3YWZkek5QNVNNNmw4c0UrYgo4dFU3T3JoVDdNKzNhMFdRY0dRVXc3KzJiNWhGby9TQmtuQmJjUENjMHRBNGxiYi84T0R1djNTWnM1MnRyZ3ZXCjdPc3QvSGt4SnRkUkpFU2JUazFRbno1UURwVEFKRVRVekRRbUgzZ3haZHJRTllZY0NJRzlWVExOTmtZUU9FbTMKVlFJREFRQUIKLS0tLS1FTkQgUFVCTElDIEtFWS0tLS0tCg==', 'sign_with_service_key': '78:e0:a1:01:26:ee:7a:39:0a:1e:da:4c:8f:7f:33:69'}}\n"
     ]
    }
   ],
   "source": [
    "response = access_service.call_function(\n",
    "                    function=\"admin/trust_service\", args=args)\n",
    "print(response)"
   ]
  },
  {
   "cell_type": "code",
   "execution_count": 33,
   "metadata": {},
   "outputs": [],
   "source": [
    "resource = \"trust_accounting_service %s\" % accounting_service.uid()\n",
    "public_cert = accounting_service.public_certificate().to_data()\n",
    "args = {\"service_url\": accounting_service.canonical_url(),\n",
    "            \"authorisation\": Authorisation(user=admin_access,\n",
    "                                           resource=resource).to_data(),\n",
    "            \"public_certificate\": public_cert}"
   ]
  },
  {
   "cell_type": "code",
   "execution_count": 35,
   "metadata": {},
   "outputs": [
    {
     "ename": "RemoteFunctionCallError",
     "evalue": "Error calling 'admin/trust_accounting_service' at 'http://fn.acquire-aaai.com:8080/t/access'. Server returned error code '-1' with message 'Error <class 'OSError'>: [Errno 25] Inappropriate ioctl for device'",
     "output_type": "error",
     "traceback": [
      "\u001b[0;31m---------------------------------------------------------------------------\u001b[0m",
      "\u001b[0;31mRemoteFunctionCallError\u001b[0m                   Traceback (most recent call last)",
      "\u001b[0;32m<ipython-input-35-c33c2c10926a>\u001b[0m in \u001b[0;36m<module>\u001b[0;34m()\u001b[0m\n\u001b[1;32m      1\u001b[0m response = access_service.call_function(\n\u001b[0;32m----> 2\u001b[0;31m                     function=\"admin/trust_accounting_service\", args=args)\n\u001b[0m\u001b[1;32m      3\u001b[0m \u001b[0mprint\u001b[0m\u001b[0;34m(\u001b[0m\u001b[0mresponse\u001b[0m\u001b[0;34m)\u001b[0m\u001b[0;34m\u001b[0m\u001b[0m\n",
      "\u001b[0;32m~/Work/acquire/source/Acquire/Service/_service.py\u001b[0m in \u001b[0;36mcall_function\u001b[0;34m(self, function, args)\u001b[0m\n\u001b[1;32m    542\u001b[0m                               \u001b[0margs_key\u001b[0m\u001b[0;34m=\u001b[0m\u001b[0mself\u001b[0m\u001b[0;34m.\u001b[0m\u001b[0mpublic_key\u001b[0m\u001b[0;34m(\u001b[0m\u001b[0;34m)\u001b[0m\u001b[0;34m,\u001b[0m\u001b[0;34m\u001b[0m\u001b[0m\n\u001b[1;32m    543\u001b[0m                               \u001b[0mpublic_cert\u001b[0m\u001b[0;34m=\u001b[0m\u001b[0mself\u001b[0m\u001b[0;34m.\u001b[0m\u001b[0mpublic_certificate\u001b[0m\u001b[0;34m(\u001b[0m\u001b[0;34m)\u001b[0m\u001b[0;34m,\u001b[0m\u001b[0;34m\u001b[0m\u001b[0m\n\u001b[0;32m--> 544\u001b[0;31m                               response_key=_get_private_key(\"function\"))\n\u001b[0m\u001b[1;32m    545\u001b[0m \u001b[0;34m\u001b[0m\u001b[0m\n\u001b[1;32m    546\u001b[0m     \u001b[0;32mdef\u001b[0m \u001b[0msign\u001b[0m\u001b[0;34m(\u001b[0m\u001b[0mself\u001b[0m\u001b[0;34m,\u001b[0m \u001b[0mmessage\u001b[0m\u001b[0;34m)\u001b[0m\u001b[0;34m:\u001b[0m\u001b[0;34m\u001b[0m\u001b[0m\n",
      "\u001b[0;32m~/Work/acquire/source/Acquire/Service/_function.py\u001b[0m in \u001b[0;36mcall_function\u001b[0;34m(service_url, function, args_key, response_key, public_cert, args, **kwargs)\u001b[0m\n\u001b[1;32m    361\u001b[0m                 \u001b[0;34m\"Error calling '%s' at '%s'. Server returned \"\u001b[0m\u001b[0;34m\u001b[0m\u001b[0m\n\u001b[1;32m    362\u001b[0m                 \u001b[0;34m\"error code '%d' with message '%s'\"\u001b[0m \u001b[0;34m%\u001b[0m\u001b[0;34m\u001b[0m\u001b[0m\n\u001b[0;32m--> 363\u001b[0;31m                 (function, service_url, result[\"status\"], result[\"message\"]))\n\u001b[0m\u001b[1;32m    364\u001b[0m \u001b[0;34m\u001b[0m\u001b[0m\n\u001b[1;32m    365\u001b[0m     \u001b[0;32mreturn\u001b[0m \u001b[0mresult\u001b[0m\u001b[0;34m\u001b[0m\u001b[0m\n",
      "\u001b[0;31mRemoteFunctionCallError\u001b[0m: Error calling 'admin/trust_accounting_service' at 'http://fn.acquire-aaai.com:8080/t/access'. Server returned error code '-1' with message 'Error <class 'OSError'>: [Errno 25] Inappropriate ioctl for device'"
     ]
    }
   ],
   "source": [
    "response = access_service.call_function(\n",
    "                    function=\"admin/trust_accounting_service\", args=args)\n",
    "print(response)"
   ]
  },
  {
   "cell_type": "code",
   "execution_count": 36,
   "metadata": {},
   "outputs": [
    {
     "data": {
      "text/plain": [
       "{'status': 0, 'message': 'Successfully logged out'}"
      ]
     },
     "execution_count": 36,
     "metadata": {},
     "output_type": "execute_result"
    }
   ],
   "source": [
    "admin_identity.logout()\n",
    "admin_storage.logout()\n",
    "admin_access.logout()\n",
    "admin_accounting.logout()"
   ]
  },
  {
   "cell_type": "code",
   "execution_count": null,
   "metadata": {},
   "outputs": [],
   "source": []
  }
 ],
 "metadata": {
  "kernelspec": {
   "display_name": "Python 3",
   "language": "python",
   "name": "python3"
  },
  "language_info": {
   "codemirror_mode": {
    "name": "ipython",
    "version": 3
   },
   "file_extension": ".py",
   "mimetype": "text/x-python",
   "name": "python",
   "nbconvert_exporter": "python",
   "pygments_lexer": "ipython3",
   "version": "3.6.6"
  }
 },
 "nbformat": 4,
 "nbformat_minor": 2
}
