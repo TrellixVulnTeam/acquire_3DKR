{
 "cells": [
  {
   "cell_type": "markdown",
   "metadata": {},
   "source": [
    "Use this notebook to introduce services to one another, so that they can trust each other"
   ]
  },
  {
   "cell_type": "code",
   "execution_count": 1,
   "metadata": {},
   "outputs": [],
   "source": [
    "from Acquire.Client import User, Service, Authorisation"
   ]
  },
  {
   "cell_type": "code",
   "execution_count": 2,
   "metadata": {},
   "outputs": [],
   "source": [
    "url = \"http://fn.acquire-aaai.com:8080/t\""
   ]
  },
  {
   "cell_type": "code",
   "execution_count": 3,
   "metadata": {},
   "outputs": [
    {
     "name": "stdout",
     "output_type": "stream",
     "text": [
      "IdentityService(url=http://fn.acquire-aaai.com:8080/t/identity, uid=fdac3ab5-3527-46f8-8432-c7ec8f586fc6)\n"
     ]
    }
   ],
   "source": [
    "identity_service = Service(service_url=\"%s/identity\" % url)\n",
    "print(identity_service)"
   ]
  },
  {
   "cell_type": "code",
   "execution_count": 4,
   "metadata": {},
   "outputs": [
    {
     "name": "stdout",
     "output_type": "stream",
     "text": [
      "http://fn.acquire-aaai.com:8080/t/identity/s?id=d1d74676\n"
     ]
    },
    {
     "data": {
      "image/png": "[encoded data removed]",
      "text/plain": [
       "<qrcode.image.pil.PilImage at 0x110394da0>"
      ]
     },
     "execution_count": 4,
     "metadata": {},
     "output_type": "execute_result"
    }
   ],
   "source": [
    "admin_identity = User(\"admin-%s\" % identity_service.service_type(), identity_url=identity_service.canonical_url())\n",
    "(login_url, qrcode) = admin_identity.request_login()\n",
    "print(login_url)\n",
    "qrcode"
   ]
  },
  {
   "cell_type": "code",
   "execution_count": 5,
   "metadata": {},
   "outputs": [
    {
     "data": {
      "text/plain": [
       "True"
      ]
     },
     "execution_count": 5,
     "metadata": {},
     "output_type": "execute_result"
    }
   ],
   "source": [
    "admin_identity.wait_for_login()"
   ]
  },
  {
   "cell_type": "code",
   "execution_count": 6,
   "metadata": {},
   "outputs": [
    {
     "name": "stdout",
     "output_type": "stream",
     "text": [
      "AccountingService(url=http://fn.acquire-aaai.com:8080/t/accounting, uid=ee005e09-c312-44be-bcce-08ac158a1234)\n"
     ]
    }
   ],
   "source": [
    "accounting_service = Service(service_url=\"%s/accounting\" % url)\n",
    "print(accounting_service)"
   ]
  },
  {
   "cell_type": "code",
   "execution_count": 7,
   "metadata": {},
   "outputs": [
    {
     "name": "stdout",
     "output_type": "stream",
     "text": [
      "http://fn.acquire-aaai.com:8080/t/accounting/s?id=0946b5ef\n"
     ]
    },
    {
     "data": {
      "image/png": "[encoded data removed]",
      "text/plain": [
       "<qrcode.image.pil.PilImage at 0x110cb5240>"
      ]
     },
     "execution_count": 7,
     "metadata": {},
     "output_type": "execute_result"
    }
   ],
   "source": [
    "admin_accounting = User(\"admin-%s\" % accounting_service.service_type(), identity_url=accounting_service.canonical_url())\n",
    "(login_url, qrcode) = admin_accounting.request_login()\n",
    "print(login_url)\n",
    "qrcode"
   ]
  },
  {
   "cell_type": "code",
   "execution_count": 8,
   "metadata": {},
   "outputs": [
    {
     "data": {
      "text/plain": [
       "True"
      ]
     },
     "execution_count": 8,
     "metadata": {},
     "output_type": "execute_result"
    }
   ],
   "source": [
    "admin_accounting.wait_for_login()"
   ]
  },
  {
   "cell_type": "code",
   "execution_count": 9,
   "metadata": {},
   "outputs": [
    {
     "name": "stdout",
     "output_type": "stream",
     "text": [
      "AccessService(url=http://fn.acquire-aaai.com:8080/t/access, uid=ab495477-5781-45f3-baef-1a17f62d4c56)\n"
     ]
    }
   ],
   "source": [
    "access_service = Service(service_url=\"%s/access\" % url)\n",
    "print(access_service)"
   ]
  },
  {
   "cell_type": "code",
   "execution_count": 10,
   "metadata": {},
   "outputs": [
    {
     "name": "stdout",
     "output_type": "stream",
     "text": [
      "http://fn.acquire-aaai.com:8080/t/access/s?id=34a3ae07\n"
     ]
    },
    {
     "data": {
      "image/png": "[encoded data removed]",
      "text/plain": [
       "<qrcode.image.pil.PilImage at 0x110cca9b0>"
      ]
     },
     "execution_count": 10,
     "metadata": {},
     "output_type": "execute_result"
    }
   ],
   "source": [
    "admin_access = User(\"admin-%s\" % access_service.service_type(), identity_url=access_service.canonical_url())\n",
    "(login_url, qrcode) = admin_access.request_login()\n",
    "print(login_url)\n",
    "qrcode"
   ]
  },
  {
   "cell_type": "code",
   "execution_count": 11,
   "metadata": {},
   "outputs": [
    {
     "data": {
      "text/plain": [
       "True"
      ]
     },
     "execution_count": 11,
     "metadata": {},
     "output_type": "execute_result"
    }
   ],
   "source": [
    "admin_access.wait_for_login()"
   ]
  },
  {
   "cell_type": "code",
   "execution_count": 12,
   "metadata": {},
   "outputs": [
    {
     "name": "stdout",
     "output_type": "stream",
     "text": [
      "StorageService(url=http://fn.acquire-aaai.com:8080/t/storage, uid=c91771a1-3132-42f7-aebc-b7fe63119776)\n"
     ]
    }
   ],
   "source": [
    "storage_service = Service(service_url=\"%s/storage\" % url)\n",
    "print(storage_service)"
   ]
  },
  {
   "cell_type": "code",
   "execution_count": 13,
   "metadata": {},
   "outputs": [
    {
     "name": "stdout",
     "output_type": "stream",
     "text": [
      "http://fn.acquire-aaai.com:8080/t/storage/s?id=4bb71060\n"
     ]
    },
    {
     "data": {
      "image/png": "[encoded data removed]",
      "text/plain": [
       "<qrcode.image.pil.PilImage at 0x110cd6860>"
      ]
     },
     "execution_count": 13,
     "metadata": {},
     "output_type": "execute_result"
    }
   ],
   "source": [
    "admin_storage = User(\"admin-%s\" % storage_service.service_type(), identity_url=storage_service.canonical_url())\n",
    "(login_url, qrcode) = admin_storage.request_login()\n",
    "print(login_url)\n",
    "qrcode"
   ]
  },
  {
   "cell_type": "code",
   "execution_count": 14,
   "metadata": {},
   "outputs": [
    {
     "data": {
      "text/plain": [
       "True"
      ]
     },
     "execution_count": 14,
     "metadata": {},
     "output_type": "execute_result"
    }
   ],
   "source": [
    "admin_storage.wait_for_login()"
   ]
  },
  {
   "cell_type": "code",
   "execution_count": 15,
   "metadata": {},
   "outputs": [],
   "source": [
    "resource = \"trust_service %s\" % identity_service.uid()\n",
    "public_cert = identity_service.public_certificate().to_data()\n",
    "args = {\"service_url\": identity_service.canonical_url(),\n",
    "            \"authorisation\": Authorisation(user=admin_accounting,\n",
    "                                           resource=resource).to_data(),\n",
    "            \"public_certificate\": public_cert}"
   ]
  },
  {
   "cell_type": "code",
   "execution_count": 16,
   "metadata": {},
   "outputs": [
    {
     "name": "stdout",
     "output_type": "stream",
     "text": [
      "{'status': 0, 'message': 'Success. Now trusting IdentityService(url=http://fn.acquire-aaai.com:8080/t/identity, uid=fdac3ab5-3527-46f8-8432-c7ec8f586fc6)', 'args': {'service_url': 'http://fn.acquire-aaai.com:8080/t/identity', 'authorisation': {'user_uid': '9443658c-a52b-4d2a-9c4d-4ecb36fa3f47', 'session_uid': '0946b5ef-c2d3-4ec6-84ff-a91987235b87', 'identity_url': 'http://fn.acquire-aaai.com:8080/t/accounting', 'identity_uid': 'ee005e09-c312-44be-bcce-08ac158a1234', 'auth_datetime': '2019-02-20T15:41:02.408731', 'signature': 'eGv4dAXHLMpNz/36UpP560xnE6QmUWkyJ/rS7Kyhx3f93WQXqlWqtB0IZkSe+2AEItHSR3EfTPzZziQZGbQm+oWeMcq6DWMOfq28jUovpytKcFjWVk8boY3uKbX+pR0Oh7Hf0XjsvSmQrwpWiABLTiojbPCzp2x0fZ0lebn6L4rni6hoTnmFVZufYJyhnPnohOa33c12kRqO1x9nZ5p+b9WUVkTz50sW3z38fEIFboV6R2JgQdIwhMqx1EBdGhfT6HmEohSW+8AkN50iQYkn2SSmNqRTEO2nQ9ieN3UX2+Z85Ge2Oh3PtaxCyYpiPcqXCuARiQmWBPaR2rBxXCzilQ=='}, 'public_certificate': {'bytes': 'LS0tLS1CRUdJTiBQVUJMSUMgS0VZLS0tLS0KTUlJQklqQU5CZ2txaGtpRzl3MEJBUUVGQUFPQ0FROEFNSUlCQ2dLQ0FRRUFxZzRmME1uNDJ6ZnBwZXR3RWhXcgpmT1Q3dUNsN291dlpMRkV0SktybUhYZ0ZFQ3JPME5jeVhhaFcwSm1WY0hVZmZDRjg0cGtHQW1iVEx1REIrNVExCk9TRDVJa3ZkamNKSHZ6OXVsOXpyVGpQWVVXQXdsTmF4eTFIRVJWTWdwTTY3a2VzTmZPWWl3Nnc1YzZBelN5NlcKNURJRDRyNDg5bUs2eWN6RTVRdTBQWGRrRlliVnIrditndU1PMFVFNUVDYzY0dEhtOW1hWDN4VEJia1paWTVEMgo0QTFicHBsdkZENWJWVHkzWWZwblRmZE9BSm4wRzVocnlNRSt6TC80UWtrN1ZNSkhQNzhUekhIMVJRUUdzZk1mCnF0Y01rditaU01zelBCdUQzYzRsZzFPaXh6LysrRDd3VGtKd3ZpZ3dGTEZQakRPU2NTbzBOdWpWTGU1a3Q3NEEKZ1FJREFRQUIKLS0tLS1FTkQgUFVCTElDIEtFWS0tLS0tCg=='}, 'function': 'admin/trust_service', 'encryption_public_key': 'LS0tLS1CRUdJTiBQVUJMSUMgS0VZLS0tLS0KTUlJQklqQU5CZ2txaGtpRzl3MEJBUUVGQUFPQ0FROEFNSUlCQ2dLQ0FRRUF3b0tOMU9sM2JmYXpMZU9mSklLTQpYV29PYWVsMkg0aERWVEd3K3pTaVF1bVExNUR6d0NlOE5reGwySFhUNTlOUzViL2FadlJDSXkrMytlM0MwYUJhClE0OEhMUGRkcnI5TVJXMzZzcnNsWllKaHh6dkF1am5vZGR5REVtREhZMUNnc3J6Q2Y0b0ZDb0FpMW9Eb01yVHkKRVZUU1pQU3ZkK2Rxc2ZMUW1Bc2xBdGszSTV0VnFNdlJUV0ZhNy9kaW1PRUVvcm5CamViWkJlNE04ZEhFZ3JLTwpoZXhHT05VT2JuZ0N6aFVDcFJzc2d2OWtycjFQQzdHVkI5Z1VMbDBMd254L1dBZzRScWFSR0pmVUM0NzQ0ZTluCkR4SzJ0ek56K3pvVXk1YW5qNW4yWEhidDRkQk5waHBQc3FYeXBORWJrVER3dHcwVWVxaDlEZllhS1lYWE04RjEKZFFJREFRQUIKLS0tLS1FTkQgUFVCTElDIEtFWS0tLS0tCg==', 'sign_with_service_key': '9f:9c:24:4a:40:c7:62:45:c8:16:80:84:2f:8a:72:7d'}}\n"
     ]
    }
   ],
   "source": [
    "response = accounting_service.call_function(\n",
    "                    function=\"admin/trust_service\", args=args)\n",
    "print(response)"
   ]
  },
  {
   "cell_type": "code",
   "execution_count": 17,
   "metadata": {},
   "outputs": [],
   "source": [
    "resource = \"trust_service %s\" % identity_service.uid()\n",
    "public_cert = identity_service.public_certificate().to_data()\n",
    "args = {\"service_url\": identity_service.canonical_url(),\n",
    "            \"authorisation\": Authorisation(user=admin_access,\n",
    "                                           resource=resource).to_data(),\n",
    "            \"public_certificate\": public_cert}"
   ]
  },
  {
   "cell_type": "code",
   "execution_count": 18,
   "metadata": {},
   "outputs": [
    {
     "name": "stdout",
     "output_type": "stream",
     "text": [
      "{'status': 0, 'message': 'Success. Now trusting IdentityService(url=http://fn.acquire-aaai.com:8080/t/identity, uid=fdac3ab5-3527-46f8-8432-c7ec8f586fc6)', 'args': {'service_url': 'http://fn.acquire-aaai.com:8080/t/identity', 'authorisation': {'user_uid': '1b00addb-71b8-4b3f-bfb2-de7c39ab07af', 'session_uid': '34a3ae07-6b9c-4f55-97ef-fd77e6c98d71', 'identity_url': 'http://fn.acquire-aaai.com:8080/t/access', 'identity_uid': 'ab495477-5781-45f3-baef-1a17f62d4c56', 'auth_datetime': '2019-02-20T15:41:41.812803', 'signature': 'IuH42REHnrT7CEScfQzRXfTHjSMGNAC8kb87c7EuayUAeTWsTl4Ud9IVSnoFyZzJUi2/tAY9aNsq0VDSD98gtOXMiZDArg1bwkF//VoxDh427y6nAUAAV1YNkI1BbnDWGsw8tgqA5+FEDUSTGgj1CyBo11kJhM8KmhcAvwoxOeC9MFnOQmgSeRg3PBYfNW9docZnbrSlfb9gAeiX71FcdpCFMObLbi+0XJI/ZFsBkDyS3VoTrQhTN45xfAn6NZekKnlyEWyWE2ipbVVZXrqEWXFV8v1UuMpPlONMmxOdjg+y1i9S6FegH0wgFTuFD/icdoLrBg6FIJJU9TfpKwbU/g=='}, 'public_certificate': {'bytes': 'LS0tLS1CRUdJTiBQVUJMSUMgS0VZLS0tLS0KTUlJQklqQU5CZ2txaGtpRzl3MEJBUUVGQUFPQ0FROEFNSUlCQ2dLQ0FRRUFxZzRmME1uNDJ6ZnBwZXR3RWhXcgpmT1Q3dUNsN291dlpMRkV0SktybUhYZ0ZFQ3JPME5jeVhhaFcwSm1WY0hVZmZDRjg0cGtHQW1iVEx1REIrNVExCk9TRDVJa3ZkamNKSHZ6OXVsOXpyVGpQWVVXQXdsTmF4eTFIRVJWTWdwTTY3a2VzTmZPWWl3Nnc1YzZBelN5NlcKNURJRDRyNDg5bUs2eWN6RTVRdTBQWGRrRlliVnIrditndU1PMFVFNUVDYzY0dEhtOW1hWDN4VEJia1paWTVEMgo0QTFicHBsdkZENWJWVHkzWWZwblRmZE9BSm4wRzVocnlNRSt6TC80UWtrN1ZNSkhQNzhUekhIMVJRUUdzZk1mCnF0Y01rditaU01zelBCdUQzYzRsZzFPaXh6LysrRDd3VGtKd3ZpZ3dGTEZQakRPU2NTbzBOdWpWTGU1a3Q3NEEKZ1FJREFRQUIKLS0tLS1FTkQgUFVCTElDIEtFWS0tLS0tCg=='}, 'function': 'admin/trust_service', 'encryption_public_key': 'LS0tLS1CRUdJTiBQVUJMSUMgS0VZLS0tLS0KTUlJQklqQU5CZ2txaGtpRzl3MEJBUUVGQUFPQ0FROEFNSUlCQ2dLQ0FRRUF3b0tOMU9sM2JmYXpMZU9mSklLTQpYV29PYWVsMkg0aERWVEd3K3pTaVF1bVExNUR6d0NlOE5reGwySFhUNTlOUzViL2FadlJDSXkrMytlM0MwYUJhClE0OEhMUGRkcnI5TVJXMzZzcnNsWllKaHh6dkF1am5vZGR5REVtREhZMUNnc3J6Q2Y0b0ZDb0FpMW9Eb01yVHkKRVZUU1pQU3ZkK2Rxc2ZMUW1Bc2xBdGszSTV0VnFNdlJUV0ZhNy9kaW1PRUVvcm5CamViWkJlNE04ZEhFZ3JLTwpoZXhHT05VT2JuZ0N6aFVDcFJzc2d2OWtycjFQQzdHVkI5Z1VMbDBMd254L1dBZzRScWFSR0pmVUM0NzQ0ZTluCkR4SzJ0ek56K3pvVXk1YW5qNW4yWEhidDRkQk5waHBQc3FYeXBORWJrVER3dHcwVWVxaDlEZllhS1lYWE04RjEKZFFJREFRQUIKLS0tLS1FTkQgUFVCTElDIEtFWS0tLS0tCg==', 'sign_with_service_key': 'ea:78:e4:ba:d3:90:27:31:c1:44:c2:03:2d:5c:19:4f'}}\n"
     ]
    }
   ],
   "source": [
    "response = access_service.call_function(\n",
    "                    function=\"admin/trust_service\", args=args)\n",
    "print(response)"
   ]
  },
  {
   "cell_type": "code",
   "execution_count": 19,
   "metadata": {},
   "outputs": [],
   "source": [
    "resource = \"trust_service %s\" % identity_service.uid()\n",
    "public_cert = identity_service.public_certificate().to_data()\n",
    "args = {\"service_url\": identity_service.canonical_url(),\n",
    "            \"authorisation\": Authorisation(user=admin_storage,\n",
    "                                           resource=resource).to_data(),\n",
    "            \"public_certificate\": public_cert}"
   ]
  },
  {
   "cell_type": "code",
   "execution_count": 20,
   "metadata": {},
   "outputs": [
    {
     "name": "stdout",
     "output_type": "stream",
     "text": [
      "{'status': 0, 'message': 'Success. Now trusting IdentityService(url=http://fn.acquire-aaai.com:8080/t/identity, uid=fdac3ab5-3527-46f8-8432-c7ec8f586fc6)', 'args': {'service_url': 'http://fn.acquire-aaai.com:8080/t/identity', 'authorisation': {'user_uid': 'a94f4e55-96e1-462a-a4db-487cc6d600f2', 'session_uid': '4bb71060-764b-476c-9c5f-25970e7b76ac', 'identity_url': 'http://fn.acquire-aaai.com:8080/t/storage', 'identity_uid': 'c91771a1-3132-42f7-aebc-b7fe63119776', 'auth_datetime': '2019-02-20T15:41:56.276142', 'signature': 'CoQNqVVpqsBI7Q5IsWK7yF8BvG1zo84Pk2dXjNi76vk55UBWba2WBLWb388DZhZpmKg0Qqy/YxEbu/01U6O1EKxMOCq+ewhelLvbIo/wvO7rnh9BYsDyU+REhV7MOpR0LO7X+0mab6wDdzUbxmdATMADtUwCYyq0S/F9AHSNsWE6uNkdoA9bXOKXsW8FIx0RzVdb2MTQQig4RKq9lAF+0QRbAzL3De1mdxytheXhAak4HUFUVmX2rZjZr4DMW/ImEBXloAZWJFvgGIVrbH2FCAED8/F6+WAscGtQZF/fY5zDEkOHOVt2BIXBcV5LxmGN3hIjwt1d8HNXZeRiuUGlBQ=='}, 'public_certificate': {'bytes': 'LS0tLS1CRUdJTiBQVUJMSUMgS0VZLS0tLS0KTUlJQklqQU5CZ2txaGtpRzl3MEJBUUVGQUFPQ0FROEFNSUlCQ2dLQ0FRRUFxZzRmME1uNDJ6ZnBwZXR3RWhXcgpmT1Q3dUNsN291dlpMRkV0SktybUhYZ0ZFQ3JPME5jeVhhaFcwSm1WY0hVZmZDRjg0cGtHQW1iVEx1REIrNVExCk9TRDVJa3ZkamNKSHZ6OXVsOXpyVGpQWVVXQXdsTmF4eTFIRVJWTWdwTTY3a2VzTmZPWWl3Nnc1YzZBelN5NlcKNURJRDRyNDg5bUs2eWN6RTVRdTBQWGRrRlliVnIrditndU1PMFVFNUVDYzY0dEhtOW1hWDN4VEJia1paWTVEMgo0QTFicHBsdkZENWJWVHkzWWZwblRmZE9BSm4wRzVocnlNRSt6TC80UWtrN1ZNSkhQNzhUekhIMVJRUUdzZk1mCnF0Y01rditaU01zelBCdUQzYzRsZzFPaXh6LysrRDd3VGtKd3ZpZ3dGTEZQakRPU2NTbzBOdWpWTGU1a3Q3NEEKZ1FJREFRQUIKLS0tLS1FTkQgUFVCTElDIEtFWS0tLS0tCg=='}, 'function': 'admin/trust_service', 'encryption_public_key': 'LS0tLS1CRUdJTiBQVUJMSUMgS0VZLS0tLS0KTUlJQklqQU5CZ2txaGtpRzl3MEJBUUVGQUFPQ0FROEFNSUlCQ2dLQ0FRRUF3b0tOMU9sM2JmYXpMZU9mSklLTQpYV29PYWVsMkg0aERWVEd3K3pTaVF1bVExNUR6d0NlOE5reGwySFhUNTlOUzViL2FadlJDSXkrMytlM0MwYUJhClE0OEhMUGRkcnI5TVJXMzZzcnNsWllKaHh6dkF1am5vZGR5REVtREhZMUNnc3J6Q2Y0b0ZDb0FpMW9Eb01yVHkKRVZUU1pQU3ZkK2Rxc2ZMUW1Bc2xBdGszSTV0VnFNdlJUV0ZhNy9kaW1PRUVvcm5CamViWkJlNE04ZEhFZ3JLTwpoZXhHT05VT2JuZ0N6aFVDcFJzc2d2OWtycjFQQzdHVkI5Z1VMbDBMd254L1dBZzRScWFSR0pmVUM0NzQ0ZTluCkR4SzJ0ek56K3pvVXk1YW5qNW4yWEhidDRkQk5waHBQc3FYeXBORWJrVER3dHcwVWVxaDlEZllhS1lYWE04RjEKZFFJREFRQUIKLS0tLS1FTkQgUFVCTElDIEtFWS0tLS0tCg==', 'sign_with_service_key': '75:94:b4:20:57:b2:0c:33:f2:ba:be:47:3a:dd:45:96'}}\n"
     ]
    }
   ],
   "source": [
    "response = storage_service.call_function(\n",
    "                    function=\"admin/trust_service\", args=args)\n",
    "print(response)"
   ]
  },
  {
   "cell_type": "code",
   "execution_count": 21,
   "metadata": {},
   "outputs": [],
   "source": [
    "resource = \"trust_service %s\" % access_service.uid()\n",
    "public_cert = access_service.public_certificate().to_data()\n",
    "args = {\"service_url\": access_service.canonical_url(),\n",
    "            \"authorisation\": Authorisation(user=admin_accounting,\n",
    "                                           resource=resource).to_data(),\n",
    "            \"public_certificate\": public_cert}"
   ]
  },
  {
   "cell_type": "code",
   "execution_count": 22,
   "metadata": {},
   "outputs": [
    {
     "name": "stdout",
     "output_type": "stream",
     "text": [
      "{'status': 0, 'message': 'Success. Now trusting AccessService(url=http://fn.acquire-aaai.com:8080/t/access, uid=ab495477-5781-45f3-baef-1a17f62d4c56)', 'args': {'service_url': 'http://fn.acquire-aaai.com:8080/t/access', 'authorisation': {'user_uid': '9443658c-a52b-4d2a-9c4d-4ecb36fa3f47', 'session_uid': '0946b5ef-c2d3-4ec6-84ff-a91987235b87', 'identity_url': 'http://fn.acquire-aaai.com:8080/t/accounting', 'identity_uid': 'ee005e09-c312-44be-bcce-08ac158a1234', 'auth_datetime': '2019-02-20T15:42:08.527663', 'signature': 'oVlnv+DYsrpcJjwhjG26jl9lK6EPdJTkWyIyyd8fyvGLtvcIr9uzm21i52o08io2Mz34sy8EeC00z/UaTo7CDR70E9wHdQUXHwPRhsnReK3XW8+21V0XT01PnJDzMUTotj2zSc/9Kfd1niQkN2LIPXpU+p7PMVJUmWcEBqIryMgYgyBPfxYxI0evVmJUDLzafMk1Nq4zm45nTfVCm6zimfZwxg6noU940cX8BceJmQ3gxkCx6S1QwxKGG6aKZ0UR0q3iXXhlfaEXKkBydz22MFJuF0gH6haPwRyv2FbXP3Kb5Hu6eDbpiC7tCD9jBTJajfflUp+WPMcL5Im71Xd4zw=='}, 'public_certificate': {'bytes': 'LS0tLS1CRUdJTiBQVUJMSUMgS0VZLS0tLS0KTUlJQklqQU5CZ2txaGtpRzl3MEJBUUVGQUFPQ0FROEFNSUlCQ2dLQ0FRRUExdGVHenB3Wkd4dG9EVTN2bC9peApnU3RDSUdXa1VvdnRpZFhrcEFOUUs1amZsZ1R5bTgxaFU5OTUvc0pXUjFKWDdZRlpyZVdJYlpwQ1c5dWJEd1VxClBBYmxBeFF3R1UyTUp2ZVpGaGJkQ1BjZWg4cmpiUXYxQmFFUjRCUUp0dUNZV1hvV3hFOFRLZURaWk0wWGxKTWEKdEVWdzZSanZJdW9FMStnNlg2enFVWm1PN3hBQnZDRlFGRzNzU0JBaVJldnQ1cHpsbUc2WVpFcGhmWVRtVTgzNApnZjhxSkxBMnVqT3NOUWdzUngrOFZ1amV6S3A4dE1iNmlNNUJjWDRjdVFZQlBxSEdjTzd0U1pBc1JMd0IrS3pmCjdLMVNhR0VWVjI1SktFV29pQkVzYWRBSi9RcXZEa0RZRDhDWS9iSlE4YVAvVDFZUW1FVkNUWldCNURsZ0R4ZUoKcHdJREFRQUIKLS0tLS1FTkQgUFVCTElDIEtFWS0tLS0tCg=='}, 'function': 'admin/trust_service', 'encryption_public_key': 'LS0tLS1CRUdJTiBQVUJMSUMgS0VZLS0tLS0KTUlJQklqQU5CZ2txaGtpRzl3MEJBUUVGQUFPQ0FROEFNSUlCQ2dLQ0FRRUF3b0tOMU9sM2JmYXpMZU9mSklLTQpYV29PYWVsMkg0aERWVEd3K3pTaVF1bVExNUR6d0NlOE5reGwySFhUNTlOUzViL2FadlJDSXkrMytlM0MwYUJhClE0OEhMUGRkcnI5TVJXMzZzcnNsWllKaHh6dkF1am5vZGR5REVtREhZMUNnc3J6Q2Y0b0ZDb0FpMW9Eb01yVHkKRVZUU1pQU3ZkK2Rxc2ZMUW1Bc2xBdGszSTV0VnFNdlJUV0ZhNy9kaW1PRUVvcm5CamViWkJlNE04ZEhFZ3JLTwpoZXhHT05VT2JuZ0N6aFVDcFJzc2d2OWtycjFQQzdHVkI5Z1VMbDBMd254L1dBZzRScWFSR0pmVUM0NzQ0ZTluCkR4SzJ0ek56K3pvVXk1YW5qNW4yWEhidDRkQk5waHBQc3FYeXBORWJrVER3dHcwVWVxaDlEZllhS1lYWE04RjEKZFFJREFRQUIKLS0tLS1FTkQgUFVCTElDIEtFWS0tLS0tCg==', 'sign_with_service_key': '9f:9c:24:4a:40:c7:62:45:c8:16:80:84:2f:8a:72:7d'}}\n"
     ]
    }
   ],
   "source": [
    "response = accounting_service.call_function(\n",
    "                    function=\"admin/trust_service\", args=args)\n",
    "print(response)"
   ]
  },
  {
   "cell_type": "code",
   "execution_count": 23,
   "metadata": {},
   "outputs": [],
   "source": [
    "resource = \"trust_service %s\" % accounting_service.uid()\n",
    "public_cert = accounting_service.public_certificate().to_data()\n",
    "args = {\"service_url\": accounting_service.canonical_url(),\n",
    "            \"authorisation\": Authorisation(user=admin_access,\n",
    "                                           resource=resource).to_data(),\n",
    "            \"public_certificate\": public_cert}"
   ]
  },
  {
   "cell_type": "code",
   "execution_count": 24,
   "metadata": {},
   "outputs": [
    {
     "name": "stdout",
     "output_type": "stream",
     "text": [
      "{'status': 0, 'message': 'Success. Now trusting AccountingService(url=http://fn.acquire-aaai.com:8080/t/accounting, uid=ee005e09-c312-44be-bcce-08ac158a1234)', 'args': {'service_url': 'http://fn.acquire-aaai.com:8080/t/accounting', 'authorisation': {'user_uid': '1b00addb-71b8-4b3f-bfb2-de7c39ab07af', 'session_uid': '34a3ae07-6b9c-4f55-97ef-fd77e6c98d71', 'identity_url': 'http://fn.acquire-aaai.com:8080/t/access', 'identity_uid': 'ab495477-5781-45f3-baef-1a17f62d4c56', 'auth_datetime': '2019-02-20T15:42:19.290643', 'signature': 'W50RViR9q2bUO8NHleHsMsfS3/x7+MWRNo2nZex0OmF4aAvtCheUoNpe/r8DKpI4p8l4STTYigHHBQkY6pttY/3QaoTG3xSt+F83K9GELnnXkRzPoJvZvUVuhP1Hk87d62VHmPlIYXKNfPYn5iBlRKDQmBL8zQmJP0qAilJ29Z1StikavqcaCEIKeGvdrIzAcyU/vVPsxcpLE6IvCDxIa5y1IjiasMp0wct9mdMk9eZsKyWQB09QBUh0sPvmDfWRUh0K/QeF1BSw6QVTafkPvPzr/F6L39HTtcLAY3WwUgxeONC6xjavmYiU7Dg45q45sbGn8ZGbHjIKJtaYMAs+pw=='}, 'public_certificate': {'bytes': 'LS0tLS1CRUdJTiBQVUJMSUMgS0VZLS0tLS0KTUlJQklqQU5CZ2txaGtpRzl3MEJBUUVGQUFPQ0FROEFNSUlCQ2dLQ0FRRUErVnV2T0w1ZW1XTU56SlFSdkMySAp5M0trV1p0aEw3SUhPYVlvY1ZjSjVybFYycGtmWE9ZV0VHVXNBOVhZcG4xQ1QweXNFckdXcVFiRDZGWVJNOExvCkl0UEZNNUZRaWtTSk5LSThSZFVld3dFak1TYi9IM0E2d1lMVC9nZUR2UkU1d0dUdmFRUFJqSlpHd05iYkF0ZWQKUWdjemUybFZNQ053NWRsQWJVK0JnLzE4RUFXT0gvS0tLbkFOb1dreGxMRzl1bGNLQk1NbkFJS3Fra0YzcU9lcQpoZWRtWm9mMThwSnpPOVdsZEphY1IxNTZXVkt3VUlydTEyU24wSy9taE5SNFN6Yzg3MndtclpqR01LdjY1SEhBCitnU2dlcGxHQktRUlhqb0ZNUzdEV00zVGkxS2RLazV5VWFSRG8waEE3MVl4SGdKYWdyb0VXZlBwUDduVGFicGYKdlFJREFRQUIKLS0tLS1FTkQgUFVCTElDIEtFWS0tLS0tCg=='}, 'function': 'admin/trust_service', 'encryption_public_key': 'LS0tLS1CRUdJTiBQVUJMSUMgS0VZLS0tLS0KTUlJQklqQU5CZ2txaGtpRzl3MEJBUUVGQUFPQ0FROEFNSUlCQ2dLQ0FRRUF3b0tOMU9sM2JmYXpMZU9mSklLTQpYV29PYWVsMkg0aERWVEd3K3pTaVF1bVExNUR6d0NlOE5reGwySFhUNTlOUzViL2FadlJDSXkrMytlM0MwYUJhClE0OEhMUGRkcnI5TVJXMzZzcnNsWllKaHh6dkF1am5vZGR5REVtREhZMUNnc3J6Q2Y0b0ZDb0FpMW9Eb01yVHkKRVZUU1pQU3ZkK2Rxc2ZMUW1Bc2xBdGszSTV0VnFNdlJUV0ZhNy9kaW1PRUVvcm5CamViWkJlNE04ZEhFZ3JLTwpoZXhHT05VT2JuZ0N6aFVDcFJzc2d2OWtycjFQQzdHVkI5Z1VMbDBMd254L1dBZzRScWFSR0pmVUM0NzQ0ZTluCkR4SzJ0ek56K3pvVXk1YW5qNW4yWEhidDRkQk5waHBQc3FYeXBORWJrVER3dHcwVWVxaDlEZllhS1lYWE04RjEKZFFJREFRQUIKLS0tLS1FTkQgUFVCTElDIEtFWS0tLS0tCg==', 'sign_with_service_key': 'ea:78:e4:ba:d3:90:27:31:c1:44:c2:03:2d:5c:19:4f'}}\n"
     ]
    }
   ],
   "source": [
    "response = access_service.call_function(\n",
    "                    function=\"admin/trust_service\", args=args)\n",
    "print(response)"
   ]
  },
  {
   "cell_type": "code",
   "execution_count": 25,
   "metadata": {},
   "outputs": [],
   "source": [
    "resource = \"trust_accounting_service %s\" % accounting_service.uid()\n",
    "public_cert = accounting_service.public_certificate().to_data()\n",
    "args = {\"service_url\": accounting_service.canonical_url(),\n",
    "            \"authorisation\": Authorisation(user=admin_access,\n",
    "                                           resource=resource).to_data(),\n",
    "            \"public_certificate\": public_cert}"
   ]
  },
  {
   "cell_type": "code",
   "execution_count": 26,
   "metadata": {},
   "outputs": [
    {
     "name": "stdout",
     "output_type": "stream",
     "text": [
      "{'status': 0, 'message': 'Success. Now trusting AccessService(url=http://fn.acquire-aaai.com:8080/t/access, uid=ab495477-5781-45f3-baef-1a17f62d4c56)', 'args': {'service_url': 'http://fn.acquire-aaai.com:8080/t/accounting', 'authorisation': {'user_uid': '1b00addb-71b8-4b3f-bfb2-de7c39ab07af', 'session_uid': '34a3ae07-6b9c-4f55-97ef-fd77e6c98d71', 'identity_url': 'http://fn.acquire-aaai.com:8080/t/access', 'identity_uid': 'ab495477-5781-45f3-baef-1a17f62d4c56', 'auth_datetime': '2019-02-20T15:42:24.098040', 'signature': 'hyKaBeLVNO52KKJUXmcxQ2WPmAjaRD37xCFvhysYZirh29IXHhFuXghZzxFg8FWfrBRpQJsZzYkTg3QF8xh33K/a3yOeilW2QJRKSUI/XLV3/GLXHQRp9e5b9ugj1QknOp79Pyf14OcLBSZoxpLRgREsRur/73NnwkfWobQIkFW0/nthTOxyQoY4BM6ViE5L4sHl3f2f1/4dIlaDb3uY9VxDcScYQbPd8UcDdZ6PWoXPjoUtdXMH0IcjlJV4pKwcxqknYB9EmJz2mVwRQy+zo+yNBDJkpar23iezkWx0XGBuUCFsvXYtZBANMlB+aoutEFkO43QyFWYMdQzkT4cYCA=='}, 'public_certificate': {'bytes': 'LS0tLS1CRUdJTiBQVUJMSUMgS0VZLS0tLS0KTUlJQklqQU5CZ2txaGtpRzl3MEJBUUVGQUFPQ0FROEFNSUlCQ2dLQ0FRRUErVnV2T0w1ZW1XTU56SlFSdkMySAp5M0trV1p0aEw3SUhPYVlvY1ZjSjVybFYycGtmWE9ZV0VHVXNBOVhZcG4xQ1QweXNFckdXcVFiRDZGWVJNOExvCkl0UEZNNUZRaWtTSk5LSThSZFVld3dFak1TYi9IM0E2d1lMVC9nZUR2UkU1d0dUdmFRUFJqSlpHd05iYkF0ZWQKUWdjemUybFZNQ053NWRsQWJVK0JnLzE4RUFXT0gvS0tLbkFOb1dreGxMRzl1bGNLQk1NbkFJS3Fra0YzcU9lcQpoZWRtWm9mMThwSnpPOVdsZEphY1IxNTZXVkt3VUlydTEyU24wSy9taE5SNFN6Yzg3MndtclpqR01LdjY1SEhBCitnU2dlcGxHQktRUlhqb0ZNUzdEV00zVGkxS2RLazV5VWFSRG8waEE3MVl4SGdKYWdyb0VXZlBwUDduVGFicGYKdlFJREFRQUIKLS0tLS1FTkQgUFVCTElDIEtFWS0tLS0tCg=='}, 'function': 'admin/trust_accounting_service', 'encryption_public_key': 'LS0tLS1CRUdJTiBQVUJMSUMgS0VZLS0tLS0KTUlJQklqQU5CZ2txaGtpRzl3MEJBUUVGQUFPQ0FROEFNSUlCQ2dLQ0FRRUF3b0tOMU9sM2JmYXpMZU9mSklLTQpYV29PYWVsMkg0aERWVEd3K3pTaVF1bVExNUR6d0NlOE5reGwySFhUNTlOUzViL2FadlJDSXkrMytlM0MwYUJhClE0OEhMUGRkcnI5TVJXMzZzcnNsWllKaHh6dkF1am5vZGR5REVtREhZMUNnc3J6Q2Y0b0ZDb0FpMW9Eb01yVHkKRVZUU1pQU3ZkK2Rxc2ZMUW1Bc2xBdGszSTV0VnFNdlJUV0ZhNy9kaW1PRUVvcm5CamViWkJlNE04ZEhFZ3JLTwpoZXhHT05VT2JuZ0N6aFVDcFJzc2d2OWtycjFQQzdHVkI5Z1VMbDBMd254L1dBZzRScWFSR0pmVUM0NzQ0ZTluCkR4SzJ0ek56K3pvVXk1YW5qNW4yWEhidDRkQk5waHBQc3FYeXBORWJrVER3dHcwVWVxaDlEZllhS1lYWE04RjEKZFFJREFRQUIKLS0tLS1FTkQgUFVCTElDIEtFWS0tLS0tCg==', 'sign_with_service_key': 'ea:78:e4:ba:d3:90:27:31:c1:44:c2:03:2d:5c:19:4f'}}\n"
     ]
    }
   ],
   "source": [
    "response = access_service.call_function(\n",
    "                    function=\"admin/trust_accounting_service\", args=args)\n",
    "print(response)"
   ]
  },
  {
   "cell_type": "code",
   "execution_count": 27,
   "metadata": {},
   "outputs": [
    {
     "data": {
      "text/plain": [
       "{'status': 0, 'message': 'Successfully logged out'}"
      ]
     },
     "execution_count": 27,
     "metadata": {},
     "output_type": "execute_result"
    }
   ],
   "source": [
    "admin_access.logout()\n",
    "admin_accounting.logout()\n",
    "admin_identity.logout()\n",
    "admin_storage.logout()"
   ]
  },
  {
   "cell_type": "code",
   "execution_count": null,
   "metadata": {},
   "outputs": [],
   "source": []
  }
 ],
 "metadata": {
  "kernelspec": {
   "display_name": "Python 3",
   "language": "python",
   "name": "python3"
  },
  "language_info": {
   "codemirror_mode": {
    "name": "ipython",
    "version": 3
   },
   "file_extension": ".py",
   "mimetype": "text/x-python",
   "name": "python",
   "nbconvert_exporter": "python",
   "pygments_lexer": "ipython3",
   "version": "3.6.6"
  }
 },
 "nbformat": 4,
 "nbformat_minor": 2
}
