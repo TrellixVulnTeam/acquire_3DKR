{
 "cells": [
  {
   "cell_type": "code",
   "execution_count": 1,
   "metadata": {},
   "outputs": [],
   "source": [
    "from Acquire.Client import User, Authorisation"
   ]
  },
  {
   "cell_type": "code",
   "execution_count": 2,
   "metadata": {},
   "outputs": [],
   "source": [
    "user = User(\"chryswoods\")"
   ]
  },
  {
   "cell_type": "code",
   "execution_count": 9,
   "metadata": {},
   "outputs": [
    {
     "ename": "DecryptionError",
     "evalue": "Error calling 'request_login' on 'http://fn.acquire-aaai.com:8080/t/identity': Cannot decrypt the symmetric key used to encrypt the long message 'b'7\\x0fj\\x1f\\x1d|\\xf0\\x16\\xd7\\xcf*\\xb4\\x96\\xa4\\x98f\\xbc\\xd6\\x1eh\\xfcV\\xf0g\\x04\\x01VP\\xe5\\xe3IF\\xbb\\xa3\\x87\\xdc\\x98\\x01\\xa3\\xc1<\\xb3\\x88\\xaaI|\\xc3\\xc9\\xd4h\\n\\x14@\\x13\\tcD\\xfe:\\x81\\x85 m\\x19\\xdb\\x06~\\x82hS\\xd0pL8z\\xbe\\xd0\\xfb\\x02?\\x8dR\\x14\\x9c\\x882{e0^\\x0e\\xf5\\xbd\\xb9bB\\xcdY+\\xdc\\xc0\\x83d\\xff\\xf5\\x9d*C\\xa32\\xc1\\xe2\\x0c\\\\\\xbe\\x84[\\xb7\\xed\\x81\\xb6\\xe95\\xd6\\xaf\\xddJ\\x1fcX\\xb9\\x90\\xcb\\x85\\xd6.\\xfb\\x05\\x9c\\x84\\xd6\\xb9[84L\\x1762_\\x13\\xa6M\\xdb\\xfd\\x05\\x1a\\x9fjb\\xd1;N\\x1d\\x9c\\xafS\\xd9T~Y\\x88\\xe3\\xbcL\\x12\\xa3\\xd7`A)\\xb4\\xbdr\\xca\\x12\\xb3%\\x18SFo\\x19\\xf2$\\xa5\\xa9\\x85\\xb0x\\xee\\x1b\\xad\\xe4\\x00\\x7f\\x9a\\xe6\\xbd\\x80\\x99\\xaf`<\\xd7\\x9b\\x876\\xae\\x84G\\xaf\\x16\\x82\\xe7\\xd4\\x03^j\\n\\xcc\\x84\\xf2os:KK\\xff\\x81!\\x92\\x99!=\\xcev\\x9f5m\\x1cH\\x85\\xcb\\x0f\\xc6'' (256): Decryption failed.",
     "output_type": "error",
     "traceback": [
      "\u001b[0;31m---------------------------------------------------------------------------\u001b[0m",
      "\u001b[0;31mDecryptionError\u001b[0m                           Traceback (most recent call last)",
      "\u001b[0;32m<ipython-input-9-ba09bd088ee8>\u001b[0m in \u001b[0;36m<module>\u001b[0;34m()\u001b[0m\n\u001b[0;32m----> 1\u001b[0;31m \u001b[0;34m(\u001b[0m\u001b[0murl\u001b[0m\u001b[0;34m,\u001b[0m \u001b[0mqrcode\u001b[0m\u001b[0;34m)\u001b[0m \u001b[0;34m=\u001b[0m \u001b[0muser\u001b[0m\u001b[0;34m.\u001b[0m\u001b[0mrequest_login\u001b[0m\u001b[0;34m(\u001b[0m\u001b[0;34m)\u001b[0m\u001b[0;34m\u001b[0m\u001b[0m\n\u001b[0m",
      "\u001b[0;32m~/Work/acquire/source/Acquire/Client/_user.py\u001b[0m in \u001b[0;36mrequest_login\u001b[0;34m(self, login_message, _is_local)\u001b[0m\n\u001b[1;32m    439\u001b[0m \u001b[0;34m\u001b[0m\u001b[0m\n\u001b[1;32m    440\u001b[0m         result = identity_service.call_function(\n\u001b[0;32m--> 441\u001b[0;31m                         function=\"request_login\", args=args)\n\u001b[0m\u001b[1;32m    442\u001b[0m \u001b[0;34m\u001b[0m\u001b[0m\n\u001b[1;32m    443\u001b[0m         \u001b[0;31m# look for status = 0\u001b[0m\u001b[0;34m\u001b[0m\u001b[0;34m\u001b[0m\u001b[0m\n",
      "\u001b[0;32m~/Work/acquire/source/Acquire/Service/_service.py\u001b[0m in \u001b[0;36mcall_function\u001b[0;34m(self, function, args)\u001b[0m\n\u001b[1;32m    549\u001b[0m                               \u001b[0margs_key\u001b[0m\u001b[0;34m=\u001b[0m\u001b[0mself\u001b[0m\u001b[0;34m.\u001b[0m\u001b[0mpublic_key\u001b[0m\u001b[0;34m(\u001b[0m\u001b[0;34m)\u001b[0m\u001b[0;34m,\u001b[0m\u001b[0;34m\u001b[0m\u001b[0m\n\u001b[1;32m    550\u001b[0m                               \u001b[0mpublic_cert\u001b[0m\u001b[0;34m=\u001b[0m\u001b[0mself\u001b[0m\u001b[0;34m.\u001b[0m\u001b[0mpublic_certificate\u001b[0m\u001b[0;34m(\u001b[0m\u001b[0;34m)\u001b[0m\u001b[0;34m,\u001b[0m\u001b[0;34m\u001b[0m\u001b[0m\n\u001b[0;32m--> 551\u001b[0;31m                               response_key=_get_private_key(\"function\"))\n\u001b[0m\u001b[1;32m    552\u001b[0m \u001b[0;34m\u001b[0m\u001b[0m\n\u001b[1;32m    553\u001b[0m     \u001b[0;32mdef\u001b[0m \u001b[0msign\u001b[0m\u001b[0;34m(\u001b[0m\u001b[0mself\u001b[0m\u001b[0;34m,\u001b[0m \u001b[0mmessage\u001b[0m\u001b[0;34m)\u001b[0m\u001b[0;34m:\u001b[0m\u001b[0;34m\u001b[0m\u001b[0m\n",
      "\u001b[0;32m~/Work/acquire/source/Acquire/Service/_function.py\u001b[0m in \u001b[0;36mcall_function\u001b[0;34m(service_url, function, args_key, response_key, public_cert, args, **kwargs)\u001b[0m\n\u001b[1;32m    407\u001b[0m \u001b[0;34m\u001b[0m\u001b[0m\n\u001b[1;32m    408\u001b[0m     return unpack_return_value(result, response_key, public_cert,\n\u001b[0;32m--> 409\u001b[0;31m                                function=function, service=service_url)\n\u001b[0m",
      "\u001b[0;32m~/Work/acquire/source/Acquire/Service/_function.py\u001b[0m in \u001b[0;36munpack_return_value\u001b[0;34m(return_value, key, public_cert, function, service)\u001b[0m\n\u001b[1;32m    269\u001b[0m     return unpack_arguments(return_value, key, public_cert,\n\u001b[1;32m    270\u001b[0m                             \u001b[0mis_return_value\u001b[0m\u001b[0;34m=\u001b[0m\u001b[0;32mTrue\u001b[0m\u001b[0;34m,\u001b[0m \u001b[0mfunction\u001b[0m\u001b[0;34m=\u001b[0m\u001b[0mfunction\u001b[0m\u001b[0;34m,\u001b[0m\u001b[0;34m\u001b[0m\u001b[0m\n\u001b[0;32m--> 271\u001b[0;31m                             service=service)\n\u001b[0m\u001b[1;32m    272\u001b[0m \u001b[0;34m\u001b[0m\u001b[0m\n\u001b[1;32m    273\u001b[0m \u001b[0;34m\u001b[0m\u001b[0m\n",
      "\u001b[0;32m~/Work/acquire/source/Acquire/Service/_function.py\u001b[0m in \u001b[0;36munpack_arguments\u001b[0;34m(args, key, public_cert, is_return_value, function, service)\u001b[0m\n\u001b[1;32m    208\u001b[0m             \u001b[0;32mif\u001b[0m \u001b[0mdata\u001b[0m\u001b[0;34m[\u001b[0m\u001b[0;34m\"status\"\u001b[0m\u001b[0;34m]\u001b[0m \u001b[0;34m!=\u001b[0m \u001b[0;36m0\u001b[0m\u001b[0;34m:\u001b[0m\u001b[0;34m\u001b[0m\u001b[0m\n\u001b[1;32m    209\u001b[0m                 \u001b[0;32mif\u001b[0m \u001b[0;34m\"exception\"\u001b[0m \u001b[0;32min\u001b[0m \u001b[0mdata\u001b[0m\u001b[0;34m:\u001b[0m\u001b[0;34m\u001b[0m\u001b[0m\n\u001b[0;32m--> 210\u001b[0;31m                     \u001b[0m_unpack_and_raise\u001b[0m\u001b[0;34m(\u001b[0m\u001b[0mfunction\u001b[0m\u001b[0;34m,\u001b[0m \u001b[0mservice\u001b[0m\u001b[0;34m,\u001b[0m \u001b[0mdata\u001b[0m\u001b[0;34m[\u001b[0m\u001b[0;34m\"exception\"\u001b[0m\u001b[0;34m]\u001b[0m\u001b[0;34m)\u001b[0m\u001b[0;34m\u001b[0m\u001b[0m\n\u001b[0m\u001b[1;32m    211\u001b[0m                 \u001b[0;32melse\u001b[0m\u001b[0;34m:\u001b[0m\u001b[0;34m\u001b[0m\u001b[0m\n\u001b[1;32m    212\u001b[0m                     raise RemoteFunctionCallError(\n",
      "\u001b[0;32m~/Work/acquire/source/Acquire/Service/_function.py\u001b[0m in \u001b[0;36m_unpack_and_raise\u001b[0;34m(function, service, exdata)\u001b[0m\n\u001b[1;32m    300\u001b[0m             (function, service), e)\n\u001b[1;32m    301\u001b[0m \u001b[0;34m\u001b[0m\u001b[0m\n\u001b[0;32m--> 302\u001b[0;31m     \u001b[0;32mraise\u001b[0m \u001b[0mex\u001b[0m\u001b[0;34m\u001b[0m\u001b[0m\n\u001b[0m\u001b[1;32m    303\u001b[0m \u001b[0;34m\u001b[0m\u001b[0m\n\u001b[1;32m    304\u001b[0m \u001b[0;34m\u001b[0m\u001b[0m\n",
      "\u001b[0;32m/function/python_modules/admin/handler.py\u001b[0m in \u001b[0;36m_base_handler\u001b[0;34m()\u001b[0m\n",
      "\u001b[0;32m/function/python_modules/Acquire/Service/_function.py\u001b[0m in \u001b[0;36munpack_arguments\u001b[0;34m()\u001b[0m\n",
      "\u001b[0;32m/function/python_modules/Acquire/Crypto/_keys.py\u001b[0m in \u001b[0;36mdecrypt\u001b[0;34m()\u001b[0m\n",
      "\u001b[0;31mDecryptionError\u001b[0m: Error calling 'request_login' on 'http://fn.acquire-aaai.com:8080/t/identity': Cannot decrypt the symmetric key used to encrypt the long message 'b'7\\x0fj\\x1f\\x1d|\\xf0\\x16\\xd7\\xcf*\\xb4\\x96\\xa4\\x98f\\xbc\\xd6\\x1eh\\xfcV\\xf0g\\x04\\x01VP\\xe5\\xe3IF\\xbb\\xa3\\x87\\xdc\\x98\\x01\\xa3\\xc1<\\xb3\\x88\\xaaI|\\xc3\\xc9\\xd4h\\n\\x14@\\x13\\tcD\\xfe:\\x81\\x85 m\\x19\\xdb\\x06~\\x82hS\\xd0pL8z\\xbe\\xd0\\xfb\\x02?\\x8dR\\x14\\x9c\\x882{e0^\\x0e\\xf5\\xbd\\xb9bB\\xcdY+\\xdc\\xc0\\x83d\\xff\\xf5\\x9d*C\\xa32\\xc1\\xe2\\x0c\\\\\\xbe\\x84[\\xb7\\xed\\x81\\xb6\\xe95\\xd6\\xaf\\xddJ\\x1fcX\\xb9\\x90\\xcb\\x85\\xd6.\\xfb\\x05\\x9c\\x84\\xd6\\xb9[84L\\x1762_\\x13\\xa6M\\xdb\\xfd\\x05\\x1a\\x9fjb\\xd1;N\\x1d\\x9c\\xafS\\xd9T~Y\\x88\\xe3\\xbcL\\x12\\xa3\\xd7`A)\\xb4\\xbdr\\xca\\x12\\xb3%\\x18SFo\\x19\\xf2$\\xa5\\xa9\\x85\\xb0x\\xee\\x1b\\xad\\xe4\\x00\\x7f\\x9a\\xe6\\xbd\\x80\\x99\\xaf`<\\xd7\\x9b\\x876\\xae\\x84G\\xaf\\x16\\x82\\xe7\\xd4\\x03^j\\n\\xcc\\x84\\xf2os:KK\\xff\\x81!\\x92\\x99!=\\xcev\\x9f5m\\x1cH\\x85\\xcb\\x0f\\xc6'' (256): Decryption failed."
     ]
    }
   ],
   "source": [
    "(url, qrcode) = user.request_login()"
   ]
  },
  {
   "cell_type": "code",
   "execution_count": null,
   "metadata": {},
   "outputs": [],
   "source": [
    "print(url)\n",
    "qrcode"
   ]
  },
  {
   "cell_type": "code",
   "execution_count": null,
   "metadata": {},
   "outputs": [],
   "source": [
    "user.wait_for_login()"
   ]
  },
  {
   "cell_type": "code",
   "execution_count": null,
   "metadata": {},
   "outputs": [],
   "source": [
    "assert(user.is_logged_in())"
   ]
  },
  {
   "cell_type": "code",
   "execution_count": 4,
   "metadata": {},
   "outputs": [
    {
     "ename": "PermissionError",
     "evalue": "The passed user '%s' must be authenticated to enable you to generate an authorisation for the account",
     "output_type": "error",
     "traceback": [
      "\u001b[0;31m---------------------------------------------------------------------------\u001b[0m",
      "\u001b[0;31mPermissionError\u001b[0m                           Traceback (most recent call last)",
      "\u001b[0;32m<ipython-input-4-27d75c4816fa>\u001b[0m in \u001b[0;36m<module>\u001b[0;34m()\u001b[0m\n\u001b[0;32m----> 1\u001b[0;31m \u001b[0mauth\u001b[0m \u001b[0;34m=\u001b[0m \u001b[0mAuthorisation\u001b[0m\u001b[0;34m(\u001b[0m\u001b[0;34m\"trust me\"\u001b[0m\u001b[0;34m,\u001b[0m \u001b[0muser\u001b[0m\u001b[0;34m)\u001b[0m\u001b[0;34m\u001b[0m\u001b[0m\n\u001b[0m",
      "\u001b[0;32m~/Work/acquire/source/Acquire/Identity/_authorisation.py\u001b[0m in \u001b[0;36m__init__\u001b[0;34m(self, resource, user, testing_key)\u001b[0m\n\u001b[1;32m     47\u001b[0m             \u001b[0;32melif\u001b[0m \u001b[0;32mnot\u001b[0m \u001b[0muser\u001b[0m\u001b[0;34m.\u001b[0m\u001b[0mis_logged_in\u001b[0m\u001b[0;34m(\u001b[0m\u001b[0;34m)\u001b[0m\u001b[0;34m:\u001b[0m\u001b[0;34m\u001b[0m\u001b[0m\n\u001b[1;32m     48\u001b[0m                 raise PermissionError(\n\u001b[0;32m---> 49\u001b[0;31m                     \u001b[0;34m\"The passed user '%s' must be authenticated to enable \"\u001b[0m\u001b[0;34m\u001b[0m\u001b[0m\n\u001b[0m\u001b[1;32m     50\u001b[0m                     \"you to generate an authorisation for the account\")\n\u001b[1;32m     51\u001b[0m \u001b[0;34m\u001b[0m\u001b[0m\n",
      "\u001b[0;31mPermissionError\u001b[0m: The passed user '%s' must be authenticated to enable you to generate an authorisation for the account"
     ]
    }
   ],
   "source": [
    "auth = Authorisation(\"trust me\", user)"
   ]
  },
  {
   "cell_type": "code",
   "execution_count": null,
   "metadata": {},
   "outputs": [],
   "source": [
    "auth.verify(\"trust me\", force=True)"
   ]
  },
  {
   "cell_type": "code",
   "execution_count": null,
   "metadata": {},
   "outputs": [],
   "source": [
    "from Acquire.Client import Service"
   ]
  },
  {
   "cell_type": "code",
   "execution_count": null,
   "metadata": {},
   "outputs": [],
   "source": [
    "service = Service(\"http://fn.acquire-aaai.com:8080/t/identity\")"
   ]
  },
  {
   "cell_type": "code",
   "execution_count": null,
   "metadata": {},
   "outputs": [],
   "source": [
    "service.validation_string()"
   ]
  },
  {
   "cell_type": "code",
   "execution_count": 5,
   "metadata": {},
   "outputs": [],
   "source": [
    "from Acquire.Client import Wallet"
   ]
  },
  {
   "cell_type": "code",
   "execution_count": 6,
   "metadata": {},
   "outputs": [
    {
     "ename": "NameError",
     "evalue": "name 'service' is not defined",
     "output_type": "error",
     "traceback": [
      "\u001b[0;31m---------------------------------------------------------------------------\u001b[0m",
      "\u001b[0;31mNameError\u001b[0m                                 Traceback (most recent call last)",
      "\u001b[0;32m<ipython-input-6-5b3f60450767>\u001b[0m in \u001b[0;36m<module>\u001b[0;34m()\u001b[0m\n\u001b[0;32m----> 1\u001b[0;31m \u001b[0mWallet\u001b[0m\u001b[0;34m.\u001b[0m\u001b[0madd_service\u001b[0m\u001b[0;34m(\u001b[0m\u001b[0mservice\u001b[0m\u001b[0;34m)\u001b[0m\u001b[0;34m\u001b[0m\u001b[0m\n\u001b[0m",
      "\u001b[0;31mNameError\u001b[0m: name 'service' is not defined"
     ]
    }
   ],
   "source": [
    "Wallet.add_service(service)"
   ]
  },
  {
   "cell_type": "code",
   "execution_count": 7,
   "metadata": {},
   "outputs": [
    {
     "data": {
      "text/plain": [
       "[IdentityService(url=http://fn.acquire-aaai.com:8080/t/identity, uid=fdac3ab5-3527-46f8-8432-c7ec8f586fc6)]"
      ]
     },
     "execution_count": 7,
     "metadata": {},
     "output_type": "execute_result"
    }
   ],
   "source": [
    "Wallet.get_services()"
   ]
  },
  {
   "cell_type": "code",
   "execution_count": null,
   "metadata": {},
   "outputs": [],
   "source": [
    "user.logout()"
   ]
  },
  {
   "cell_type": "code",
   "execution_count": 8,
   "metadata": {},
   "outputs": [],
   "source": [
    "Wallet.remove_all_services()"
   ]
  },
  {
   "cell_type": "code",
   "execution_count": null,
   "metadata": {},
   "outputs": [],
   "source": []
  }
 ],
 "metadata": {
  "kernelspec": {
   "display_name": "Python 3",
   "language": "python",
   "name": "python3"
  },
  "language_info": {
   "codemirror_mode": {
    "name": "ipython",
    "version": 3
   },
   "file_extension": ".py",
   "mimetype": "text/x-python",
   "name": "python",
   "nbconvert_exporter": "python",
   "pygments_lexer": "ipython3",
   "version": "3.6.6"
  }
 },
 "nbformat": 4,
 "nbformat_minor": 2
}
