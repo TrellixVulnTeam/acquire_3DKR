{
 "cells": [
  {
   "cell_type": "code",
   "execution_count": 1,
   "metadata": {},
   "outputs": [],
   "source": [
    "from Acquire.Client import User, Authorisation"
   ]
  },
  {
   "cell_type": "code",
   "execution_count": 2,
   "metadata": {},
   "outputs": [],
   "source": [
    "user = User(\"chryswoods\")"
   ]
  },
  {
   "cell_type": "code",
   "execution_count": 3,
   "metadata": {},
   "outputs": [
    {
     "name": "stdout",
     "output_type": "stream",
     "text": [
      "This is a new service that you have not seen before.\n",
      "IdentityService(url=http://fn.acquire-aaai.com:8080/t/identity, uid=fdac3ab5-3527-46f8-8432-c7ec8f586fc6)\n",
      " Public Certificate = b'-----BEGIN PUBLIC KEY-----\\nMIIBIjANBgkqhkiG9w0BAQEFAAOCAQ8AMIIBCgKCAQEA0v51tWAobx0sUylrgOvD\\nukGXbLG6027rjkXau/U20+nz8VRu5ikc/WABE3sReaq0fhMBjayjpQGpgGKDcVJl\\nseSG2Yv4o5ckYvZ00X3DTf8Y65bYY79cHFDZXroMOq1A4IAuZtgWMdQA5i0sSZ6u\\n+AWGqDjD1Vh82KRwBYpHt3C38B5Qjj/mYfkUIGfykTKJAAHekf65NJQUpLiiuqa/\\n/D/sRouHU6cUI6N7DwzyuP6CDRvUishEyO9Lb23Lnd5xXEzyBRLkrj1SSeQg2Unl\\nFSGfD0mEn1HNF4OjmA8mNylTGAm3XOvxNaYpsBS5wQi0LhC4BxscqSEsfl2RfLVn\\nIwIDAQAB\\n-----END PUBLIC KEY-----\\n'\n",
      "\n",
      "Do you trust this service? y/ny\n",
      "Trusting this service...\n"
     ]
    }
   ],
   "source": [
    "(url, qrcode) = user.request_login()"
   ]
  },
  {
   "cell_type": "code",
   "execution_count": 4,
   "metadata": {},
   "outputs": [
    {
     "name": "stdout",
     "output_type": "stream",
     "text": [
      "http://fn.acquire-aaai.com:8080/t/identity/s?id=3fa530b1\n"
     ]
    },
    {
     "data": {
      "image/png": "[encoded data removed]",
      "text/plain": [
       "<qrcode.image.pil.PilImage at 0x10c32b7b8>"
      ]
     },
     "execution_count": 4,
     "metadata": {},
     "output_type": "execute_result"
    }
   ],
   "source": [
    "print(url)\n",
    "qrcode"
   ]
  },
  {
   "cell_type": "code",
   "execution_count": null,
   "metadata": {},
   "outputs": [],
   "source": [
    "user.wait_for_login()"
   ]
  },
  {
   "cell_type": "code",
   "execution_count": null,
   "metadata": {},
   "outputs": [],
   "source": [
    "assert(user.is_logged_in())"
   ]
  },
  {
   "cell_type": "code",
   "execution_count": null,
   "metadata": {},
   "outputs": [],
   "source": [
    "auth = Authorisation(\"trust me\", user)"
   ]
  },
  {
   "cell_type": "code",
   "execution_count": null,
   "metadata": {},
   "outputs": [],
   "source": [
    "auth.verify(\"trust me\", force=True)"
   ]
  },
  {
   "cell_type": "code",
   "execution_count": null,
   "metadata": {},
   "outputs": [],
   "source": [
    "def yes_or_no(question):\n",
    "    if question == \"Hello\":\n",
    "        reply = str(input(question+' (y/n): ')).lower().strip()\n",
    "        if reply[0] == 'y':\n",
    "            print(\"Something something...\")\n",
    "            return True\n",
    "        if reply[0] == 'n':\n",
    "            print(\"Something else...\")\n",
    "            return False\n",
    "    else:\n",
    "        return yes_or_no(\"Uhhhh... please enter \")"
   ]
  },
  {
   "cell_type": "code",
   "execution_count": null,
   "metadata": {},
   "outputs": [],
   "source": [
    "yes_or_no(\"Hello\")"
   ]
  },
  {
   "cell_type": "code",
   "execution_count": null,
   "metadata": {},
   "outputs": [],
   "source": [
    "from Acquire.Client import Service"
   ]
  },
  {
   "cell_type": "code",
   "execution_count": null,
   "metadata": {},
   "outputs": [],
   "source": [
    "service = Service(\"http://fn.acquire-aaai.com:8080/t/identity\")"
   ]
  },
  {
   "cell_type": "code",
   "execution_count": null,
   "metadata": {},
   "outputs": [],
   "source": [
    "service"
   ]
  },
  {
   "cell_type": "code",
   "execution_count": 6,
   "metadata": {},
   "outputs": [],
   "source": [
    "from Acquire.Client import Wallet"
   ]
  },
  {
   "cell_type": "code",
   "execution_count": 7,
   "metadata": {},
   "outputs": [
    {
     "data": {
      "text/plain": [
       "[IdentityService(url=http://fn.acquire-aaai.com:8080/t/identity, uid=fdac3ab5-3527-46f8-8432-c7ec8f586fc6)]"
      ]
     },
     "execution_count": 7,
     "metadata": {},
     "output_type": "execute_result"
    }
   ],
   "source": [
    "Wallet.get_services()"
   ]
  },
  {
   "cell_type": "code",
   "execution_count": null,
   "metadata": {},
   "outputs": [],
   "source": [
    "Wallet.remove_all_services()"
   ]
  },
  {
   "cell_type": "code",
   "execution_count": null,
   "metadata": {},
   "outputs": [],
   "source": [
    "Wallet.get_services()"
   ]
  },
  {
   "cell_type": "code",
   "execution_count": 5,
   "metadata": {},
   "outputs": [
    {
     "data": {
      "text/plain": [
       "{'status': 0, 'message': 'Successfully logged out'}"
      ]
     },
     "execution_count": 5,
     "metadata": {},
     "output_type": "execute_result"
    }
   ],
   "source": [
    "user.logout()"
   ]
  },
  {
   "cell_type": "code",
   "execution_count": null,
   "metadata": {},
   "outputs": [],
   "source": []
  }
 ],
 "metadata": {
  "kernelspec": {
   "display_name": "Python 3",
   "language": "python",
   "name": "python3"
  },
  "language_info": {
   "codemirror_mode": {
    "name": "ipython",
    "version": 3
   },
   "file_extension": ".py",
   "mimetype": "text/x-python",
   "name": "python",
   "nbconvert_exporter": "python",
   "pygments_lexer": "ipython3",
   "version": "3.6.6"
  }
 },
 "nbformat": 4,
 "nbformat_minor": 2
}
