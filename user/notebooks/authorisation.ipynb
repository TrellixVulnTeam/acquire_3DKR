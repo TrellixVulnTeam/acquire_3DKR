{
 "cells": [
  {
   "cell_type": "code",
   "execution_count": null,
   "metadata": {},
   "outputs": [],
   "source": [
    "from Acquire.Client import User, Authorisation"
   ]
  },
  {
   "cell_type": "code",
   "execution_count": null,
   "metadata": {},
   "outputs": [],
   "source": [
    "user = User(\"chryswoods\")"
   ]
  },
  {
   "cell_type": "code",
   "execution_count": null,
   "metadata": {},
   "outputs": [],
   "source": [
    "(url, qrcode) = user.request_login()"
   ]
  },
  {
   "cell_type": "code",
   "execution_count": null,
   "metadata": {},
   "outputs": [],
   "source": [
    "print(url)\n",
    "qrcode"
   ]
  },
  {
   "cell_type": "code",
   "execution_count": null,
   "metadata": {},
   "outputs": [],
   "source": [
    "user.wait_for_login()"
   ]
  },
  {
   "cell_type": "code",
   "execution_count": null,
   "metadata": {},
   "outputs": [],
   "source": [
    "assert(user.is_logged_in())"
   ]
  },
  {
   "cell_type": "code",
   "execution_count": null,
   "metadata": {},
   "outputs": [],
   "source": [
    "auth = Authorisation(\"trust me\", user)"
   ]
  },
  {
   "cell_type": "code",
   "execution_count": null,
   "metadata": {},
   "outputs": [],
   "source": [
    "auth.verify(\"trust me\", force=True)"
   ]
  },
  {
   "cell_type": "code",
   "execution_count": 2,
   "metadata": {},
   "outputs": [],
   "source": [
    "from Acquire.Client import Service"
   ]
  },
  {
   "cell_type": "code",
   "execution_count": 3,
   "metadata": {},
   "outputs": [
    {
     "ename": "ServiceError",
     "evalue": "Cannot extract service info for 'http://fn.acquire-aaai.com:8080/t/accounting' from '{'status': 0, 'message': 'Success', 'service_info': {'uid': 'ee005e09-c312-44be-bcce-08ac158a1234', 'service_type': 'accounting', 'service_url': 'http://fn.acquire-aaai.com:8080/t/accounting', 'public_certificate': {'bytes': 'LS0tLS1CRUdJTiBQVUJMSUMgS0VZLS0tLS0KTUlJQklqQU5CZ2txaGtpRzl3MEJBUUVGQUFPQ0FROEFNSUlCQ2dLQ0FRRUF2SlNpUE9iSTM4K1VJa3JmQ0Q5bwpVd0lFczk0Q1dTYitUSFlETmZGU3pZNmIrUVJCTXNRU1VSOTlDbzlTTUN2eitoMmdxVUZBQzhLZHBjNnhBV0x3CmZVUmpOVkgwbUdmbjhWVGNKUEtHOU5RZFgwWnNybVdLTmthZmFrblFWSEdSWUdHMklkN2oxekMwTzIzdTBtRmEKZjM5MnducXByTVVUUjFWZEZlNjZOcmdOcjMwcFpVSTBHWDBGN09IZEo0RDVmU05VeHYvdXlOV2RmaGVtTG9BLwo0UmMxOWZWYWx5RVhXcHNNb1NSN3dlNlRndmxsN0R4Zys0Q1FmSWNjUEl6Yko3RkVOckQ4cHcwa2oydFQ4dE1qCjE1cmZLM1pxSU9LUEVVSU5uT25ISmF0Z2lHWStqNXNuSTJhK2xWejhpR2xBZzZFSTFXUGNLU0RXVDREOVhZYm4Kd3dJREFRQUIKLS0tLS1FTkQgUFVCTElDIEtFWS0tLS0tCg=='}, 'public_key': {'bytes': 'LS0tLS1CRUdJTiBQVUJMSUMgS0VZLS0tLS0KTUlJQklqQU5CZ2txaGtpRzl3MEJBUUVGQUFPQ0FROEFNSUlCQ2dLQ0FRRUF4QkpHT0JxTkZBTFZMK1daaHJlMwp3V1dZT0JXSFhTcGM3d2ZrWngvejlicDJKQTE2cVQ2Z2RoRkFmYkxQZE5EaDZKUWFqeWpsT296NDlRcldJZERRCnVZODZ2bHdkNTNnblltb1FqKzFxS1FzTUFFbmozZ1lGUXQ5MVJ4YWxvek1DcVB1NG8weWNWZVZNUXFudEdjaXMKN1pESDVqY3M2UVRlM2xRWmhjbCtrZVlRVnd5TTJmQlpnYWRzajNDVnVZSGdwZ0QyRGlQWWgranVITEFrd0dZYQp0NFhxSnhnTURVSXpkV1N5SVF6VHpVUUl4Y3ZTMTVYL0MwUnduV01nVGlzWUoxNUJkbmFpZSs0VEVScFA0SjE5Ck5xTTRHWi90M2hFUWVaTWJCcTRqZDlNNUJBYzF4VHV4YVJyYW5lYWU0ZU1VR2FFdm43dmwrWUpYQk1BdHBCc2wKYVFJREFRQUIKLS0tLS1FTkQgUFVCTElDIEtFWS0tLS0tCg=='}, 'last_certificate': {'bytes': 'LS0tLS1CRUdJTiBQVUJMSUMgS0VZLS0tLS0KTUlJQklqQU5CZ2txaGtpRzl3MEJBUUVGQUFPQ0FROEFNSUlCQ2dLQ0FRRUF0RDhtYlE2clZIOHJVRk1ORWpaYQpGMkMyanJ6MmhNMDM1MXYrZlZ4aVNiajlETEF2QWJzRm5ra1ZiN0ltS1p4Vmp4UU04aDdSNjBESmlaSjhDRTFHClA0RENVQnRyUjVJNDVVdUhHWWxUZTYzM2F1cEpUN2pqK1JEcVI4ZnlPQW5yOENUSHU2bTZsNGcydXFFa08ydHYKbmgxdG9VRklaMGNDSTdCVitJWGNyTXNsTjU1bjVPbEExZkx0TlFib2hzeFl2OW96UjM2WVNYOUpFdTEvNXRYegp2VDU5Y2tMOXlpSmFXdG9WUlNKS0ZwYnRPTEN5djU4UDNoTGhiMm1xdE9iZk1DalhpbkRQQm9TYS9RKzJkZm1VCkg5M01idEJ2WjdORTRZbExGRmlUbkQ3U0tPLzZHUHRvZjg4WjVZamhYWGRWZ2lUVThhRXluS0JiZjAxbysxVEwKU1FJREFRQUIKLS0tLS1FTkQgUFVCTElDIEtFWS0tLS0tCg=='}, 'last_key_update': '2019-02-11T19:45:22.431299', 'key_update_interval': 604800.0, 'service_user_name': 'accounting_principal', 'service_user_uid': 'dc598e7d-26d3-4317-97c9-817d0e957a43'}}': Cannot verify that the return data for service 'http://fn.acquire-aaai.com:8080/t/accounting' has not been tampered with - the signature is incorrect: Error = 'public_signature'",
     "output_type": "error",
     "traceback": [
      "\u001b[0;31m---------------------------------------------------------------------------\u001b[0m",
      "\u001b[0;31mKeyError\u001b[0m                                  Traceback (most recent call last)",
      "\u001b[0;32m~/Work/acquire/source/Acquire/Service/_service.py\u001b[0m in \u001b[0;36mfrom_data\u001b[0;34m(data, password, verify_data)\u001b[0m\n\u001b[1;32m    961\u001b[0m             \u001b[0;32mtry\u001b[0m\u001b[0;34m:\u001b[0m\u001b[0;34m\u001b[0m\u001b[0m\n\u001b[0;32m--> 962\u001b[0;31m                 \u001b[0msig\u001b[0m \u001b[0;34m=\u001b[0m \u001b[0m_string_to_bytes\u001b[0m\u001b[0;34m(\u001b[0m\u001b[0mdata\u001b[0m\u001b[0;34m[\u001b[0m\u001b[0;34m\"public_signature\"\u001b[0m\u001b[0;34m]\u001b[0m\u001b[0;34m)\u001b[0m\u001b[0;34m\u001b[0m\u001b[0m\n\u001b[0m\u001b[1;32m    963\u001b[0m                 \u001b[0mv\u001b[0m \u001b[0;34m=\u001b[0m \u001b[0mservice\u001b[0m\u001b[0;34m.\u001b[0m\u001b[0m_validation_string\u001b[0m\u001b[0;34m(\u001b[0m\u001b[0;34m)\u001b[0m\u001b[0;34m\u001b[0m\u001b[0m\n",
      "\u001b[0;31mKeyError\u001b[0m: 'public_signature'",
      "\nDuring handling of the above exception, another exception occurred:\n",
      "\u001b[0;31mSignatureVerificationError\u001b[0m                Traceback (most recent call last)",
      "\u001b[0;32m~/Work/acquire/source/Acquire/Service/_get_services.py\u001b[0m in \u001b[0;36mget_remote_service_info\u001b[0;34m(service_url)\u001b[0m\n\u001b[1;32m     90\u001b[0m         return _Service.from_data(response[\"service_info\"],\n\u001b[0;32m---> 91\u001b[0;31m                                   verify_data=True)\n\u001b[0m\u001b[1;32m     92\u001b[0m     \u001b[0;32mexcept\u001b[0m \u001b[0mException\u001b[0m \u001b[0;32mas\u001b[0m \u001b[0me\u001b[0m\u001b[0;34m:\u001b[0m\u001b[0;34m\u001b[0m\u001b[0m\n",
      "\u001b[0;32m~/Work/acquire/source/Acquire/Service/_service.py\u001b[0m in \u001b[0;36mfrom_data\u001b[0;34m(data, password, verify_data)\u001b[0m\n\u001b[1;32m    972\u001b[0m                     \u001b[0;34m\"incorrect: Error = %s\"\u001b[0m \u001b[0;34m%\u001b[0m\u001b[0;34m\u001b[0m\u001b[0m\n\u001b[0;32m--> 973\u001b[0;31m                     (service.canonical_url(), str(e)))\n\u001b[0m\u001b[1;32m    974\u001b[0m \u001b[0;34m\u001b[0m\u001b[0m\n",
      "\u001b[0;31mSignatureVerificationError\u001b[0m: Cannot verify that the return data for service 'http://fn.acquire-aaai.com:8080/t/accounting' has not been tampered with - the signature is incorrect: Error = 'public_signature'",
      "\nDuring handling of the above exception, another exception occurred:\n",
      "\u001b[0;31mServiceError\u001b[0m                              Traceback (most recent call last)",
      "\u001b[0;32m<ipython-input-3-e63a76a17c9f>\u001b[0m in \u001b[0;36m<module>\u001b[0;34m()\u001b[0m\n\u001b[0;32m----> 1\u001b[0;31m \u001b[0mservice\u001b[0m \u001b[0;34m=\u001b[0m \u001b[0mService\u001b[0m\u001b[0;34m(\u001b[0m\u001b[0;34m\"http://fn.acquire-aaai.com:8080/t/accounting\"\u001b[0m\u001b[0;34m)\u001b[0m\u001b[0;34m\u001b[0m\u001b[0m\n\u001b[0m",
      "\u001b[0;32m~/Work/acquire/source/Acquire/Client/_service.py\u001b[0m in \u001b[0;36m__init__\u001b[0;34m(self, service_url)\u001b[0m\n\u001b[1;32m     52\u001b[0m             \u001b[0m_cache_service_lookup\u001b[0m\u001b[0;34m.\u001b[0m\u001b[0mclear\u001b[0m\u001b[0;34m(\u001b[0m\u001b[0;34m)\u001b[0m\u001b[0;34m\u001b[0m\u001b[0m\n\u001b[1;32m     53\u001b[0m             \u001b[0mself\u001b[0m\u001b[0;34m.\u001b[0m\u001b[0m_failed\u001b[0m \u001b[0;34m=\u001b[0m \u001b[0;32mTrue\u001b[0m\u001b[0;34m\u001b[0m\u001b[0m\n\u001b[0;32m---> 54\u001b[0;31m             \u001b[0;32mraise\u001b[0m \u001b[0me\u001b[0m\u001b[0;34m\u001b[0m\u001b[0m\n\u001b[0m\u001b[1;32m     55\u001b[0m \u001b[0;34m\u001b[0m\u001b[0m\n\u001b[1;32m     56\u001b[0m     \u001b[0;32mdef\u001b[0m \u001b[0m_fail\u001b[0m\u001b[0;34m(\u001b[0m\u001b[0mself\u001b[0m\u001b[0;34m)\u001b[0m\u001b[0;34m:\u001b[0m\u001b[0;34m\u001b[0m\u001b[0m\n",
      "\u001b[0;32m~/Work/acquire/source/Acquire/Client/_service.py\u001b[0m in \u001b[0;36m__init__\u001b[0;34m(self, service_url)\u001b[0m\n\u001b[1;32m     44\u001b[0m         \"\"\"\n\u001b[1;32m     45\u001b[0m         \u001b[0;32mtry\u001b[0m\u001b[0;34m:\u001b[0m\u001b[0;34m\u001b[0m\u001b[0m\n\u001b[0;32m---> 46\u001b[0;31m             \u001b[0mservice\u001b[0m \u001b[0;34m=\u001b[0m \u001b[0m_get_remote_service\u001b[0m\u001b[0;34m(\u001b[0m\u001b[0mservice_url\u001b[0m\u001b[0;34m)\u001b[0m\u001b[0;34m\u001b[0m\u001b[0m\n\u001b[0m\u001b[1;32m     47\u001b[0m \u001b[0;34m\u001b[0m\u001b[0m\n\u001b[1;32m     48\u001b[0m             \u001b[0;32mfrom\u001b[0m \u001b[0mcopy\u001b[0m \u001b[0;32mimport\u001b[0m \u001b[0mcopy\u001b[0m \u001b[0;32mas\u001b[0m \u001b[0m_copy\u001b[0m\u001b[0;34m\u001b[0m\u001b[0m\n",
      "\u001b[0;32m~/miniconda3/lib/python3.6/site-packages/cachetools/__init__.py\u001b[0m in \u001b[0;36mwrapper\u001b[0;34m(*args, **kwargs)\u001b[0m\n\u001b[1;32m     44\u001b[0m                 \u001b[0;32mexcept\u001b[0m \u001b[0mKeyError\u001b[0m\u001b[0;34m:\u001b[0m\u001b[0;34m\u001b[0m\u001b[0m\n\u001b[1;32m     45\u001b[0m                     \u001b[0;32mpass\u001b[0m  \u001b[0;31m# key not found\u001b[0m\u001b[0;34m\u001b[0m\u001b[0m\n\u001b[0;32m---> 46\u001b[0;31m                 \u001b[0mv\u001b[0m \u001b[0;34m=\u001b[0m \u001b[0mfunc\u001b[0m\u001b[0;34m(\u001b[0m\u001b[0;34m*\u001b[0m\u001b[0margs\u001b[0m\u001b[0;34m,\u001b[0m \u001b[0;34m**\u001b[0m\u001b[0mkwargs\u001b[0m\u001b[0;34m)\u001b[0m\u001b[0;34m\u001b[0m\u001b[0m\n\u001b[0m\u001b[1;32m     47\u001b[0m                 \u001b[0;32mtry\u001b[0m\u001b[0;34m:\u001b[0m\u001b[0;34m\u001b[0m\u001b[0m\n\u001b[1;32m     48\u001b[0m                     \u001b[0mcache\u001b[0m\u001b[0;34m[\u001b[0m\u001b[0mk\u001b[0m\u001b[0;34m]\u001b[0m \u001b[0;34m=\u001b[0m \u001b[0mv\u001b[0m\u001b[0;34m\u001b[0m\u001b[0m\n",
      "\u001b[0;32m~/Work/acquire/source/Acquire/Client/_service.py\u001b[0m in \u001b[0;36m_get_remote_service\u001b[0;34m(service_url)\u001b[0m\n\u001b[1;32m     20\u001b[0m     \"\"\"\n\u001b[1;32m     21\u001b[0m     \u001b[0;32mfrom\u001b[0m \u001b[0mAcquire\u001b[0m\u001b[0;34m.\u001b[0m\u001b[0mClient\u001b[0m \u001b[0;32mimport\u001b[0m \u001b[0mWallet\u001b[0m \u001b[0;32mas\u001b[0m \u001b[0m_Wallet\u001b[0m\u001b[0;34m\u001b[0m\u001b[0m\n\u001b[0;32m---> 22\u001b[0;31m     \u001b[0;32mreturn\u001b[0m \u001b[0m_Wallet\u001b[0m\u001b[0;34m.\u001b[0m\u001b[0mget_service\u001b[0m\u001b[0;34m(\u001b[0m\u001b[0mservice_url\u001b[0m\u001b[0;34m)\u001b[0m\u001b[0;34m\u001b[0m\u001b[0m\n\u001b[0m\u001b[1;32m     23\u001b[0m \u001b[0;34m\u001b[0m\u001b[0m\n\u001b[1;32m     24\u001b[0m \u001b[0;34m\u001b[0m\u001b[0m\n",
      "\u001b[0;32m~/Work/acquire/source/Acquire/Client/_wallet.py\u001b[0m in \u001b[0;36mget_service\u001b[0;34m(service_url)\u001b[0m\n\u001b[1;32m    367\u001b[0m                 \u001b[0m_get_remote_service_info\u001b[0m\u001b[0;34m\u001b[0m\u001b[0m\n\u001b[1;32m    368\u001b[0m \u001b[0;34m\u001b[0m\u001b[0m\n\u001b[0;32m--> 369\u001b[0;31m             \u001b[0mservice\u001b[0m \u001b[0;34m=\u001b[0m \u001b[0m_get_remote_service_info\u001b[0m\u001b[0;34m(\u001b[0m\u001b[0mservice_url\u001b[0m\u001b[0;34m)\u001b[0m\u001b[0;34m\u001b[0m\u001b[0m\n\u001b[0m\u001b[1;32m    370\u001b[0m             \u001b[0;32mreturn\u001b[0m \u001b[0mWallet\u001b[0m\u001b[0;34m.\u001b[0m\u001b[0madd_service\u001b[0m\u001b[0;34m(\u001b[0m\u001b[0mservice\u001b[0m\u001b[0;34m)\u001b[0m\u001b[0;34m\u001b[0m\u001b[0m\n\u001b[1;32m    371\u001b[0m \u001b[0;34m\u001b[0m\u001b[0m\n",
      "\u001b[0;32m~/miniconda3/lib/python3.6/site-packages/cachetools/__init__.py\u001b[0m in \u001b[0;36mwrapper\u001b[0;34m(*args, **kwargs)\u001b[0m\n\u001b[1;32m     44\u001b[0m                 \u001b[0;32mexcept\u001b[0m \u001b[0mKeyError\u001b[0m\u001b[0;34m:\u001b[0m\u001b[0;34m\u001b[0m\u001b[0m\n\u001b[1;32m     45\u001b[0m                     \u001b[0;32mpass\u001b[0m  \u001b[0;31m# key not found\u001b[0m\u001b[0;34m\u001b[0m\u001b[0m\n\u001b[0;32m---> 46\u001b[0;31m                 \u001b[0mv\u001b[0m \u001b[0;34m=\u001b[0m \u001b[0mfunc\u001b[0m\u001b[0;34m(\u001b[0m\u001b[0;34m*\u001b[0m\u001b[0margs\u001b[0m\u001b[0;34m,\u001b[0m \u001b[0;34m**\u001b[0m\u001b[0mkwargs\u001b[0m\u001b[0;34m)\u001b[0m\u001b[0;34m\u001b[0m\u001b[0m\n\u001b[0m\u001b[1;32m     47\u001b[0m                 \u001b[0;32mtry\u001b[0m\u001b[0;34m:\u001b[0m\u001b[0;34m\u001b[0m\u001b[0m\n\u001b[1;32m     48\u001b[0m                     \u001b[0mcache\u001b[0m\u001b[0;34m[\u001b[0m\u001b[0mk\u001b[0m\u001b[0;34m]\u001b[0m \u001b[0;34m=\u001b[0m \u001b[0mv\u001b[0m\u001b[0;34m\u001b[0m\u001b[0m\n",
      "\u001b[0;32m~/Work/acquire/source/Acquire/Service/_get_services.py\u001b[0m in \u001b[0;36mget_remote_service_info\u001b[0;34m(service_url)\u001b[0m\n\u001b[1;32m     93\u001b[0m         raise ServiceError(\n\u001b[1;32m     94\u001b[0m                 \u001b[0;34m\"Cannot extract service info for '%s' from '%s': %s\"\u001b[0m \u001b[0;34m%\u001b[0m\u001b[0;34m\u001b[0m\u001b[0m\n\u001b[0;32m---> 95\u001b[0;31m                 (service_url, str(response), str(e)))\n\u001b[0m\u001b[1;32m     96\u001b[0m \u001b[0;34m\u001b[0m\u001b[0m\n\u001b[1;32m     97\u001b[0m \u001b[0;34m\u001b[0m\u001b[0m\n",
      "\u001b[0;31mServiceError\u001b[0m: Cannot extract service info for 'http://fn.acquire-aaai.com:8080/t/accounting' from '{'status': 0, 'message': 'Success', 'service_info': {'uid': 'ee005e09-c312-44be-bcce-08ac158a1234', 'service_type': 'accounting', 'service_url': 'http://fn.acquire-aaai.com:8080/t/accounting', 'public_certificate': {'bytes': 'LS0tLS1CRUdJTiBQVUJMSUMgS0VZLS0tLS0KTUlJQklqQU5CZ2txaGtpRzl3MEJBUUVGQUFPQ0FROEFNSUlCQ2dLQ0FRRUF2SlNpUE9iSTM4K1VJa3JmQ0Q5bwpVd0lFczk0Q1dTYitUSFlETmZGU3pZNmIrUVJCTXNRU1VSOTlDbzlTTUN2eitoMmdxVUZBQzhLZHBjNnhBV0x3CmZVUmpOVkgwbUdmbjhWVGNKUEtHOU5RZFgwWnNybVdLTmthZmFrblFWSEdSWUdHMklkN2oxekMwTzIzdTBtRmEKZjM5MnducXByTVVUUjFWZEZlNjZOcmdOcjMwcFpVSTBHWDBGN09IZEo0RDVmU05VeHYvdXlOV2RmaGVtTG9BLwo0UmMxOWZWYWx5RVhXcHNNb1NSN3dlNlRndmxsN0R4Zys0Q1FmSWNjUEl6Yko3RkVOckQ4cHcwa2oydFQ4dE1qCjE1cmZLM1pxSU9LUEVVSU5uT25ISmF0Z2lHWStqNXNuSTJhK2xWejhpR2xBZzZFSTFXUGNLU0RXVDREOVhZYm4Kd3dJREFRQUIKLS0tLS1FTkQgUFVCTElDIEtFWS0tLS0tCg=='}, 'public_key': {'bytes': 'LS0tLS1CRUdJTiBQVUJMSUMgS0VZLS0tLS0KTUlJQklqQU5CZ2txaGtpRzl3MEJBUUVGQUFPQ0FROEFNSUlCQ2dLQ0FRRUF4QkpHT0JxTkZBTFZMK1daaHJlMwp3V1dZT0JXSFhTcGM3d2ZrWngvejlicDJKQTE2cVQ2Z2RoRkFmYkxQZE5EaDZKUWFqeWpsT296NDlRcldJZERRCnVZODZ2bHdkNTNnblltb1FqKzFxS1FzTUFFbmozZ1lGUXQ5MVJ4YWxvek1DcVB1NG8weWNWZVZNUXFudEdjaXMKN1pESDVqY3M2UVRlM2xRWmhjbCtrZVlRVnd5TTJmQlpnYWRzajNDVnVZSGdwZ0QyRGlQWWgranVITEFrd0dZYQp0NFhxSnhnTURVSXpkV1N5SVF6VHpVUUl4Y3ZTMTVYL0MwUnduV01nVGlzWUoxNUJkbmFpZSs0VEVScFA0SjE5Ck5xTTRHWi90M2hFUWVaTWJCcTRqZDlNNUJBYzF4VHV4YVJyYW5lYWU0ZU1VR2FFdm43dmwrWUpYQk1BdHBCc2wKYVFJREFRQUIKLS0tLS1FTkQgUFVCTElDIEtFWS0tLS0tCg=='}, 'last_certificate': {'bytes': 'LS0tLS1CRUdJTiBQVUJMSUMgS0VZLS0tLS0KTUlJQklqQU5CZ2txaGtpRzl3MEJBUUVGQUFPQ0FROEFNSUlCQ2dLQ0FRRUF0RDhtYlE2clZIOHJVRk1ORWpaYQpGMkMyanJ6MmhNMDM1MXYrZlZ4aVNiajlETEF2QWJzRm5ra1ZiN0ltS1p4Vmp4UU04aDdSNjBESmlaSjhDRTFHClA0RENVQnRyUjVJNDVVdUhHWWxUZTYzM2F1cEpUN2pqK1JEcVI4ZnlPQW5yOENUSHU2bTZsNGcydXFFa08ydHYKbmgxdG9VRklaMGNDSTdCVitJWGNyTXNsTjU1bjVPbEExZkx0TlFib2hzeFl2OW96UjM2WVNYOUpFdTEvNXRYegp2VDU5Y2tMOXlpSmFXdG9WUlNKS0ZwYnRPTEN5djU4UDNoTGhiMm1xdE9iZk1DalhpbkRQQm9TYS9RKzJkZm1VCkg5M01idEJ2WjdORTRZbExGRmlUbkQ3U0tPLzZHUHRvZjg4WjVZamhYWGRWZ2lUVThhRXluS0JiZjAxbysxVEwKU1FJREFRQUIKLS0tLS1FTkQgUFVCTElDIEtFWS0tLS0tCg=='}, 'last_key_update': '2019-02-11T19:45:22.431299', 'key_update_interval': 604800.0, 'service_user_name': 'accounting_principal', 'service_user_uid': 'dc598e7d-26d3-4317-97c9-817d0e957a43'}}': Cannot verify that the return data for service 'http://fn.acquire-aaai.com:8080/t/accounting' has not been tampered with - the signature is incorrect: Error = 'public_signature'"
     ]
    }
   ],
   "source": [
    "service = Service(\"http://fn.acquire-aaai.com:8080/t/accounting\")"
   ]
  },
  {
   "cell_type": "code",
   "execution_count": null,
   "metadata": {},
   "outputs": [],
   "source": [
    "service"
   ]
  },
  {
   "cell_type": "code",
   "execution_count": null,
   "metadata": {},
   "outputs": [],
   "source": [
    "from Acquire.Client import Wallet"
   ]
  },
  {
   "cell_type": "code",
   "execution_count": null,
   "metadata": {},
   "outputs": [],
   "source": [
    "Wallet.get_services()"
   ]
  },
  {
   "cell_type": "code",
   "execution_count": null,
   "metadata": {},
   "outputs": [],
   "source": [
    "Wallet.remove_all_services()"
   ]
  },
  {
   "cell_type": "code",
   "execution_count": null,
   "metadata": {},
   "outputs": [],
   "source": [
    "Wallet.get_services()"
   ]
  },
  {
   "cell_type": "code",
   "execution_count": null,
   "metadata": {},
   "outputs": [],
   "source": [
    "user.logout()"
   ]
  },
  {
   "cell_type": "code",
   "execution_count": null,
   "metadata": {},
   "outputs": [],
   "source": []
  }
 ],
 "metadata": {
  "kernelspec": {
   "display_name": "Python 3",
   "language": "python",
   "name": "python3"
  },
  "language_info": {
   "codemirror_mode": {
    "name": "ipython",
    "version": 3
   },
   "file_extension": ".py",
   "mimetype": "text/x-python",
   "name": "python",
   "nbconvert_exporter": "python",
   "pygments_lexer": "ipython3",
   "version": "3.6.6"
  }
 },
 "nbformat": 4,
 "nbformat_minor": 2
}
