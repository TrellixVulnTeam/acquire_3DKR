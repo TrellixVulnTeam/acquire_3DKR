{
 "cells": [
  {
   "cell_type": "code",
   "execution_count": 1,
   "metadata": {},
   "outputs": [],
   "source": [
    "import Acquire.Client\n",
    "import Acquire.Accounting"
   ]
  },
  {
   "cell_type": "code",
   "execution_count": 2,
   "metadata": {},
   "outputs": [],
   "source": [
    "user = Acquire.Client.User(\"chryswoods\")"
   ]
  },
  {
   "cell_type": "code",
   "execution_count": 3,
   "metadata": {
    "scrolled": true
   },
   "outputs": [
    {
     "name": "stdout",
     "output_type": "stream",
     "text": [
      "http://fn.acquire-aaai.com:8080/t/identity/s?id=c7836024\n"
     ]
    },
    {
     "data": {
      "image/png": "[encoded data removed]",
      "text/plain": [
       "<qrcode.image.pil.PilImage at 0x10f715dd8>"
      ]
     },
     "execution_count": 3,
     "metadata": {},
     "output_type": "execute_result"
    }
   ],
   "source": [
    "(url, qrcode) = user.request_login()\n",
    "print(url)\n",
    "qrcode"
   ]
  },
  {
   "cell_type": "code",
   "execution_count": 4,
   "metadata": {},
   "outputs": [
    {
     "data": {
      "text/plain": [
       "True"
      ]
     },
     "execution_count": 4,
     "metadata": {},
     "output_type": "execute_result"
    }
   ],
   "source": [
    "user.wait_for_login()\n",
    "user.is_logged_in()"
   ]
  },
  {
   "cell_type": "code",
   "execution_count": 5,
   "metadata": {},
   "outputs": [
    {
     "data": {
      "text/plain": [
       "{'status': 0,\n",
       " 'message': 'Success',\n",
       " 'transaction_records': [{'credit_note': {'account_uid': '5e881469-d772-4fd6-ae51-9123e5b68a38',\n",
       "    'debit_account_uid': '6960f1e1-be98-40a6-8467-0a89363ebb09',\n",
       "    'uid': '2019-02-24T19:38:53.809960/77503114',\n",
       "    'debit_note_uid': '2019-02-24T19:38:53.760397/e210469f',\n",
       "    'datetime': '2019-02-24T19:38:53.809960',\n",
       "    'value': '5.000000',\n",
       "    'is_provisional': False},\n",
       "   'debit_note': {'transaction': {'value': '5.000000',\n",
       "     'description': 'Deposit on 2019-02-24 19:38:52.311793'},\n",
       "    'account_uid': '6960f1e1-be98-40a6-8467-0a89363ebb09',\n",
       "    'authorisation': {'user_uid': 'e2e31e35-025c-4a4c-8a7b-65da94e722d6',\n",
       "     'session_uid': 'c7836024-e08d-4f3c-87a3-2d107e79f97a',\n",
       "     'identity_url': 'http://fn.acquire-aaai.com:8080/t/identity',\n",
       "     'identity_uid': 'fdac3ab5-3527-46f8-8432-c7ec8f586fc6',\n",
       "     'auth_datetime': '2019-02-24T19:38:37.051314',\n",
       "     'signature': 'njHAQTnMFsEGn0ey1osf3YKKvPIxZR5Wg2OohEPpwEbFIfplXXEyBsCsft9Fm/2qzGaXz388BtON+AtVzgRAmPohHqogTIvw2wVZWh7jdZT8wJjkeXzw+34Te8dlxFyPWg0dyiV5Gd1twSMNdaQu0n2I55gpe9ulAcsTlVNJAxI791s8ZfEqr2BKpgY8+PtG91JzMSPlyJORlNf130951tEbk4asI6Fa9cCW0kfEFt4AeumKIc7eHk/tF/zTGYar9BiZt+nafS8XJtUN4JAH/gCu/RJDlFDlmbFvEZSJS97lkni0yKP7H6Td8gzCUSDh7qBKQdTXik47J1o9v2Ppvw=='},\n",
       "    'is_provisional': False,\n",
       "    'datetime': '2019-02-24T19:38:53.760397',\n",
       "    'uid': '2019-02-24T19:38:53.760397/e210469f'},\n",
       "   'transaction_state': 'DR'}],\n",
       " 'invoice_user': 'e2e31e35-025c-4a4c-8a7b-65da94e722d6',\n",
       " 'invoice_value': '-63.500000'}"
      ]
     },
     "execution_count": 5,
     "metadata": {},
     "output_type": "execute_result"
    }
   ],
   "source": [
    "Acquire.Client.deposit(user=user, value=5.0)"
   ]
  },
  {
   "cell_type": "code",
   "execution_count": 6,
   "metadata": {},
   "outputs": [],
   "source": [
    "accounts = Acquire.Client.get_accounts(user)"
   ]
  },
  {
   "cell_type": "code",
   "execution_count": 7,
   "metadata": {},
   "outputs": [],
   "source": [
    "assert(len(accounts) > 1)"
   ]
  },
  {
   "cell_type": "code",
   "execution_count": 8,
   "metadata": {},
   "outputs": [
    {
     "name": "stdout",
     "output_type": "stream",
     "text": [
      "   0: Account(name='billing', uid=6960f1e1-be98-40a6-8467-0a89363ebb09) - balance = -63.500000\n",
      "   1: Account(name='deposits', uid=5e881469-d772-4fd6-ae51-9123e5b68a38) - balance = 63.500000\n",
      "   2: Account(name='main account', uid=1c0a4fd0-61a7-4290-8936-453d035899ad) - balance = 0.000000\n"
     ]
    }
   ],
   "source": [
    "for (i,account) in enumerate(accounts):\n",
    "    print(\"%4d: %s - balance = %s\" % (i, str(account), account.balance()))"
   ]
  },
  {
   "cell_type": "code",
   "execution_count": 9,
   "metadata": {},
   "outputs": [
    {
     "name": "stdout",
     "output_type": "stream",
     "text": [
      "Account(name='billing', uid=6960f1e1-be98-40a6-8467-0a89363ebb09) Account(name='deposits', uid=5e881469-d772-4fd6-ae51-9123e5b68a38)\n"
     ]
    }
   ],
   "source": [
    "account0 = accounts[0]\n",
    "account1 = accounts[1]\n",
    "print(account0, account1)"
   ]
  },
  {
   "cell_type": "code",
   "execution_count": 10,
   "metadata": {},
   "outputs": [],
   "source": [
    "transaction = Acquire.Accounting.Transaction(3.5, \"test transaction\")"
   ]
  },
  {
   "cell_type": "code",
   "execution_count": 11,
   "metadata": {},
   "outputs": [],
   "source": [
    "record = account0.perform(transaction, account1)"
   ]
  },
  {
   "cell_type": "code",
   "execution_count": 12,
   "metadata": {},
   "outputs": [
    {
     "name": "stdout",
     "output_type": "stream",
     "text": [
      "[{'credit_note': {'account_uid': '5e881469-d772-4fd6-ae51-9123e5b68a38', 'debit_account_uid': '6960f1e1-be98-40a6-8467-0a89363ebb09', 'uid': '2019-02-24T19:38:57.548741/f9aa9603', 'debit_note_uid': '2019-02-24T19:38:57.502093/823069be', 'datetime': '2019-02-24T19:38:57.548741', 'value': '3.500000', 'is_provisional': False}, 'debit_note': {'transaction': {'value': '3.500000', 'description': 'test transaction'}, 'account_uid': '6960f1e1-be98-40a6-8467-0a89363ebb09', 'authorisation': {'user_uid': 'e2e31e35-025c-4a4c-8a7b-65da94e722d6', 'session_uid': 'c7836024-e08d-4f3c-87a3-2d107e79f97a', 'identity_url': 'http://fn.acquire-aaai.com:8080/t/identity', 'identity_uid': 'fdac3ab5-3527-46f8-8432-c7ec8f586fc6', 'auth_datetime': '2019-02-24T19:38:45.276500', 'signature': 'UoXqU9fgGN47eDcUe12xtqzM4jrCrXZ4KFc0aC+gcdBtY1NR9nN/PhBjXzCPYzZN6UUT7qVi1yPEafKyl7PYydDyIPJNNIf31hn2NAGM+Fy9OrgEwd1IXq6aYDlSrq3vebUiZ1Zo4SKIFpTkihxR1g35NgzsNgPKVXiAoMervrXvi5ooNhGO146NlPuucDVOMUorD0TPcnZM+xIvjwXJtQRcx/wqzvqMWUtWUXDSHcULJimtq6her3gr3xrBhZidbpbR7xANDVfwkdjKRjiDWMV2dg+FIiNohgrJeWULoEYvDL93sKJN3m9czndv+xmWxHFzOTq7/X9Nq1I3VJHHFg=='}, 'is_provisional': False, 'datetime': '2019-02-24T19:38:57.502093', 'uid': '2019-02-24T19:38:57.502093/823069be'}, 'transaction_state': 'DR'}]\n"
     ]
    }
   ],
   "source": [
    "print(record)"
   ]
  },
  {
   "cell_type": "code",
   "execution_count": 13,
   "metadata": {},
   "outputs": [
    {
     "name": "stdout",
     "output_type": "stream",
     "text": [
      "   0: Account(name='billing', uid=6960f1e1-be98-40a6-8467-0a89363ebb09) - balance = -63.500000\n",
      "   1: Account(name='deposits', uid=5e881469-d772-4fd6-ae51-9123e5b68a38) - balance = 63.500000\n",
      "   2: Account(name='main account', uid=1c0a4fd0-61a7-4290-8936-453d035899ad) - balance = 0.000000\n"
     ]
    }
   ],
   "source": [
    "for (i,account) in enumerate(accounts):\n",
    "    print(\"%4d: %s - balance = %s\" % (i, str(account), account.balance()))"
   ]
  },
  {
   "cell_type": "code",
   "execution_count": 14,
   "metadata": {},
   "outputs": [
    {
     "data": {
      "text/plain": [
       "{'status': 0, 'message': 'Successfully logged out'}"
      ]
     },
     "execution_count": 14,
     "metadata": {},
     "output_type": "execute_result"
    }
   ],
   "source": [
    "user.logout()"
   ]
  },
  {
   "cell_type": "code",
   "execution_count": null,
   "metadata": {},
   "outputs": [],
   "source": []
  }
 ],
 "metadata": {
  "kernelspec": {
   "display_name": "Python 3",
   "language": "python",
   "name": "python3"
  },
  "language_info": {
   "codemirror_mode": {
    "name": "ipython",
    "version": 3
   },
   "file_extension": ".py",
   "mimetype": "text/x-python",
   "name": "python",
   "nbconvert_exporter": "python",
   "pygments_lexer": "ipython3",
   "version": "3.6.6"
  }
 },
 "nbformat": 4,
 "nbformat_minor": 2
}
