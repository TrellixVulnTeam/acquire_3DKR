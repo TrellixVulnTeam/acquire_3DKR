{
 "cells": [
  {
   "cell_type": "code",
   "execution_count": 1,
   "metadata": {},
   "outputs": [],
   "source": [
    "import Acquire.Client\n",
    "import Acquire.Accounting"
   ]
  },
  {
   "cell_type": "code",
   "execution_count": 2,
   "metadata": {},
   "outputs": [],
   "source": [
    "user = Acquire.Client.User(\"chryswoods\")"
   ]
  },
  {
   "cell_type": "code",
   "execution_count": 3,
   "metadata": {
    "scrolled": true
   },
   "outputs": [
    {
     "name": "stdout",
     "output_type": "stream",
     "text": [
      "http://fn.acquire-aaai.com:8080/t/identity/s?id=31df3217\n"
     ]
    },
    {
     "data": {
      "image/png": "[encoded data removed]",
      "text/plain": [
       "<qrcode.image.pil.PilImage at 0x109728f60>"
      ]
     },
     "execution_count": 3,
     "metadata": {},
     "output_type": "execute_result"
    }
   ],
   "source": [
    "(url, qrcode) = user.request_login()\n",
    "print(url)\n",
    "qrcode"
   ]
  },
  {
   "cell_type": "code",
   "execution_count": 4,
   "metadata": {},
   "outputs": [
    {
     "data": {
      "text/plain": [
       "True"
      ]
     },
     "execution_count": 4,
     "metadata": {},
     "output_type": "execute_result"
    }
   ],
   "source": [
    "user.wait_for_login()\n",
    "user.is_logged_in()"
   ]
  },
  {
   "cell_type": "code",
   "execution_count": 5,
   "metadata": {},
   "outputs": [
    {
     "data": {
      "text/plain": [
       "{'status': 0,\n",
       " 'message': 'Success',\n",
       " 'transaction_records': [{'credit_note': {'account_uid': '5e881469-d772-4fd6-ae51-9123e5b68a38',\n",
       "    'debit_account_uid': '6960f1e1-be98-40a6-8467-0a89363ebb09',\n",
       "    'uid': '2019-02-24T20:50:33.802673/5db47ab7',\n",
       "    'debit_note_uid': '2019-02-24T20:50:33.748106/ddc3fb6c',\n",
       "    'datetime': '2019-02-24T20:50:33.802673',\n",
       "    'value': '5.000000',\n",
       "    'is_provisional': False},\n",
       "   'debit_note': {'transaction': {'value': '5.000000',\n",
       "     'description': 'Deposit on 2019-02-24 20:50:31.975425'},\n",
       "    'account_uid': '6960f1e1-be98-40a6-8467-0a89363ebb09',\n",
       "    'authorisation': {'user_uid': 'e2e31e35-025c-4a4c-8a7b-65da94e722d6',\n",
       "     'session_uid': '31df3217-3888-4b2a-aa27-a1f8a1a7b755',\n",
       "     'identity_url': 'http://fn.acquire-aaai.com:8080/t/identity',\n",
       "     'identity_uid': 'fdac3ab5-3527-46f8-8432-c7ec8f586fc6',\n",
       "     'auth_datetime': '2019-02-24T20:50:16.218343',\n",
       "     'signature': 'VJKPXyA128z56aT5nTZECespst9AfuFbNPXhvymDWedjy2iwiO5HzXjHEqeTwYRiPL3yS7fMjR4DH294sX8uuPFdCoOtAAjEp1WcGdyq95fQjcArIicjCEkEzBzjcn/elj1jEl3YM212gQ/6cG4A0lVvRU+Do1wwkfBMpTHzGtb361dZJaxrnaQiu2jEmTwdn6bWSMUczaF3TSRtNepsTZOFzDfmsN5aTY2U94iQJnb6UcHF3swPeK6dJ/kvldgFdijEA4zCrsFz/usefSS6OowMYLkE2Be4+o9sew8q7JXWivv9VQmSto7jFXm879htO8gHyxL97ETyqOpTj/QhCg=='},\n",
       "    'is_provisional': False,\n",
       "    'datetime': '2019-02-24T20:50:33.748106',\n",
       "    'uid': '2019-02-24T20:50:33.748106/ddc3fb6c'},\n",
       "   'transaction_state': 'DR'}],\n",
       " 'invoice_user': 'e2e31e35-025c-4a4c-8a7b-65da94e722d6',\n",
       " 'invoice_value': '-72.000000'}"
      ]
     },
     "execution_count": 5,
     "metadata": {},
     "output_type": "execute_result"
    }
   ],
   "source": [
    "Acquire.Client.deposit(user=user, value=5.0)"
   ]
  },
  {
   "cell_type": "code",
   "execution_count": 6,
   "metadata": {},
   "outputs": [],
   "source": [
    "accounts = Acquire.Client.get_accounts(user)"
   ]
  },
  {
   "cell_type": "code",
   "execution_count": 7,
   "metadata": {},
   "outputs": [],
   "source": [
    "assert(len(accounts) > 1)"
   ]
  },
  {
   "cell_type": "code",
   "execution_count": 8,
   "metadata": {},
   "outputs": [
    {
     "name": "stdout",
     "output_type": "stream",
     "text": [
      "   0: Account(name='billing', uid=6960f1e1-be98-40a6-8467-0a89363ebb09) - balance = -72.000000\n",
      "   1: Account(name='deposits', uid=5e881469-d772-4fd6-ae51-9123e5b68a38) - balance = 72.000000\n",
      "   2: Account(name='main account', uid=1c0a4fd0-61a7-4290-8936-453d035899ad) - balance = 0.000000\n"
     ]
    }
   ],
   "source": [
    "for (i,account) in enumerate(accounts):\n",
    "    print(\"%4d: %s - balance = %s\" % (i, str(account), account.balance()))"
   ]
  },
  {
   "cell_type": "code",
   "execution_count": 9,
   "metadata": {},
   "outputs": [
    {
     "name": "stdout",
     "output_type": "stream",
     "text": [
      "Account(name='billing', uid=6960f1e1-be98-40a6-8467-0a89363ebb09) Account(name='deposits', uid=5e881469-d772-4fd6-ae51-9123e5b68a38)\n"
     ]
    }
   ],
   "source": [
    "account0 = accounts[0]\n",
    "account1 = accounts[1]\n",
    "print(account0, account1)"
   ]
  },
  {
   "cell_type": "code",
   "execution_count": 10,
   "metadata": {},
   "outputs": [],
   "source": [
    "transaction = Acquire.Accounting.Transaction(3.5, \"test transaction\")"
   ]
  },
  {
   "cell_type": "code",
   "execution_count": 11,
   "metadata": {},
   "outputs": [],
   "source": [
    "record = account0.perform(transaction, account1)"
   ]
  },
  {
   "cell_type": "code",
   "execution_count": 12,
   "metadata": {},
   "outputs": [
    {
     "name": "stdout",
     "output_type": "stream",
     "text": [
      "[{'credit_note': {'account_uid': '5e881469-d772-4fd6-ae51-9123e5b68a38', 'debit_account_uid': '6960f1e1-be98-40a6-8467-0a89363ebb09', 'uid': '2019-02-24T20:50:36.586118/6378c99b', 'debit_note_uid': '2019-02-24T20:50:36.539238/2161d0f3', 'datetime': '2019-02-24T20:50:36.586118', 'value': '3.500000', 'is_provisional': False}, 'debit_note': {'transaction': {'value': '3.500000', 'description': 'test transaction'}, 'account_uid': '6960f1e1-be98-40a6-8467-0a89363ebb09', 'authorisation': {'user_uid': 'e2e31e35-025c-4a4c-8a7b-65da94e722d6', 'session_uid': '31df3217-3888-4b2a-aa27-a1f8a1a7b755', 'identity_url': 'http://fn.acquire-aaai.com:8080/t/identity', 'identity_uid': 'fdac3ab5-3527-46f8-8432-c7ec8f586fc6', 'auth_datetime': '2019-02-24T20:50:24.239057', 'signature': 'G/ieyooXyrG8QxCrWBY8i9t4zgsNe/siVIbraMClJBd9nRc0jdrs1e7yA7Ptj/j1heqoUP+m7FuU/0Frob/5hvYr1xd8sF4cjf40BmlkiO+r0tpeNOUPr8MWP7LT7+bGUA5F43W2lYhmAUvOkVXd57XBDRZX/itbgi0O47Anp6+ToSDbkYBq1hR0AWAEpRkX0CJsA4rVjb4Rptd87hGzXGsfv148ecoKABMcdDYanq35aXWMhGsf09xu7rrfyqsf/EcoSYDYxP1+LpgCI6EIKhB9Rxb0wU9cbZ85Y9jK85rjXaMYFrkS2W9kVJMyWUPFZkbbAX0S5aIPDYf8+pBvRQ=='}, 'is_provisional': False, 'datetime': '2019-02-24T20:50:36.539238', 'uid': '2019-02-24T20:50:36.539238/2161d0f3'}, 'transaction_state': 'DR'}]\n"
     ]
    }
   ],
   "source": [
    "print(record)"
   ]
  },
  {
   "cell_type": "code",
   "execution_count": 13,
   "metadata": {},
   "outputs": [
    {
     "name": "stdout",
     "output_type": "stream",
     "text": [
      "   0: Account(name='billing', uid=6960f1e1-be98-40a6-8467-0a89363ebb09) - balance = -72.000000\n",
      "   1: Account(name='deposits', uid=5e881469-d772-4fd6-ae51-9123e5b68a38) - balance = 72.000000\n",
      "   2: Account(name='main account', uid=1c0a4fd0-61a7-4290-8936-453d035899ad) - balance = 0.000000\n"
     ]
    }
   ],
   "source": [
    "for (i,account) in enumerate(accounts):\n",
    "    print(\"%4d: %s - balance = %s\" % (i, str(account), account.balance()))"
   ]
  },
  {
   "cell_type": "code",
   "execution_count": 14,
   "metadata": {},
   "outputs": [
    {
     "data": {
      "text/plain": [
       "{'status': 0, 'message': 'Successfully logged out'}"
      ]
     },
     "execution_count": 14,
     "metadata": {},
     "output_type": "execute_result"
    }
   ],
   "source": [
    "user.logout()"
   ]
  },
  {
   "cell_type": "code",
   "execution_count": null,
   "metadata": {},
   "outputs": [],
   "source": []
  }
 ],
 "metadata": {
  "kernelspec": {
   "display_name": "Python 3",
   "language": "python",
   "name": "python3"
  },
  "language_info": {
   "codemirror_mode": {
    "name": "ipython",
    "version": 3
   },
   "file_extension": ".py",
   "mimetype": "text/x-python",
   "name": "python",
   "nbconvert_exporter": "python",
   "pygments_lexer": "ipython3",
   "version": "3.6.6"
  }
 },
 "nbformat": 4,
 "nbformat_minor": 2
}
