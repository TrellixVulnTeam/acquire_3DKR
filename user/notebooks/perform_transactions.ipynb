{
 "cells": [
  {
   "cell_type": "code",
   "execution_count": 1,
   "metadata": {},
   "outputs": [],
   "source": [
    "import Acquire.Client\n",
    "import Acquire.Accounting"
   ]
  },
  {
   "cell_type": "code",
   "execution_count": 2,
   "metadata": {},
   "outputs": [],
   "source": [
    "user = Acquire.Client.User(\"chryswoods\")"
   ]
  },
  {
   "cell_type": "code",
   "execution_count": 3,
   "metadata": {},
   "outputs": [
    {
     "name": "stdout",
     "output_type": "stream",
     "text": [
      "http://fn.acquire-aaai.com:8080/t/identity/s?id=ab19f217\n"
     ]
    },
    {
     "data": {
      "image/png": "[encoded data removed]",
      "text/plain": [
       "<qrcode.image.pil.PilImage at 0x1038d8940>"
      ]
     },
     "execution_count": 3,
     "metadata": {},
     "output_type": "execute_result"
    }
   ],
   "source": [
    "(url, qrcode) = user.request_login()\n",
    "print(url)\n",
    "qrcode"
   ]
  },
  {
   "cell_type": "code",
   "execution_count": 4,
   "metadata": {},
   "outputs": [
    {
     "data": {
      "text/plain": [
       "True"
      ]
     },
     "execution_count": 4,
     "metadata": {},
     "output_type": "execute_result"
    }
   ],
   "source": [
    "user.wait_for_login()\n",
    "user.is_logged_in()"
   ]
  },
  {
   "cell_type": "code",
   "execution_count": 5,
   "metadata": {},
   "outputs": [
    {
     "data": {
      "text/plain": [
       "{'status': 0,\n",
       " 'message': 'Success',\n",
       " 'transaction_records': [{'credit_note': {'account_uid': '5e881469-d772-4fd6-ae51-9123e5b68a38',\n",
       "    'debit_account_uid': '6960f1e1-be98-40a6-8467-0a89363ebb09',\n",
       "    'uid': '2019-02-20T17:29:51.868613/c79a3b46',\n",
       "    'debit_note_uid': '2019-02-20T17:29:51.807629/93cabbc4',\n",
       "    'datetime': '2019-02-20T17:29:51.868613',\n",
       "    'value': '5.000000',\n",
       "    'is_provisional': False},\n",
       "   'debit_note': {'transaction': {'value': '5.000000',\n",
       "     'description': 'Deposit on 2019-02-20 17:29:51.392000'},\n",
       "    'account_uid': '6960f1e1-be98-40a6-8467-0a89363ebb09',\n",
       "    'authorisation': {'user_uid': 'e2e31e35-025c-4a4c-8a7b-65da94e722d6',\n",
       "     'session_uid': 'ab19f217-b8d9-48c9-93b1-c8fcb1ad7361',\n",
       "     'identity_url': 'http://fn.acquire-aaai.com:8080/t/identity',\n",
       "     'identity_uid': 'fdac3ab5-3527-46f8-8432-c7ec8f586fc6',\n",
       "     'auth_datetime': '2019-02-20T17:29:39.036515',\n",
       "     'signature': 'goC/r18Hr7UykBKXc2LBPRQ5kA125+A2OjiTa+vg9yZzwieHJgA2+5zkSxv6g+5UOx0ScIx4QC8Kd78Y9taicF6Zbs2BeFXAEBA8w/tbUoTDPkLTzV3v8+oYvq4YauiGi1C4rjko1Z2vg4nfNIrnPVFa1nyEi1Zo1z3d1cDlM4Y8YrXleFkp3uhQ/k2oXEP9bm9RAU/EphlLIBSgirTAf+UpU4V6/srTjeCLiHcZVgHtP+rGc9ydPctQadfChYHcs2fLn1Im6jyC1PH/70NpPNssUpwwkUOde4oHLGXar4lInP1wCbp/YGS0j+so5qgr54H9Qgm2AmOoQzPZzFQwLA=='},\n",
       "    'is_provisional': False,\n",
       "    'datetime': '2019-02-20T17:29:51.807629',\n",
       "    'uid': '2019-02-20T17:29:51.807629/93cabbc4'},\n",
       "   'transaction_state': 'DR'}],\n",
       " 'invoice_user': 'e2e31e35-025c-4a4c-8a7b-65da94e722d6',\n",
       " 'invoice_value': '-55.000000'}"
      ]
     },
     "execution_count": 5,
     "metadata": {},
     "output_type": "execute_result"
    }
   ],
   "source": [
    "Acquire.Client.deposit(user=user, value=5.0)"
   ]
  },
  {
   "cell_type": "code",
   "execution_count": 6,
   "metadata": {},
   "outputs": [],
   "source": [
    "accounts = Acquire.Client.get_accounts(user)"
   ]
  },
  {
   "cell_type": "code",
   "execution_count": 7,
   "metadata": {},
   "outputs": [],
   "source": [
    "assert(len(accounts) > 1)"
   ]
  },
  {
   "cell_type": "code",
   "execution_count": 8,
   "metadata": {},
   "outputs": [
    {
     "name": "stdout",
     "output_type": "stream",
     "text": [
      "   0: Account(name='billing', uid=6960f1e1-be98-40a6-8467-0a89363ebb09) - balance = -55.000000\n",
      "   1: Account(name='deposits', uid=5e881469-d772-4fd6-ae51-9123e5b68a38) - balance = 55.000000\n",
      "   2: Account(name='main account', uid=1c0a4fd0-61a7-4290-8936-453d035899ad) - balance = 0.000000\n"
     ]
    }
   ],
   "source": [
    "for (i,account) in enumerate(accounts):\n",
    "    print(\"%4d: %s - balance = %s\" % (i, str(account), account.balance()))"
   ]
  },
  {
   "cell_type": "code",
   "execution_count": 10,
   "metadata": {},
   "outputs": [
    {
     "name": "stdout",
     "output_type": "stream",
     "text": [
      "Account(name='billing', uid=6960f1e1-be98-40a6-8467-0a89363ebb09) Account(name='deposits', uid=5e881469-d772-4fd6-ae51-9123e5b68a38)\n"
     ]
    }
   ],
   "source": [
    "account0 = accounts[0]\n",
    "account1 = accounts[1]\n",
    "print(account0, account1)"
   ]
  },
  {
   "cell_type": "code",
   "execution_count": 11,
   "metadata": {},
   "outputs": [],
   "source": [
    "transaction = Acquire.Accounting.Transaction(3.5, \"test transaction\")"
   ]
  },
  {
   "cell_type": "code",
   "execution_count": 12,
   "metadata": {},
   "outputs": [],
   "source": [
    "record = account0.perform(transaction, account1)"
   ]
  },
  {
   "cell_type": "code",
   "execution_count": 13,
   "metadata": {},
   "outputs": [
    {
     "name": "stdout",
     "output_type": "stream",
     "text": [
      "[{'credit_note': {'account_uid': '5e881469-d772-4fd6-ae51-9123e5b68a38', 'debit_account_uid': '6960f1e1-be98-40a6-8467-0a89363ebb09', 'uid': '2019-02-20T17:30:14.059511/126e4efe', 'debit_note_uid': '2019-02-20T17:30:13.993689/b7641167', 'datetime': '2019-02-20T17:30:14.059511', 'value': '3.500000', 'is_provisional': False}, 'debit_note': {'transaction': {'value': '3.500000', 'description': 'test transaction'}, 'account_uid': '6960f1e1-be98-40a6-8467-0a89363ebb09', 'authorisation': {'user_uid': 'e2e31e35-025c-4a4c-8a7b-65da94e722d6', 'session_uid': 'ab19f217-b8d9-48c9-93b1-c8fcb1ad7361', 'identity_url': 'http://fn.acquire-aaai.com:8080/t/identity', 'identity_uid': 'fdac3ab5-3527-46f8-8432-c7ec8f586fc6', 'auth_datetime': '2019-02-20T17:30:05.763270', 'signature': 'nzPsAYt+ZrdwKI2ZWkFFIJAMzp4fOXwbfw2VMg89mnZZeR4Tt4SieIrCh7QmCk0xWW1rkD21QLDeNPZRFu8AmqfcxskjECfbxaLOFjmHoi45dVBt2HFeRk8Ehiyrkz4DxXU1bza8hYXhCHD1JEmgxFJhy6hrWl4OPfZYsxMMBsyoZgnE1tcoSEwBgbpCwazVFvDQ2J/xDyej/B5ydvMLh16oqv3IOuyF4ToUAcyQfKISc6RN7l2+EJ3MOPkRJeinmIbvNpVDDe7kcyDABHeqxMEOk8iadoEn6YsCsGbkGBSMb5L6ubTbXHta9oJlvnCHY8tB5bsWcE/R1xmTKY9fLg=='}, 'is_provisional': False, 'datetime': '2019-02-20T17:30:13.993689', 'uid': '2019-02-20T17:30:13.993689/b7641167'}, 'transaction_state': 'DR'}]\n"
     ]
    }
   ],
   "source": [
    "print(record)"
   ]
  },
  {
   "cell_type": "code",
   "execution_count": 14,
   "metadata": {},
   "outputs": [
    {
     "name": "stdout",
     "output_type": "stream",
     "text": [
      "   0: Account(name='billing', uid=6960f1e1-be98-40a6-8467-0a89363ebb09) - balance = -58.500000\n",
      "   1: Account(name='deposits', uid=5e881469-d772-4fd6-ae51-9123e5b68a38) - balance = 58.500000\n",
      "   2: Account(name='main account', uid=1c0a4fd0-61a7-4290-8936-453d035899ad) - balance = 0.000000\n"
     ]
    }
   ],
   "source": [
    "for (i,account) in enumerate(accounts):\n",
    "    print(\"%4d: %s - balance = %s\" % (i, str(account), account.balance()))"
   ]
  },
  {
   "cell_type": "code",
   "execution_count": 15,
   "metadata": {},
   "outputs": [
    {
     "data": {
      "text/plain": [
       "{'status': 0, 'message': 'Successfully logged out'}"
      ]
     },
     "execution_count": 15,
     "metadata": {},
     "output_type": "execute_result"
    }
   ],
   "source": [
    "user.logout()"
   ]
  },
  {
   "cell_type": "code",
   "execution_count": null,
   "metadata": {},
   "outputs": [],
   "source": []
  }
 ],
 "metadata": {
  "kernelspec": {
   "display_name": "Python 3",
   "language": "python",
   "name": "python3"
  },
  "language_info": {
   "codemirror_mode": {
    "name": "ipython",
    "version": 3
   },
   "file_extension": ".py",
   "mimetype": "text/x-python",
   "name": "python",
   "nbconvert_exporter": "python",
   "pygments_lexer": "ipython3",
   "version": "3.6.6"
  }
 },
 "nbformat": 4,
 "nbformat_minor": 2
}
