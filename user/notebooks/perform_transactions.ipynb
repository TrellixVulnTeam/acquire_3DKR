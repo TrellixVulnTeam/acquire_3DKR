{
 "cells": [
  {
   "cell_type": "code",
   "execution_count": 1,
   "metadata": {},
   "outputs": [],
   "source": [
    "import Acquire.Client\n",
    "import Acquire.Accounting"
   ]
  },
  {
   "cell_type": "code",
   "execution_count": 2,
   "metadata": {},
   "outputs": [],
   "source": [
    "user = Acquire.Client.User(\"chryswoods\")"
   ]
  },
  {
   "cell_type": "code",
   "execution_count": 3,
   "metadata": {},
   "outputs": [
    {
     "data": {
      "text/plain": [
       "('http://130.61.60.88:8080/t/identity/5dc6a98c',\n",
       " <qrcode.image.pil.PilImage at 0x10ccbe518>)"
      ]
     },
     "execution_count": 3,
     "metadata": {},
     "output_type": "execute_result"
    }
   ],
   "source": [
    "user.request_login()"
   ]
  },
  {
   "cell_type": "code",
   "execution_count": 4,
   "metadata": {},
   "outputs": [
    {
     "data": {
      "text/plain": [
       "True"
      ]
     },
     "execution_count": 4,
     "metadata": {},
     "output_type": "execute_result"
    }
   ],
   "source": [
    "user.wait_for_login()\n",
    "user.is_logged_in()"
   ]
  },
  {
   "cell_type": "code",
   "execution_count": 5,
   "metadata": {},
   "outputs": [
    {
     "data": {
      "text/plain": [
       "{'status': 0,\n",
       " 'message': 'Success',\n",
       " 'transaction_records': [{'credit_note': {'account_uid': 'a5c9b900-9d59-4861-a3a2-2fb92d7f2156',\n",
       "    'debit_account_uid': '2ef8b484-5990-4b6b-b83c-bf541f350177',\n",
       "    'uid': '2018-10-25/1540503983.696164/13ba23b6',\n",
       "    'debit_note_uid': '2018-10-25/1540503983.615968/40808a25',\n",
       "    'timestamp': 1540503983.696164,\n",
       "    'value': '5.000000',\n",
       "    'is_provisional': False},\n",
       "   'debit_note': {'transaction': {'value': '5.000000',\n",
       "     'description': 'Deposit on 2018-10-25 21:46:20.842947'},\n",
       "    'account_uid': '2ef8b484-5990-4b6b-b83c-bf541f350177',\n",
       "    'authorisation': {'user_uid': '6f463b04-be60-4fbd-a2b6-44caaa61ac41',\n",
       "     'session_uid': '5dc6a98c-cca5-4d61-9fce-2c816e5ccc6f',\n",
       "     'identity_url': 'http://130.61.60.88:8080/t/identity',\n",
       "     'auth_timestamp': 1540503973.872917,\n",
       "     'signature': 'fXDdHNgqDsMMgbx+F8IlFy4bQzlV9p7bsczj5XjRGoFfsCkHxRaYha1hOdnL4yyIjHPvenIrTyDNvSs+d+WFVEnrrHjMR0TJVH3f1zwC/b4NJlfNUxvkkFZpGncleBWzrfxVU2ZWeJ1GR588LTwqUUuJAyzea4bRTiSXczrMhP0OXboIH6lBTUwHz4qx0hbSMWHdTxrRbOiGPuDAPV06OqRTWqrAKjUwMND1e0qso+2Z0XiZr77gwaBdS5Lz7sAJCVSuiveRRXPBmWJmaoOg79wcAIhpaAKKYUbLymMCX5c97oHPmiOdyPFjSDjigyPmrjiIMlBuUA1cj7uMXw7baQ=='},\n",
       "    'is_provisional': False,\n",
       "    'timestamp': 1540503983.615968,\n",
       "    'uid': '2018-10-25/1540503983.615968/40808a25'},\n",
       "   'transaction_state': 'DR'}],\n",
       " 'invoice_user': '6f463b04-be60-4fbd-a2b6-44caaa61ac41',\n",
       " 'invoice_value': '-90.000000'}"
      ]
     },
     "execution_count": 5,
     "metadata": {},
     "output_type": "execute_result"
    }
   ],
   "source": [
    "Acquire.Client.deposit(user=user, value=5.0)"
   ]
  },
  {
   "cell_type": "code",
   "execution_count": 6,
   "metadata": {},
   "outputs": [],
   "source": [
    "accounts = Acquire.Client.get_accounts(user)"
   ]
  },
  {
   "cell_type": "code",
   "execution_count": 7,
   "metadata": {},
   "outputs": [],
   "source": [
    "assert(len(accounts) > 1)"
   ]
  },
  {
   "cell_type": "code",
   "execution_count": 8,
   "metadata": {},
   "outputs": [
    {
     "name": "stdout",
     "output_type": "stream",
     "text": [
      "   0: Account(name='another account', uid=9db88d64-abcd-4ed6-b739-e4af7d7b79b9) - balance = 0.000000\n",
      "   1: Account(name='billing', uid=2ef8b484-5990-4b6b-b83c-bf541f350177) - balance = -90.000000\n",
      "   2: Account(name='deposits', uid=a5c9b900-9d59-4861-a3a2-2fb92d7f2156) - balance = 79.500000\n",
      "   3: Account(name='main', uid=419fa73f-ec89-4155-924f-766c4c14e08d) - balance = 0.000000\n",
      "   4: Account(name='main account', uid=b3d113c2-aa2b-4f04-a2a7-8d7eecdb3f91) - balance = 10.500000\n"
     ]
    }
   ],
   "source": [
    "for (i,account) in enumerate(accounts):\n",
    "    print(\"%4d: %s - balance = %s\" % (i, str(account), account.balance()))"
   ]
  },
  {
   "cell_type": "code",
   "execution_count": 9,
   "metadata": {},
   "outputs": [
    {
     "name": "stdout",
     "output_type": "stream",
     "text": [
      "Account(name='deposits', uid=a5c9b900-9d59-4861-a3a2-2fb92d7f2156) Account(name='main', uid=419fa73f-ec89-4155-924f-766c4c14e08d)\n"
     ]
    }
   ],
   "source": [
    "account0 = accounts[2]\n",
    "account1 = accounts[3]\n",
    "print(account0, account1)"
   ]
  },
  {
   "cell_type": "code",
   "execution_count": 10,
   "metadata": {},
   "outputs": [],
   "source": [
    "transaction = Acquire.Accounting.Transaction(3.5, \"test transaction\")"
   ]
  },
  {
   "cell_type": "code",
   "execution_count": 11,
   "metadata": {},
   "outputs": [],
   "source": [
    "record = account0.perform(transaction, account1)"
   ]
  },
  {
   "cell_type": "code",
   "execution_count": 12,
   "metadata": {},
   "outputs": [
    {
     "name": "stdout",
     "output_type": "stream",
     "text": [
      "[{'credit_note': {'account_uid': '419fa73f-ec89-4155-924f-766c4c14e08d', 'debit_account_uid': 'a5c9b900-9d59-4861-a3a2-2fb92d7f2156', 'uid': '2018-10-25/1540504021.348456/e413791a', 'debit_note_uid': '2018-10-25/1540504021.302048/3fdd4733', 'timestamp': 1540504021.348456, 'value': '3.500000', 'is_provisional': False}, 'debit_note': {'transaction': {'value': '3.500000', 'description': 'test transaction'}, 'account_uid': 'a5c9b900-9d59-4861-a3a2-2fb92d7f2156', 'authorisation': {'user_uid': '6f463b04-be60-4fbd-a2b6-44caaa61ac41', 'session_uid': '5dc6a98c-cca5-4d61-9fce-2c816e5ccc6f', 'identity_url': 'http://130.61.60.88:8080/t/identity', 'auth_timestamp': 1540504016.295768, 'signature': 'wVIoeqxMwMO3xTtH1R5gQBzbq5F0uob3iDhmKoPN0Cq1odLno+ZP4GAKH79HMl9dZTK3aTPkBzn8fxrTyw1lsmhQCeMkecWwHF0aw5aStyoIvyTuPTaHPxI/IxOQ7x2Lc6mPGkKHp3B8ZfuSVPzoiRjT5LwDV7AgG1eCCRqgurmzUNBZhKhrLFwEaSux5zATob6At59vYKaAU1bchjXXHSwm37lA8O9G5X/YRxAZGjET1oTXUTJ89tNKk7EwZVFZlBdonU+6njZPhB1tItp8gXgHi4jgKfG+qUvEnp2thaj2LlHqTDOmHokOqZdUyFYDIbbeNJD9/LJPNvhcTuSpUA=='}, 'is_provisional': False, 'timestamp': 1540504021.302048, 'uid': '2018-10-25/1540504021.302048/3fdd4733'}, 'transaction_state': 'DR'}]\n"
     ]
    }
   ],
   "source": [
    "print(record)"
   ]
  },
  {
   "cell_type": "code",
   "execution_count": 13,
   "metadata": {},
   "outputs": [
    {
     "name": "stdout",
     "output_type": "stream",
     "text": [
      "   0: Account(name='another account', uid=9db88d64-abcd-4ed6-b739-e4af7d7b79b9) - balance = 0.000000\n",
      "   1: Account(name='billing', uid=2ef8b484-5990-4b6b-b83c-bf541f350177) - balance = -90.000000\n",
      "   2: Account(name='deposits', uid=a5c9b900-9d59-4861-a3a2-2fb92d7f2156) - balance = 76.000000\n",
      "   3: Account(name='main', uid=419fa73f-ec89-4155-924f-766c4c14e08d) - balance = 3.500000\n",
      "   4: Account(name='main account', uid=b3d113c2-aa2b-4f04-a2a7-8d7eecdb3f91) - balance = 10.500000\n"
     ]
    }
   ],
   "source": [
    "for (i,account) in enumerate(accounts):\n",
    "    print(\"%4d: %s - balance = %s\" % (i, str(account), account.balance()))"
   ]
  },
  {
   "cell_type": "code",
   "execution_count": 14,
   "metadata": {},
   "outputs": [
    {
     "name": "stdout",
     "output_type": "stream",
     "text": [
      "Logging out chryswoods from session 5dc6a98c-cca5-4d61-9fce-2c816e5ccc6f\n",
      "{'status': 0, 'message': 'Successfully logged out'}\n"
     ]
    },
    {
     "data": {
      "text/plain": [
       "{'status': 0, 'message': 'Successfully logged out'}"
      ]
     },
     "execution_count": 14,
     "metadata": {},
     "output_type": "execute_result"
    }
   ],
   "source": [
    "user.logout()"
   ]
  },
  {
   "cell_type": "code",
   "execution_count": null,
   "metadata": {},
   "outputs": [],
   "source": []
  }
 ],
 "metadata": {
  "kernelspec": {
   "display_name": "Python 3",
   "language": "python",
   "name": "python3"
  },
  "language_info": {
   "codemirror_mode": {
    "name": "ipython",
    "version": 3
   },
   "file_extension": ".py",
   "mimetype": "text/x-python",
   "name": "python",
   "nbconvert_exporter": "python",
   "pygments_lexer": "ipython3",
   "version": "3.7.0"
  }
 },
 "nbformat": 4,
 "nbformat_minor": 2
}
