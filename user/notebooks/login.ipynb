{
 "cells": [
  {
   "cell_type": "code",
   "execution_count": 1,
   "metadata": {},
   "outputs": [],
   "source": [
    "from Acquire.Client import User"
   ]
  },
  {
   "cell_type": "code",
   "execution_count": 2,
   "metadata": {},
   "outputs": [],
   "source": [
    "user = User(\"chryswoods\")"
   ]
  },
  {
   "cell_type": "code",
   "execution_count": 3,
   "metadata": {},
   "outputs": [
    {
     "ename": "LoginError",
     "evalue": "Have not received the identity service info from the identity service at 'http://fn.acquire-aaai.com:8080/t/identity'\n\nCAUSE: Traceback (most recent call last):\n  File \"/Users/chris/miniconda3/lib/python3.7/site-packages/acquire-0.0.5-py3.7.egg/Acquire/Client/_user.py\", line 42, in _get_identity_service\n    service = _Wallet.get_service(service_url=identity_url)\n  File \"/Users/chris/miniconda3/lib/python3.7/site-packages/acquire-0.0.5-py3.7.egg/Acquire/Client/_wallet.py\", line 441, in get_service\n    existing_service.refresh_keys()\nAcquire.Service._errors.RemoteFunctionCallError: Calling None on http://fn.acquire-aaai.com:8080/t/identity exited with status -1: Error packing results: Cannot find a private certificate for 'IdentityService(url=http://fn.acquire-aaai.com:8080/t/identity, uid=fdac3ab5-3527-46f8-8432-c7ec8f586fc6)' that matches the fingerprint c2:66:e9:2f:0a:b2:30:77:53:5b:ee:14:37:33:9f:6d. This is either because you are using a certificate that is too old or you are requesting a wrong certificate. Please call refresh_keys on your Service object and try again: Cannot find a key or certificate with fingerprint 'c2:66:e9:2f:0a:b2:30:77:53:5b:ee:14:37:33:9f:6d'\n",
     "output_type": "error",
     "traceback": [
      "\u001b[0;31m---------------------------------------------------------------------------\u001b[0m",
      "\u001b[0;31mRemoteFunctionCallError\u001b[0m                   Traceback (most recent call last)",
      "\u001b[0;32m~/miniconda3/lib/python3.7/site-packages/acquire-0.0.5-py3.7.egg/Acquire/Client/_user.py\u001b[0m in \u001b[0;36m_get_identity_service\u001b[0;34m(identity_url)\u001b[0m\n\u001b[1;32m     41\u001b[0m         \u001b[0;32mfrom\u001b[0m \u001b[0mAcquire\u001b[0m\u001b[0;34m.\u001b[0m\u001b[0mClient\u001b[0m \u001b[0;32mimport\u001b[0m \u001b[0mWallet\u001b[0m \u001b[0;32mas\u001b[0m \u001b[0m_Wallet\u001b[0m\u001b[0;34m\u001b[0m\u001b[0;34m\u001b[0m\u001b[0m\n\u001b[0;32m---> 42\u001b[0;31m         \u001b[0mservice\u001b[0m \u001b[0;34m=\u001b[0m \u001b[0m_Wallet\u001b[0m\u001b[0;34m.\u001b[0m\u001b[0mget_service\u001b[0m\u001b[0;34m(\u001b[0m\u001b[0mservice_url\u001b[0m\u001b[0;34m=\u001b[0m\u001b[0midentity_url\u001b[0m\u001b[0;34m)\u001b[0m\u001b[0;34m\u001b[0m\u001b[0;34m\u001b[0m\u001b[0m\n\u001b[0m\u001b[1;32m     43\u001b[0m     \u001b[0;32mexcept\u001b[0m \u001b[0mException\u001b[0m \u001b[0;32mas\u001b[0m \u001b[0me\u001b[0m\u001b[0;34m:\u001b[0m\u001b[0;34m\u001b[0m\u001b[0;34m\u001b[0m\u001b[0m\n",
      "\u001b[0;32m~/miniconda3/lib/python3.7/site-packages/acquire-0.0.5-py3.7.egg/Acquire/Client/_wallet.py\u001b[0m in \u001b[0;36mget_service\u001b[0;34m(service_url)\u001b[0m\n\u001b[1;32m    440\u001b[0m             \u001b[0;32mif\u001b[0m \u001b[0mexisting_service\u001b[0m\u001b[0;34m.\u001b[0m\u001b[0mshould_refresh_keys\u001b[0m\u001b[0;34m(\u001b[0m\u001b[0;34m)\u001b[0m\u001b[0;34m:\u001b[0m\u001b[0;34m\u001b[0m\u001b[0;34m\u001b[0m\u001b[0m\n\u001b[0;32m--> 441\u001b[0;31m                 \u001b[0mexisting_service\u001b[0m\u001b[0;34m.\u001b[0m\u001b[0mrefresh_keys\u001b[0m\u001b[0;34m(\u001b[0m\u001b[0;34m)\u001b[0m\u001b[0;34m\u001b[0m\u001b[0;34m\u001b[0m\u001b[0m\n\u001b[0m\u001b[1;32m    442\u001b[0m                 \u001b[0mWallet\u001b[0m\u001b[0;34m.\u001b[0m\u001b[0madd_service\u001b[0m\u001b[0;34m(\u001b[0m\u001b[0mexisting_service\u001b[0m\u001b[0;34m)\u001b[0m\u001b[0;34m\u001b[0m\u001b[0;34m\u001b[0m\u001b[0m\n",
      "\u001b[0;32m~/miniconda3/lib/python3.7/site-packages/acquire-0.0.5-py3.7.egg/Acquire/Service/_service.py\u001b[0m in \u001b[0;36mrefresh_keys\u001b[0;34m(self)\u001b[0m\n\u001b[1;32m    365\u001b[0m                     \u001b[0mresponse_key\u001b[0m\u001b[0;34m=\u001b[0m\u001b[0m_get_private_key\u001b[0m\u001b[0;34m(\u001b[0m\u001b[0;34m\"function\"\u001b[0m\u001b[0;34m)\u001b[0m\u001b[0;34m,\u001b[0m\u001b[0;34m\u001b[0m\u001b[0;34m\u001b[0m\u001b[0m\n\u001b[0;32m--> 366\u001b[0;31m                     public_cert=self._pubcert)\n\u001b[0m\u001b[1;32m    367\u001b[0m \u001b[0;34m\u001b[0m\u001b[0m\n",
      "\u001b[0;32m~/miniconda3/lib/python3.7/site-packages/acquire-0.0.5-py3.7.egg/Acquire/Service/_function.py\u001b[0m in \u001b[0;36mcall_function\u001b[0;34m(service_url, function, args_key, response_key, public_cert, args, **kwargs)\u001b[0m\n\u001b[1;32m    454\u001b[0m     return unpack_return_value(result, response_key, public_cert,\n\u001b[0;32m--> 455\u001b[0;31m                                function=function, service=service_url)\n\u001b[0m",
      "\u001b[0;32m~/miniconda3/lib/python3.7/site-packages/acquire-0.0.5-py3.7.egg/Acquire/Service/_function.py\u001b[0m in \u001b[0;36munpack_return_value\u001b[0;34m(return_value, key, public_cert, function, service)\u001b[0m\n\u001b[1;32m    288\u001b[0m                             \u001b[0mis_return_value\u001b[0m\u001b[0;34m=\u001b[0m\u001b[0;32mTrue\u001b[0m\u001b[0;34m,\u001b[0m \u001b[0mfunction\u001b[0m\u001b[0;34m=\u001b[0m\u001b[0mfunction\u001b[0m\u001b[0;34m,\u001b[0m\u001b[0;34m\u001b[0m\u001b[0;34m\u001b[0m\u001b[0m\n\u001b[0;32m--> 289\u001b[0;31m                             service=service)\n\u001b[0m\u001b[1;32m    290\u001b[0m \u001b[0;34m\u001b[0m\u001b[0m\n",
      "\u001b[0;32m~/miniconda3/lib/python3.7/site-packages/acquire-0.0.5-py3.7.egg/Acquire/Service/_function.py\u001b[0m in \u001b[0;36munpack_arguments\u001b[0;34m(args, key, public_cert, is_return_value, function, service)\u001b[0m\n\u001b[1;32m    229\u001b[0m                         \u001b[0;34m\"Calling %s on %s exited with status %d: %s\"\u001b[0m \u001b[0;34m%\u001b[0m\u001b[0;34m\u001b[0m\u001b[0;34m\u001b[0m\u001b[0m\n\u001b[0;32m--> 230\u001b[0;31m                         (function, service, data[\"status\"], data[\"message\"]))\n\u001b[0m\u001b[1;32m    231\u001b[0m \u001b[0;34m\u001b[0m\u001b[0m\n",
      "\u001b[0;31mRemoteFunctionCallError\u001b[0m: Calling None on http://fn.acquire-aaai.com:8080/t/identity exited with status -1: Error packing results: Cannot find a private certificate for 'IdentityService(url=http://fn.acquire-aaai.com:8080/t/identity, uid=fdac3ab5-3527-46f8-8432-c7ec8f586fc6)' that matches the fingerprint c2:66:e9:2f:0a:b2:30:77:53:5b:ee:14:37:33:9f:6d. This is either because you are using a certificate that is too old or you are requesting a wrong certificate. Please call refresh_keys on your Service object and try again: Cannot find a key or certificate with fingerprint 'c2:66:e9:2f:0a:b2:30:77:53:5b:ee:14:37:33:9f:6d'",
      "\nDuring handling of the above exception, another exception occurred:\n",
      "\u001b[0;31mLoginError\u001b[0m                                Traceback (most recent call last)",
      "\u001b[0;32m<ipython-input-3-0a999765d6c6>\u001b[0m in \u001b[0;36m<module>\u001b[0;34m\u001b[0m\n\u001b[0;32m----> 1\u001b[0;31m \u001b[0;34m(\u001b[0m\u001b[0murl\u001b[0m\u001b[0;34m,\u001b[0m\u001b[0mqrcode\u001b[0m\u001b[0;34m)\u001b[0m \u001b[0;34m=\u001b[0m \u001b[0muser\u001b[0m\u001b[0;34m.\u001b[0m\u001b[0mrequest_login\u001b[0m\u001b[0;34m(\u001b[0m\u001b[0;34m)\u001b[0m\u001b[0;34m\u001b[0m\u001b[0;34m\u001b[0m\u001b[0m\n\u001b[0m",
      "\u001b[0;32m~/miniconda3/lib/python3.7/site-packages/acquire-0.0.5-py3.7.egg/Acquire/Client/_user.py\u001b[0m in \u001b[0;36mrequest_login\u001b[0;34m(self, login_message, _is_local)\u001b[0m\n\u001b[1;32m    426\u001b[0m         \u001b[0margs\u001b[0m\u001b[0;34m[\u001b[0m\u001b[0;34m\"message\"\u001b[0m\u001b[0;34m]\u001b[0m \u001b[0;34m=\u001b[0m \u001b[0mlogin_message\u001b[0m\u001b[0;34m\u001b[0m\u001b[0;34m\u001b[0m\u001b[0m\n\u001b[1;32m    427\u001b[0m \u001b[0;34m\u001b[0m\u001b[0m\n\u001b[0;32m--> 428\u001b[0;31m         \u001b[0midentity_service\u001b[0m \u001b[0;34m=\u001b[0m \u001b[0mself\u001b[0m\u001b[0;34m.\u001b[0m\u001b[0midentity_service\u001b[0m\u001b[0;34m(\u001b[0m\u001b[0;34m)\u001b[0m\u001b[0;34m\u001b[0m\u001b[0;34m\u001b[0m\u001b[0m\n\u001b[0m\u001b[1;32m    429\u001b[0m \u001b[0;34m\u001b[0m\u001b[0m\n\u001b[1;32m    430\u001b[0m         args = {\"username\": self._username,\n",
      "\u001b[0;32m~/miniconda3/lib/python3.7/site-packages/acquire-0.0.5-py3.7.egg/Acquire/Client/_user.py\u001b[0m in \u001b[0;36midentity_service\u001b[0;34m(self)\u001b[0m\n\u001b[1;32m    231\u001b[0m \u001b[0;34m\u001b[0m\u001b[0m\n\u001b[1;32m    232\u001b[0m         identity_service = _get_identity_service(\n\u001b[0;32m--> 233\u001b[0;31m                                 self.identity_service_url())\n\u001b[0m\u001b[1;32m    234\u001b[0m \u001b[0;34m\u001b[0m\u001b[0m\n\u001b[1;32m    235\u001b[0m         \u001b[0;31m# if the user supplied the UID then validate this is correct\u001b[0m\u001b[0;34m\u001b[0m\u001b[0;34m\u001b[0m\u001b[0;34m\u001b[0m\u001b[0m\n",
      "\u001b[0;32m~/miniconda3/lib/python3.7/site-packages/acquire-0.0.5-py3.7.egg/Acquire/Client/_user.py\u001b[0m in \u001b[0;36m_get_identity_service\u001b[0;34m(identity_url)\u001b[0m\n\u001b[1;32m     45\u001b[0m         raise LoginError(\"Have not received the identity service info from \"\n\u001b[1;32m     46\u001b[0m                          \u001b[0;34m\"the identity service at '%s'\\n\\nCAUSE: %s\"\u001b[0m \u001b[0;34m%\u001b[0m\u001b[0;34m\u001b[0m\u001b[0;34m\u001b[0m\u001b[0m\n\u001b[0;32m---> 47\u001b[0;31m                          (identity_url, exception_to_string(e)))\n\u001b[0m\u001b[1;32m     48\u001b[0m \u001b[0;34m\u001b[0m\u001b[0m\n\u001b[1;32m     49\u001b[0m     \u001b[0;32mif\u001b[0m \u001b[0;32mnot\u001b[0m \u001b[0mservice\u001b[0m\u001b[0;34m.\u001b[0m\u001b[0mcan_identify_users\u001b[0m\u001b[0;34m(\u001b[0m\u001b[0;34m)\u001b[0m\u001b[0;34m:\u001b[0m\u001b[0;34m\u001b[0m\u001b[0;34m\u001b[0m\u001b[0m\n",
      "\u001b[0;31mLoginError\u001b[0m: Have not received the identity service info from the identity service at 'http://fn.acquire-aaai.com:8080/t/identity'\n\nCAUSE: Traceback (most recent call last):\n  File \"/Users/chris/miniconda3/lib/python3.7/site-packages/acquire-0.0.5-py3.7.egg/Acquire/Client/_user.py\", line 42, in _get_identity_service\n    service = _Wallet.get_service(service_url=identity_url)\n  File \"/Users/chris/miniconda3/lib/python3.7/site-packages/acquire-0.0.5-py3.7.egg/Acquire/Client/_wallet.py\", line 441, in get_service\n    existing_service.refresh_keys()\nAcquire.Service._errors.RemoteFunctionCallError: Calling None on http://fn.acquire-aaai.com:8080/t/identity exited with status -1: Error packing results: Cannot find a private certificate for 'IdentityService(url=http://fn.acquire-aaai.com:8080/t/identity, uid=fdac3ab5-3527-46f8-8432-c7ec8f586fc6)' that matches the fingerprint c2:66:e9:2f:0a:b2:30:77:53:5b:ee:14:37:33:9f:6d. This is either because you are using a certificate that is too old or you are requesting a wrong certificate. Please call refresh_keys on your Service object and try again: Cannot find a key or certificate with fingerprint 'c2:66:e9:2f:0a:b2:30:77:53:5b:ee:14:37:33:9f:6d'\n"
     ]
    }
   ],
   "source": [
    "(url,qrcode) = user.request_login()"
   ]
  },
  {
   "cell_type": "code",
   "execution_count": null,
   "metadata": {},
   "outputs": [],
   "source": [
    "qrcode"
   ]
  },
  {
   "cell_type": "code",
   "execution_count": null,
   "metadata": {},
   "outputs": [],
   "source": [
    "from IPython.core.display import HTML\n",
    "print(url)\n",
    "HTML(\"<a href='%s'>Login here</a>\" % url)"
   ]
  },
  {
   "cell_type": "code",
   "execution_count": null,
   "metadata": {
    "scrolled": true
   },
   "outputs": [],
   "source": [
    "user.wait_for_login()"
   ]
  },
  {
   "cell_type": "code",
   "execution_count": 4,
   "metadata": {},
   "outputs": [
    {
     "data": {
      "text/plain": [
       "False"
      ]
     },
     "execution_count": 4,
     "metadata": {},
     "output_type": "execute_result"
    }
   ],
   "source": [
    "user.is_logged_in()"
   ]
  },
  {
   "cell_type": "code",
   "execution_count": 5,
   "metadata": {},
   "outputs": [],
   "source": [
    "user.logout()"
   ]
  },
  {
   "cell_type": "code",
   "execution_count": null,
   "metadata": {},
   "outputs": [],
   "source": []
  },
  {
   "cell_type": "code",
   "execution_count": null,
   "metadata": {},
   "outputs": [],
   "source": []
  }
 ],
 "metadata": {
  "kernelspec": {
   "display_name": "Python 3",
   "language": "python",
   "name": "python3"
  },
  "language_info": {
   "codemirror_mode": {
    "name": "ipython",
    "version": 3
   },
   "file_extension": ".py",
   "mimetype": "text/x-python",
   "name": "python",
   "nbconvert_exporter": "python",
   "pygments_lexer": "ipython3",
   "version": "3.7.1"
  }
 },
 "nbformat": 4,
 "nbformat_minor": 2
}
