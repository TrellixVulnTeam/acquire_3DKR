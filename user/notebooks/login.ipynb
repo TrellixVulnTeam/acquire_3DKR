{
 "cells": [
  {
   "cell_type": "code",
   "execution_count": 1,
   "metadata": {},
   "outputs": [],
   "source": [
    "from Acquire.Client import User"
   ]
  },
  {
   "cell_type": "code",
   "execution_count": 2,
   "metadata": {},
   "outputs": [],
   "source": [
    "user = User(\"chryswoods\", identity_url=\"http://identity.acquire-aaai.com:8080/t/identity\")"
   ]
  },
  {
   "cell_type": "code",
   "execution_count": 3,
   "metadata": {},
   "outputs": [
    {
     "ename": "LoginError",
     "evalue": "Have not received the identity service info from the identity service at 'http://identity.acquire-aaai.com:8080/t/identity' - got '{'status': 0, 'message': 'Success', 'service_info': {'uuid': '09ab80b3-5a67-4f26-9611-49c9a146ffec', 'service_type': 'identity', 'service_url': 'http://130.61.60.88:8080/t/identity', 'public_certificate': {'bytes': 'LS0tLS1CRUdJTiBQVUJMSUMgS0VZLS0tLS0KTUlJQklqQU5CZ2txaGtpRzl3MEJBUUVGQUFPQ0FROEFNSUlCQ2dLQ0FRRUFxa0VpKzIzQ09scGtYVVQzMThXUQpjT2MyaUJXckI2Zk1rSFVxWVUxeWFDMU4yN3pjTFRFZHpnM0x4OXRtelpZdERTM2ZZb3B0YTdsd09RVmQxN2VDClUwaCtDWGdEd0JPdGgrMGFQRUp1Tyt6ZnQ1Nkc2QkxaYU5JTmlycnJ0TDFXc2RTKzZQTWdDaXMrTVVZeXJiMHIKbExqRytHa3l5RVVwOUI0MmRhUFBHYkMvVFNkR3lpelg4U0JIeGllS3dXS2JYUngrMTJCVUJTelpMYXd4eUNlNwpOclRCRFNmR283TmU0ekVldzhaTHNSdzc0ZnZxU0FFWElSZVBhTmo0Tms2R0xheUlzYmJLeVpPcmRjQVNiRndFClI5UkhVR2ZBd3JSWTIxdUNid3F0U1RVbVpWbXpTcllaSExSeHZ2MlB6U1JOYS9mOFRYZjFUbVZWZmF6SUIrVHoKSHdJREFRQUIKLS0tLS1FTkQgUFVCTElDIEtFWS0tLS0tCg=='}, 'public_key': {'bytes': 'LS0tLS1CRUdJTiBQVUJMSUMgS0VZLS0tLS0KTUlJQklqQU5CZ2txaGtpRzl3MEJBUUVGQUFPQ0FROEFNSUlCQ2dLQ0FRRUFzR0cycjJXWXljR0t0MXEzc1hZdAprbkZaVjVSa1Z5TUV2M2VZS2o0VDExMG41b241bzBBNms1NU13cTZPVFZpUVhLVVd3enQ0K09oWDY4cXNjM2ZPCnZ2aFFZdGZpT2prcXJvNFI0djhXaXdxbjlwdmdocW04b1FmTlhqRWw1ODBvV0w4SFMzTFgvQk9TQVFyMHNpQkYKN0hMWW9QVlVrcVovdmFuUWlwWlJhNXZmTlZoNXVBcGs0b2xRRzJzL3kyZnVSZzQydEhpbldObk1YdE0wWTVGbgprV1lUK00xL3BrUDRpSVB0akg0VUg0OTQyaG5SSkRwZXArWWpJQ1g5eVZQcHRSbFhIdWYrbVVtTThNZGpHcFp1Cks3cHppTGh6L2tNNzcwejhlMEluYzEzcFNBV2VLRmRKbjFMa3F2a24vVU9XN1pMVVV6Q1VKdGZ2VjlJb0hkbVcKZ1FJREFRQUIKLS0tLS1FTkQgUFVCTElDIEtFWS0tLS0tCg=='}}}'",
     "output_type": "error",
     "traceback": [
      "\u001b[0;31m---------------------------------------------------------------------------\u001b[0m",
      "\u001b[0;31mKeyError\u001b[0m                                  Traceback (most recent call last)",
      "\u001b[0;32m~/Work/acquire/source/Acquire/Client/_user.py\u001b[0m in \u001b[0;36m_get_identity_service\u001b[0;34m(identity_url)\u001b[0m\n\u001b[1;32m     55\u001b[0m     \u001b[0;32mtry\u001b[0m\u001b[0;34m:\u001b[0m\u001b[0;34m\u001b[0m\u001b[0m\n\u001b[0;32m---> 56\u001b[0;31m         \u001b[0mservice\u001b[0m \u001b[0;34m=\u001b[0m \u001b[0m_Service\u001b[0m\u001b[0;34m.\u001b[0m\u001b[0mfrom_data\u001b[0m\u001b[0;34m(\u001b[0m\u001b[0mresponse\u001b[0m\u001b[0;34m[\u001b[0m\u001b[0;34m\"service_info\"\u001b[0m\u001b[0;34m]\u001b[0m\u001b[0;34m)\u001b[0m\u001b[0;34m\u001b[0m\u001b[0m\n\u001b[0m\u001b[1;32m     57\u001b[0m     \u001b[0;32mexcept\u001b[0m\u001b[0;34m:\u001b[0m\u001b[0;34m\u001b[0m\u001b[0m\n",
      "\u001b[0;32m~/Work/acquire/source/Acquire/Service/_service.py\u001b[0m in \u001b[0;36mfrom_data\u001b[0;34m(data, password)\u001b[0m\n\u001b[1;32m    877\u001b[0m \u001b[0;34m\u001b[0m\u001b[0m\n\u001b[0;32m--> 878\u001b[0;31m         \u001b[0mservice\u001b[0m\u001b[0;34m.\u001b[0m\u001b[0m_uid\u001b[0m \u001b[0;34m=\u001b[0m \u001b[0mdata\u001b[0m\u001b[0;34m[\u001b[0m\u001b[0;34m\"uid\"\u001b[0m\u001b[0;34m]\u001b[0m\u001b[0;34m\u001b[0m\u001b[0m\n\u001b[0m\u001b[1;32m    879\u001b[0m         \u001b[0mservice\u001b[0m\u001b[0;34m.\u001b[0m\u001b[0m_service_type\u001b[0m \u001b[0;34m=\u001b[0m \u001b[0mdata\u001b[0m\u001b[0;34m[\u001b[0m\u001b[0;34m\"service_type\"\u001b[0m\u001b[0;34m]\u001b[0m\u001b[0;34m\u001b[0m\u001b[0m\n",
      "\u001b[0;31mKeyError\u001b[0m: 'uid'",
      "\nDuring handling of the above exception, another exception occurred:\n",
      "\u001b[0;31mLoginError\u001b[0m                                Traceback (most recent call last)",
      "\u001b[0;32m<ipython-input-3-0a999765d6c6>\u001b[0m in \u001b[0;36m<module>\u001b[0;34m()\u001b[0m\n\u001b[0;32m----> 1\u001b[0;31m \u001b[0;34m(\u001b[0m\u001b[0murl\u001b[0m\u001b[0;34m,\u001b[0m\u001b[0mqrcode\u001b[0m\u001b[0;34m)\u001b[0m \u001b[0;34m=\u001b[0m \u001b[0muser\u001b[0m\u001b[0;34m.\u001b[0m\u001b[0mrequest_login\u001b[0m\u001b[0;34m(\u001b[0m\u001b[0;34m)\u001b[0m\u001b[0;34m\u001b[0m\u001b[0m\n\u001b[0m",
      "\u001b[0;32m~/Work/acquire/source/Acquire/Client/_user.py\u001b[0m in \u001b[0;36mrequest_login\u001b[0;34m(self, login_message)\u001b[0m\n\u001b[1;32m    426\u001b[0m         result = _call_function(\n\u001b[1;32m    427\u001b[0m             \u001b[0mself\u001b[0m\u001b[0;34m.\u001b[0m\u001b[0midentity_service_url\u001b[0m\u001b[0;34m(\u001b[0m\u001b[0;34m)\u001b[0m\u001b[0;34m,\u001b[0m \u001b[0;34m\"request_login\"\u001b[0m\u001b[0;34m,\u001b[0m\u001b[0;34m\u001b[0m\u001b[0m\n\u001b[0;32m--> 428\u001b[0;31m             \u001b[0margs_key\u001b[0m\u001b[0;34m=\u001b[0m\u001b[0mself\u001b[0m\u001b[0;34m.\u001b[0m\u001b[0midentity_service\u001b[0m\u001b[0;34m(\u001b[0m\u001b[0;34m)\u001b[0m\u001b[0;34m.\u001b[0m\u001b[0mpublic_key\u001b[0m\u001b[0;34m(\u001b[0m\u001b[0;34m)\u001b[0m\u001b[0;34m,\u001b[0m\u001b[0;34m\u001b[0m\u001b[0m\n\u001b[0m\u001b[1;32m    429\u001b[0m             \u001b[0mresponse_key\u001b[0m\u001b[0;34m=\u001b[0m\u001b[0msession_key\u001b[0m\u001b[0;34m,\u001b[0m\u001b[0;34m\u001b[0m\u001b[0m\n\u001b[1;32m    430\u001b[0m             \u001b[0mpublic_cert\u001b[0m\u001b[0;34m=\u001b[0m\u001b[0mself\u001b[0m\u001b[0;34m.\u001b[0m\u001b[0midentity_service\u001b[0m\u001b[0;34m(\u001b[0m\u001b[0;34m)\u001b[0m\u001b[0;34m.\u001b[0m\u001b[0mpublic_certificate\u001b[0m\u001b[0;34m(\u001b[0m\u001b[0;34m)\u001b[0m\u001b[0;34m,\u001b[0m\u001b[0;34m\u001b[0m\u001b[0m\n",
      "\u001b[0;32m~/Work/acquire/source/Acquire/Client/_user.py\u001b[0m in \u001b[0;36midentity_service\u001b[0;34m(self)\u001b[0m\n\u001b[1;32m    240\u001b[0m \u001b[0;34m\u001b[0m\u001b[0m\n\u001b[1;32m    241\u001b[0m         identity_service = _get_identity_service(\n\u001b[0;32m--> 242\u001b[0;31m                                 self.identity_service_url())\n\u001b[0m\u001b[1;32m    243\u001b[0m \u001b[0;34m\u001b[0m\u001b[0m\n\u001b[1;32m    244\u001b[0m         \u001b[0;31m# if the user supplied the UID then validate this is correct\u001b[0m\u001b[0;34m\u001b[0m\u001b[0;34m\u001b[0m\u001b[0m\n",
      "\u001b[0;32m~/Work/acquire/source/Acquire/Client/_user.py\u001b[0m in \u001b[0;36m_get_identity_service\u001b[0;34m(identity_url)\u001b[0m\n\u001b[1;32m     58\u001b[0m         raise LoginError(\"Have not received the identity service info from \"\n\u001b[1;32m     59\u001b[0m                          \u001b[0;34m\"the identity service at '%s' - got '%s'\"\u001b[0m \u001b[0;34m%\u001b[0m\u001b[0;34m\u001b[0m\u001b[0m\n\u001b[0;32m---> 60\u001b[0;31m                          (identity_url, response))\n\u001b[0m\u001b[1;32m     61\u001b[0m \u001b[0;34m\u001b[0m\u001b[0m\n\u001b[1;32m     62\u001b[0m     \u001b[0;32mif\u001b[0m \u001b[0;32mnot\u001b[0m \u001b[0mservice\u001b[0m\u001b[0;34m.\u001b[0m\u001b[0mcan_identify_users\u001b[0m\u001b[0;34m(\u001b[0m\u001b[0;34m)\u001b[0m\u001b[0;34m:\u001b[0m\u001b[0;34m\u001b[0m\u001b[0m\n",
      "\u001b[0;31mLoginError\u001b[0m: Have not received the identity service info from the identity service at 'http://identity.acquire-aaai.com:8080/t/identity' - got '{'status': 0, 'message': 'Success', 'service_info': {'uuid': '09ab80b3-5a67-4f26-9611-49c9a146ffec', 'service_type': 'identity', 'service_url': 'http://130.61.60.88:8080/t/identity', 'public_certificate': {'bytes': 'LS0tLS1CRUdJTiBQVUJMSUMgS0VZLS0tLS0KTUlJQklqQU5CZ2txaGtpRzl3MEJBUUVGQUFPQ0FROEFNSUlCQ2dLQ0FRRUFxa0VpKzIzQ09scGtYVVQzMThXUQpjT2MyaUJXckI2Zk1rSFVxWVUxeWFDMU4yN3pjTFRFZHpnM0x4OXRtelpZdERTM2ZZb3B0YTdsd09RVmQxN2VDClUwaCtDWGdEd0JPdGgrMGFQRUp1Tyt6ZnQ1Nkc2QkxaYU5JTmlycnJ0TDFXc2RTKzZQTWdDaXMrTVVZeXJiMHIKbExqRytHa3l5RVVwOUI0MmRhUFBHYkMvVFNkR3lpelg4U0JIeGllS3dXS2JYUngrMTJCVUJTelpMYXd4eUNlNwpOclRCRFNmR283TmU0ekVldzhaTHNSdzc0ZnZxU0FFWElSZVBhTmo0Tms2R0xheUlzYmJLeVpPcmRjQVNiRndFClI5UkhVR2ZBd3JSWTIxdUNid3F0U1RVbVpWbXpTcllaSExSeHZ2MlB6U1JOYS9mOFRYZjFUbVZWZmF6SUIrVHoKSHdJREFRQUIKLS0tLS1FTkQgUFVCTElDIEtFWS0tLS0tCg=='}, 'public_key': {'bytes': 'LS0tLS1CRUdJTiBQVUJMSUMgS0VZLS0tLS0KTUlJQklqQU5CZ2txaGtpRzl3MEJBUUVGQUFPQ0FROEFNSUlCQ2dLQ0FRRUFzR0cycjJXWXljR0t0MXEzc1hZdAprbkZaVjVSa1Z5TUV2M2VZS2o0VDExMG41b241bzBBNms1NU13cTZPVFZpUVhLVVd3enQ0K09oWDY4cXNjM2ZPCnZ2aFFZdGZpT2prcXJvNFI0djhXaXdxbjlwdmdocW04b1FmTlhqRWw1ODBvV0w4SFMzTFgvQk9TQVFyMHNpQkYKN0hMWW9QVlVrcVovdmFuUWlwWlJhNXZmTlZoNXVBcGs0b2xRRzJzL3kyZnVSZzQydEhpbldObk1YdE0wWTVGbgprV1lUK00xL3BrUDRpSVB0akg0VUg0OTQyaG5SSkRwZXArWWpJQ1g5eVZQcHRSbFhIdWYrbVVtTThNZGpHcFp1Cks3cHppTGh6L2tNNzcwejhlMEluYzEzcFNBV2VLRmRKbjFMa3F2a24vVU9XN1pMVVV6Q1VKdGZ2VjlJb0hkbVcKZ1FJREFRQUIKLS0tLS1FTkQgUFVCTElDIEtFWS0tLS0tCg=='}}}'"
     ]
    }
   ],
   "source": [
    "(url,qrcode) = user.request_login()"
   ]
  },
  {
   "cell_type": "code",
   "execution_count": null,
   "metadata": {},
   "outputs": [],
   "source": [
    "qrcode"
   ]
  },
  {
   "cell_type": "code",
   "execution_count": null,
   "metadata": {},
   "outputs": [],
   "source": [
    "from IPython.core.display import HTML\n",
    "print(url)\n",
    "HTML(\"<a href='%s'>Login here</a>\" % url)"
   ]
  },
  {
   "cell_type": "code",
   "execution_count": null,
   "metadata": {
    "scrolled": true
   },
   "outputs": [],
   "source": [
    "user.wait_for_login()"
   ]
  },
  {
   "cell_type": "code",
   "execution_count": null,
   "metadata": {},
   "outputs": [],
   "source": [
    "user.is_logged_in()"
   ]
  },
  {
   "cell_type": "code",
   "execution_count": null,
   "metadata": {},
   "outputs": [],
   "source": [
    "user.logout()"
   ]
  },
  {
   "cell_type": "code",
   "execution_count": null,
   "metadata": {},
   "outputs": [],
   "source": []
  },
  {
   "cell_type": "code",
   "execution_count": null,
   "metadata": {},
   "outputs": [],
   "source": []
  }
 ],
 "metadata": {
  "kernelspec": {
   "display_name": "Python 3",
   "language": "python",
   "name": "python3"
  },
  "language_info": {
   "codemirror_mode": {
    "name": "ipython",
    "version": 3
   },
   "file_extension": ".py",
   "mimetype": "text/x-python",
   "name": "python",
   "nbconvert_exporter": "python",
   "pygments_lexer": "ipython3",
   "version": "3.6.6"
  }
 },
 "nbformat": 4,
 "nbformat_minor": 2
}
