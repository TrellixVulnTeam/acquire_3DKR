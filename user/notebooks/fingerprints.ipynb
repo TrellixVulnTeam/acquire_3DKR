{
 "cells": [
  {
   "cell_type": "code",
   "execution_count": 6,
   "metadata": {},
   "outputs": [],
   "source": [
    "from Acquire.Client import Wallet\n",
    "from Acquire.ObjectStore import bytes_to_string"
   ]
  },
  {
   "cell_type": "code",
   "execution_count": 2,
   "metadata": {},
   "outputs": [],
   "source": [
    "base_url = \"http://fn.acquire-aaai.com:8080/t\""
   ]
  },
  {
   "cell_type": "code",
   "execution_count": 3,
   "metadata": {},
   "outputs": [],
   "source": [
    "services = [\"identity\", \"accounting\", \"access\", \"storage\"]"
   ]
  },
  {
   "cell_type": "code",
   "execution_count": 10,
   "metadata": {},
   "outputs": [
    {
     "name": "stdout",
     "output_type": "stream",
     "text": [
      "\n",
      "IdentityService(url=http://fn.acquire-aaai.com:8080/t/identity, uid=fdac3ab5-3527-46f8-8432-c7ec8f586fc6)\n",
      "public key\n",
      "LS0tLS1CRUdJTiBQVUJMSUMgS0VZLS0tLS0KTUlJQklqQU5CZ2txaGtpRzl3MEJBUUVGQUFPQ0FROEFNSUlCQ2dLQ0FRRUF3WEM3YVhtclFGR2NhdVIza3FkYQphQkNhaEdYL25SdUdOZXgrUjBBNXpaMTd5MFlibFhjOFl3RnlETXg0QWtIT3lwRXMrQmlURW5pbSt3aTZpTFljCkZoaFZ3OFNiZFRSRGlSNHAvZ3lRNVV3MVdDSks3czFMUnhQQlZ4QkZBOEJPYVZ4NlFwVG85dkV0SGZKRHN0cjQKVXcvQ0hWQm1uZ3d1ZWczWWhUOU5hT1FxRGFvLzZLb0RjQnExdmlQVjBhbDE4RzZEZFU5S3JySnQrSlEwRm5DWgpnYTZlalNzbENPNW9tVHU3TllmK2dveW5GUGY3SmlSZ3VEMmRwcmVoQ2RMTWliWnNIWkZzMmhWT1lIYU1tNUN1Clk2SHpVQnBzbnFzMzN1QnRCYVhIUGZVeEhEczRwS0lnR1R3OUl6VlJOUk42WlA0NkNDMitLQWoxVGE5ZTU0Y1YKQ3dJREFRQUIKLS0tLS1FTkQgUFVCTElDIEtFWS0tLS0tCg==\n",
      "\n",
      "fingerprint 70:3d:6d:f9:39:e5:17:6d:c9:01:cf:67:0b:d4:97:cf\n",
      "\n",
      "AccountingService(url=http://fn.acquire-aaai.com:8080/t/accounting, uid=ee005e09-c312-44be-bcce-08ac158a1234)\n",
      "public key\n",
      "LS0tLS1CRUdJTiBQVUJMSUMgS0VZLS0tLS0KTUlJQklqQU5CZ2txaGtpRzl3MEJBUUVGQUFPQ0FROEFNSUlCQ2dLQ0FRRUE3TTV6MVJ6emJHNHM4U3ArbU1NaAoxMDh0RUVHUlF6Wlgyb2JrdjJvVmdjL0N2MldQeGltY0lUeWFjdm1DbXRJR0NOZm5zMjU4Zy91S3h5VnpuRlRuCkRtNnNmZWZyamVWZStwZk1pYWZOYUdHZEhyYmtRWUhGZ0dteE9mOTBDWlJ6eUI3RHJ6WUVMQ1Y4VWx6bFdPUVcKYlBjSkp3ZG4vOFVpMlBiVGhvWldXRmVWVzUrMExBcFlydkVDdkJTSHBNcDlvTG5yRUc4MXZ3WkpzZm9ZZHZGYQoxZ1RCckxCZGQ5d3h5OXFpdXB5akRpdG5uRkE1Q3RkNktWelI5M2laME91OGFBVmNOeFV4STZHVUs0cjFwSEw0ClJ6emQzeUtTWGdDWUJrZEhWTXVBTDVGQUZLbHgxUXlDRkt5ZHhudjZxOG5GM0hRTEUxSmFDVXVmVGxpWFd1b2MKR3dJREFRQUIKLS0tLS1FTkQgUFVCTElDIEtFWS0tLS0tCg==\n",
      "\n",
      "fingerprint 10:d8:4e:e7:2e:13:ec:f3:81:00:4a:57:5b:af:3c:11\n",
      "\n",
      "AccessService(url=http://fn.acquire-aaai.com:8080/t/access, uid=ab495477-5781-45f3-baef-1a17f62d4c56)\n",
      "public key\n",
      "LS0tLS1CRUdJTiBQVUJMSUMgS0VZLS0tLS0KTUlJQklqQU5CZ2txaGtpRzl3MEJBUUVGQUFPQ0FROEFNSUlCQ2dLQ0FRRUEyZlFPVms1TjAxN2NhaDRpMHppVQpoekpwZ3VUYXNpK0p1blVzaGRhQW5pTy9yRUs4ajd1NExTTkdHckt0akhYWjhFTnRWSGJpS0ZCWWs3d3BCMklRClNqa2dLNHVvajladFZjU2lTNTAwMlNrZDZyVzRhYmpZVW8xMFU3Y3ZVZFVJbDlTU3BHYWdrL2Z4Sm1CNmdSN1kKNHVtYnAwdlg4VHRrbkQ1eDNtVkduaGZhSUp2dHZyNnAxdDdDZUpiMXl1Q0xwdVZvbzNBV2hicWk5TFZpN2ZLNQp4WjFBUXJmWUd3eGlGZHQ0YzlHSDlJdkRRSEZHdWF1Qk9sOXZLZ2RLTzRSc0hwUTFiRThPNXY4YUdxUGxhSXBOCkJVWnJDK1JkSjZzdWlQTXhZM05yMkV4cjJ2QzNZbk1RNnZQS2JZNG1PYlQ0MnhlY1RIWWt3a3I1YzdHT3d2ZkQKdXdJREFRQUIKLS0tLS1FTkQgUFVCTElDIEtFWS0tLS0tCg==\n",
      "\n",
      "fingerprint 95:b2:ca:29:ae:53:c2:46:94:02:7b:13:44:d2:06:ca\n",
      "\n",
      "StorageService(url=http://fn.acquire-aaai.com:8080/t/storage, uid=c91771a1-3132-42f7-aebc-b7fe63119776)\n",
      "public key\n",
      "LS0tLS1CRUdJTiBQVUJMSUMgS0VZLS0tLS0KTUlJQklqQU5CZ2txaGtpRzl3MEJBUUVGQUFPQ0FROEFNSUlCQ2dLQ0FRRUF3bHR5cEtSeFJZcDAwUVJyaVdZbgpZcEZkZS94M0liODh5MGZCY0F0MmRRbVBkZnkrODArdkZMQkxLS3pVSjhrNE90cGVSTVRDYlAxSHVmT2NqK3YwCjZ6TEtiMGNMbnBDd01tZHdiVlRJOXNrczVmaGd1dXhYaVF0cGE0VzRYeU1SWTV5OVZJeTJPcmlVUTRCMHBON1AKZERrSTlYclRaTGtBNHlxbHNBZHZlbHBDc2FMb3RhdGFGRUxxYnJGQWtPRXM1MmNWNnZ2aUNJNERLdUZlZ0FBRAo5dzdBVmNkRHBRQk1LWnBRM0FBMlF5OVpEOFRHVjVncHBVWXV4QVMwNi9hQkdFcU5wbDNrWU5rRWwxQy9mU3UxCnpjWHpaMzNCSXFYTithc0I1akNGNTErYWQza25YR25UOUlZVFFNT3dyamRzVU9lSVhWK3B2N1V2Q2tBK1JsZ3EKY1FJREFRQUIKLS0tLS1FTkQgUFVCTElDIEtFWS0tLS0tCg==\n",
      "\n",
      "fingerprint e7:12:dc:0f:2b:34:18:97:41:53:4b:6d:08:ff:c9:45\n"
     ]
    }
   ],
   "source": [
    "for service in services:\n",
    "    s = Wallet.get_service(\"%s/%s\" % (base_url, service))\n",
    "    print(\"\\n%s\" % s)\n",
    "    print(\"public key\\n%s\" % bytes_to_string(s.public_key().bytes()))\n",
    "    print(\"\\nfingerprint %s\" % s.public_key().fingerprint())"
   ]
  },
  {
   "cell_type": "code",
   "execution_count": null,
   "metadata": {},
   "outputs": [],
   "source": []
  }
 ],
 "metadata": {
  "kernelspec": {
   "display_name": "Python 3",
   "language": "python",
   "name": "python3"
  },
  "language_info": {
   "codemirror_mode": {
    "name": "ipython",
    "version": 3
   },
   "file_extension": ".py",
   "mimetype": "text/x-python",
   "name": "python",
   "nbconvert_exporter": "python",
   "pygments_lexer": "ipython3",
   "version": "3.6.6"
  }
 },
 "nbformat": 4,
 "nbformat_minor": 2
}
