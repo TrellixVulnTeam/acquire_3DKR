{
 "cells": [
  {
   "cell_type": "code",
   "execution_count": 1,
   "metadata": {},
   "outputs": [],
   "source": [
    "import Acquire.Service\n",
    "import Acquire.Crypto\n",
    "import datetime"
   ]
  },
  {
   "cell_type": "code",
   "execution_count": 2,
   "metadata": {},
   "outputs": [],
   "source": [
    "function_url = \"http://130.61.60.88:8080/t/identity\""
   ]
  },
  {
   "cell_type": "code",
   "execution_count": 14,
   "metadata": {},
   "outputs": [
    {
     "name": "stdout",
     "output_type": "stream",
     "text": [
      "0:00:00.087603\n",
      "{}\n"
     ]
    }
   ],
   "source": [
    "t1 = datetime.datetime.now()\n",
    "response = Acquire.Service.call_function(function_url, \"warm\")\n",
    "t2 = datetime.datetime.now()\n",
    "print(t2-t1)\n",
    "print(response)"
   ]
  },
  {
   "cell_type": "code",
   "execution_count": null,
   "metadata": {},
   "outputs": [],
   "source": [
    "import Acquire.ObjectStore\n",
    "data = Acquire.ObjectStore.string_to_bytes(response[\"profile_data\"])\n",
    "with open(\"/tmp/profile.data\", \"wb\") as FILE:\n",
    "    FILE.write(data)\n",
    "import os\n",
    "os.system(\"/Users/chris/miniconda3/bin/tuna /tmp/profile.data\")"
   ]
  },
  {
   "cell_type": "code",
   "execution_count": null,
   "metadata": {},
   "outputs": [],
   "source": [
    "response"
   ]
  },
  {
   "cell_type": "code",
   "execution_count": null,
   "metadata": {},
   "outputs": [],
   "source": []
  }
 ],
 "metadata": {
  "kernelspec": {
   "display_name": "Python 3",
   "language": "python",
   "name": "python3"
  },
  "language_info": {
   "codemirror_mode": {
    "name": "ipython",
    "version": 3
   },
   "file_extension": ".py",
   "mimetype": "text/x-python",
   "name": "python",
   "nbconvert_exporter": "python",
   "pygments_lexer": "ipython3",
   "version": "3.7.0"
  }
 },
 "nbformat": 4,
 "nbformat_minor": 2
}
